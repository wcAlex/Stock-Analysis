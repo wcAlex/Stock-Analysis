{
 "metadata": {
  "language_info": {
   "codemirror_mode": {
    "name": "ipython",
    "version": 3
   },
   "file_extension": ".py",
   "mimetype": "text/x-python",
   "name": "python",
   "nbconvert_exporter": "python",
   "pygments_lexer": "ipython3",
   "version": "3.8.8-final"
  },
  "orig_nbformat": 2,
  "kernelspec": {
   "name": "python3",
   "display_name": "Python 3.8.8 64-bit ('robinhood': conda)",
   "metadata": {
    "interpreter": {
     "hash": "75c9c67fb9b306f1bc491b7efdd7c181fce84fca56d807813694b724f3f132b5"
    }
   }
  }
 },
 "nbformat": 4,
 "nbformat_minor": 2,
 "cells": [
  {
   "cell_type": "code",
   "execution_count": 3,
   "metadata": {},
   "outputs": [],
   "source": [
    "import numpy as np\n",
    "import pandas as pd"
   ]
  },
  {
   "cell_type": "code",
   "execution_count": 4,
   "metadata": {},
   "outputs": [
    {
     "output_type": "execute_result",
     "data": {
      "text/plain": [
       "0    1.0\n",
       "1    3.0\n",
       "2    5.0\n",
       "3    NaN\n",
       "4    6.0\n",
       "5    8.0\n",
       "dtype: float64"
      ]
     },
     "metadata": {},
     "execution_count": 4
    }
   ],
   "source": [
    "s = pd.Series([1, 3, 5, np.nan, 6, 8])\n",
    "s"
   ]
  },
  {
   "cell_type": "code",
   "execution_count": 5,
   "metadata": {},
   "outputs": [
    {
     "output_type": "execute_result",
     "data": {
      "text/plain": [
       "DatetimeIndex(['2013-01-01', '2013-01-02', '2013-01-03', '2013-01-04',\n",
       "               '2013-01-05', '2013-01-06'],\n",
       "              dtype='datetime64[ns]', freq='D')"
      ]
     },
     "metadata": {},
     "execution_count": 5
    }
   ],
   "source": [
    "dates = pd.date_range(\"20130101\", periods=6)\n",
    "dates"
   ]
  },
  {
   "cell_type": "code",
   "execution_count": 6,
   "metadata": {},
   "outputs": [
    {
     "output_type": "execute_result",
     "data": {
      "text/plain": [
       "                   A         B         C         D\n",
       "2013-01-01  0.851338 -0.312256 -0.773268 -0.632304\n",
       "2013-01-02  0.196262  0.358674 -1.851737  1.536524\n",
       "2013-01-03  1.597763  1.195549  0.494986 -0.796393\n",
       "2013-01-04  0.251666  0.923832  0.499409 -0.050403\n",
       "2013-01-05 -0.851596 -0.204661 -0.655062 -0.177842\n",
       "2013-01-06  1.136118 -0.434907  0.486478 -0.465396"
      ],
      "text/html": "<div>\n<style scoped>\n    .dataframe tbody tr th:only-of-type {\n        vertical-align: middle;\n    }\n\n    .dataframe tbody tr th {\n        vertical-align: top;\n    }\n\n    .dataframe thead th {\n        text-align: right;\n    }\n</style>\n<table border=\"1\" class=\"dataframe\">\n  <thead>\n    <tr style=\"text-align: right;\">\n      <th></th>\n      <th>A</th>\n      <th>B</th>\n      <th>C</th>\n      <th>D</th>\n    </tr>\n  </thead>\n  <tbody>\n    <tr>\n      <th>2013-01-01</th>\n      <td>0.851338</td>\n      <td>-0.312256</td>\n      <td>-0.773268</td>\n      <td>-0.632304</td>\n    </tr>\n    <tr>\n      <th>2013-01-02</th>\n      <td>0.196262</td>\n      <td>0.358674</td>\n      <td>-1.851737</td>\n      <td>1.536524</td>\n    </tr>\n    <tr>\n      <th>2013-01-03</th>\n      <td>1.597763</td>\n      <td>1.195549</td>\n      <td>0.494986</td>\n      <td>-0.796393</td>\n    </tr>\n    <tr>\n      <th>2013-01-04</th>\n      <td>0.251666</td>\n      <td>0.923832</td>\n      <td>0.499409</td>\n      <td>-0.050403</td>\n    </tr>\n    <tr>\n      <th>2013-01-05</th>\n      <td>-0.851596</td>\n      <td>-0.204661</td>\n      <td>-0.655062</td>\n      <td>-0.177842</td>\n    </tr>\n    <tr>\n      <th>2013-01-06</th>\n      <td>1.136118</td>\n      <td>-0.434907</td>\n      <td>0.486478</td>\n      <td>-0.465396</td>\n    </tr>\n  </tbody>\n</table>\n</div>"
     },
     "metadata": {},
     "execution_count": 6
    }
   ],
   "source": [
    "df = pd.DataFrame(np.random.randn(6, 4), index=dates, columns=list(\"ABCD\"))\n",
    "df"
   ]
  },
  {
   "cell_type": "code",
   "execution_count": 7,
   "metadata": {},
   "outputs": [
    {
     "output_type": "execute_result",
     "data": {
      "text/plain": [
       "DatetimeIndex(['2013-01-01', '2013-01-02', '2013-01-03', '2013-01-04',\n",
       "               '2013-01-05', '2013-01-06'],\n",
       "              dtype='datetime64[ns]', freq='D')"
      ]
     },
     "metadata": {},
     "execution_count": 7
    }
   ],
   "source": [
    "df.index"
   ]
  },
  {
   "cell_type": "code",
   "execution_count": 8,
   "metadata": {},
   "outputs": [
    {
     "output_type": "execute_result",
     "data": {
      "text/plain": [
       "Index(['A', 'B', 'C', 'D'], dtype='object')"
      ]
     },
     "metadata": {},
     "execution_count": 8
    }
   ],
   "source": [
    "df.columns"
   ]
  },
  {
   "cell_type": "code",
   "execution_count": 9,
   "metadata": {},
   "outputs": [
    {
     "output_type": "execute_result",
     "data": {
      "text/plain": [
       "              A         B         C         D\n",
       "count  6.000000  6.000000  6.000000  6.000000\n",
       "mean   0.530258  0.254372 -0.299866 -0.097636\n",
       "std    0.861210  0.685821  0.964110  0.847174\n",
       "min   -0.851596 -0.434907 -1.851737 -0.796393\n",
       "25%    0.210113 -0.285358 -0.743717 -0.590577\n",
       "50%    0.551502  0.077007 -0.084292 -0.321619\n",
       "75%    1.064923  0.782542  0.492859 -0.082263\n",
       "max    1.597763  1.195549  0.499409  1.536524"
      ],
      "text/html": "<div>\n<style scoped>\n    .dataframe tbody tr th:only-of-type {\n        vertical-align: middle;\n    }\n\n    .dataframe tbody tr th {\n        vertical-align: top;\n    }\n\n    .dataframe thead th {\n        text-align: right;\n    }\n</style>\n<table border=\"1\" class=\"dataframe\">\n  <thead>\n    <tr style=\"text-align: right;\">\n      <th></th>\n      <th>A</th>\n      <th>B</th>\n      <th>C</th>\n      <th>D</th>\n    </tr>\n  </thead>\n  <tbody>\n    <tr>\n      <th>count</th>\n      <td>6.000000</td>\n      <td>6.000000</td>\n      <td>6.000000</td>\n      <td>6.000000</td>\n    </tr>\n    <tr>\n      <th>mean</th>\n      <td>0.530258</td>\n      <td>0.254372</td>\n      <td>-0.299866</td>\n      <td>-0.097636</td>\n    </tr>\n    <tr>\n      <th>std</th>\n      <td>0.861210</td>\n      <td>0.685821</td>\n      <td>0.964110</td>\n      <td>0.847174</td>\n    </tr>\n    <tr>\n      <th>min</th>\n      <td>-0.851596</td>\n      <td>-0.434907</td>\n      <td>-1.851737</td>\n      <td>-0.796393</td>\n    </tr>\n    <tr>\n      <th>25%</th>\n      <td>0.210113</td>\n      <td>-0.285358</td>\n      <td>-0.743717</td>\n      <td>-0.590577</td>\n    </tr>\n    <tr>\n      <th>50%</th>\n      <td>0.551502</td>\n      <td>0.077007</td>\n      <td>-0.084292</td>\n      <td>-0.321619</td>\n    </tr>\n    <tr>\n      <th>75%</th>\n      <td>1.064923</td>\n      <td>0.782542</td>\n      <td>0.492859</td>\n      <td>-0.082263</td>\n    </tr>\n    <tr>\n      <th>max</th>\n      <td>1.597763</td>\n      <td>1.195549</td>\n      <td>0.499409</td>\n      <td>1.536524</td>\n    </tr>\n  </tbody>\n</table>\n</div>"
     },
     "metadata": {},
     "execution_count": 9
    }
   ],
   "source": [
    "df.describe()"
   ]
  },
  {
   "cell_type": "code",
   "execution_count": 10,
   "metadata": {},
   "outputs": [
    {
     "output_type": "execute_result",
     "data": {
      "text/plain": [
       "                   D         C         B         A\n",
       "2013-01-01 -0.632304 -0.773268 -0.312256  0.851338\n",
       "2013-01-02  1.536524 -1.851737  0.358674  0.196262\n",
       "2013-01-03 -0.796393  0.494986  1.195549  1.597763\n",
       "2013-01-04 -0.050403  0.499409  0.923832  0.251666\n",
       "2013-01-05 -0.177842 -0.655062 -0.204661 -0.851596\n",
       "2013-01-06 -0.465396  0.486478 -0.434907  1.136118"
      ],
      "text/html": "<div>\n<style scoped>\n    .dataframe tbody tr th:only-of-type {\n        vertical-align: middle;\n    }\n\n    .dataframe tbody tr th {\n        vertical-align: top;\n    }\n\n    .dataframe thead th {\n        text-align: right;\n    }\n</style>\n<table border=\"1\" class=\"dataframe\">\n  <thead>\n    <tr style=\"text-align: right;\">\n      <th></th>\n      <th>D</th>\n      <th>C</th>\n      <th>B</th>\n      <th>A</th>\n    </tr>\n  </thead>\n  <tbody>\n    <tr>\n      <th>2013-01-01</th>\n      <td>-0.632304</td>\n      <td>-0.773268</td>\n      <td>-0.312256</td>\n      <td>0.851338</td>\n    </tr>\n    <tr>\n      <th>2013-01-02</th>\n      <td>1.536524</td>\n      <td>-1.851737</td>\n      <td>0.358674</td>\n      <td>0.196262</td>\n    </tr>\n    <tr>\n      <th>2013-01-03</th>\n      <td>-0.796393</td>\n      <td>0.494986</td>\n      <td>1.195549</td>\n      <td>1.597763</td>\n    </tr>\n    <tr>\n      <th>2013-01-04</th>\n      <td>-0.050403</td>\n      <td>0.499409</td>\n      <td>0.923832</td>\n      <td>0.251666</td>\n    </tr>\n    <tr>\n      <th>2013-01-05</th>\n      <td>-0.177842</td>\n      <td>-0.655062</td>\n      <td>-0.204661</td>\n      <td>-0.851596</td>\n    </tr>\n    <tr>\n      <th>2013-01-06</th>\n      <td>-0.465396</td>\n      <td>0.486478</td>\n      <td>-0.434907</td>\n      <td>1.136118</td>\n    </tr>\n  </tbody>\n</table>\n</div>"
     },
     "metadata": {},
     "execution_count": 10
    }
   ],
   "source": [
    "df.sort_index(axis=1, ascending=False)"
   ]
  },
  {
   "cell_type": "code",
   "execution_count": 13,
   "metadata": {},
   "outputs": [
    {
     "output_type": "execute_result",
     "data": {
      "text/plain": [
       "                   A         B         C         D\n",
       "2013-01-06  1.136118 -0.434907  0.486478 -0.465396\n",
       "2013-01-05 -0.851596 -0.204661 -0.655062 -0.177842\n",
       "2013-01-04  0.251666  0.923832  0.499409 -0.050403\n",
       "2013-01-03  1.597763  1.195549  0.494986 -0.796393\n",
       "2013-01-02  0.196262  0.358674 -1.851737  1.536524\n",
       "2013-01-01  0.851338 -0.312256 -0.773268 -0.632304"
      ],
      "text/html": "<div>\n<style scoped>\n    .dataframe tbody tr th:only-of-type {\n        vertical-align: middle;\n    }\n\n    .dataframe tbody tr th {\n        vertical-align: top;\n    }\n\n    .dataframe thead th {\n        text-align: right;\n    }\n</style>\n<table border=\"1\" class=\"dataframe\">\n  <thead>\n    <tr style=\"text-align: right;\">\n      <th></th>\n      <th>A</th>\n      <th>B</th>\n      <th>C</th>\n      <th>D</th>\n    </tr>\n  </thead>\n  <tbody>\n    <tr>\n      <th>2013-01-06</th>\n      <td>1.136118</td>\n      <td>-0.434907</td>\n      <td>0.486478</td>\n      <td>-0.465396</td>\n    </tr>\n    <tr>\n      <th>2013-01-05</th>\n      <td>-0.851596</td>\n      <td>-0.204661</td>\n      <td>-0.655062</td>\n      <td>-0.177842</td>\n    </tr>\n    <tr>\n      <th>2013-01-04</th>\n      <td>0.251666</td>\n      <td>0.923832</td>\n      <td>0.499409</td>\n      <td>-0.050403</td>\n    </tr>\n    <tr>\n      <th>2013-01-03</th>\n      <td>1.597763</td>\n      <td>1.195549</td>\n      <td>0.494986</td>\n      <td>-0.796393</td>\n    </tr>\n    <tr>\n      <th>2013-01-02</th>\n      <td>0.196262</td>\n      <td>0.358674</td>\n      <td>-1.851737</td>\n      <td>1.536524</td>\n    </tr>\n    <tr>\n      <th>2013-01-01</th>\n      <td>0.851338</td>\n      <td>-0.312256</td>\n      <td>-0.773268</td>\n      <td>-0.632304</td>\n    </tr>\n  </tbody>\n</table>\n</div>"
     },
     "metadata": {},
     "execution_count": 13
    }
   ],
   "source": [
    "df.sort_index(axis=0, ascending=False)"
   ]
  },
  {
   "cell_type": "code",
   "execution_count": 14,
   "metadata": {},
   "outputs": [
    {
     "output_type": "execute_result",
     "data": {
      "text/plain": [
       "          0         1         2         3\n",
       "0 -0.690261  0.691747 -0.502969 -0.285034\n",
       "1  0.194050 -1.534112  2.132799  0.218202\n",
       "2  0.947133  0.034281 -1.356807 -0.783495\n",
       "3 -0.735319 -1.288565  2.191676 -0.282730\n",
       "4 -1.342663 -1.651082 -0.956562  1.935466\n",
       "5 -0.554470  0.770768  0.317454  0.428099\n",
       "6  0.050493 -0.394464 -0.049388  0.118061\n",
       "7 -1.208483 -0.935496  1.262935  0.197179\n",
       "8  1.224376 -0.818372  1.130287  0.176105\n",
       "9 -0.145275 -0.808689  0.144801  1.149199"
      ],
      "text/html": "<div>\n<style scoped>\n    .dataframe tbody tr th:only-of-type {\n        vertical-align: middle;\n    }\n\n    .dataframe tbody tr th {\n        vertical-align: top;\n    }\n\n    .dataframe thead th {\n        text-align: right;\n    }\n</style>\n<table border=\"1\" class=\"dataframe\">\n  <thead>\n    <tr style=\"text-align: right;\">\n      <th></th>\n      <th>0</th>\n      <th>1</th>\n      <th>2</th>\n      <th>3</th>\n    </tr>\n  </thead>\n  <tbody>\n    <tr>\n      <th>0</th>\n      <td>-0.690261</td>\n      <td>0.691747</td>\n      <td>-0.502969</td>\n      <td>-0.285034</td>\n    </tr>\n    <tr>\n      <th>1</th>\n      <td>0.194050</td>\n      <td>-1.534112</td>\n      <td>2.132799</td>\n      <td>0.218202</td>\n    </tr>\n    <tr>\n      <th>2</th>\n      <td>0.947133</td>\n      <td>0.034281</td>\n      <td>-1.356807</td>\n      <td>-0.783495</td>\n    </tr>\n    <tr>\n      <th>3</th>\n      <td>-0.735319</td>\n      <td>-1.288565</td>\n      <td>2.191676</td>\n      <td>-0.282730</td>\n    </tr>\n    <tr>\n      <th>4</th>\n      <td>-1.342663</td>\n      <td>-1.651082</td>\n      <td>-0.956562</td>\n      <td>1.935466</td>\n    </tr>\n    <tr>\n      <th>5</th>\n      <td>-0.554470</td>\n      <td>0.770768</td>\n      <td>0.317454</td>\n      <td>0.428099</td>\n    </tr>\n    <tr>\n      <th>6</th>\n      <td>0.050493</td>\n      <td>-0.394464</td>\n      <td>-0.049388</td>\n      <td>0.118061</td>\n    </tr>\n    <tr>\n      <th>7</th>\n      <td>-1.208483</td>\n      <td>-0.935496</td>\n      <td>1.262935</td>\n      <td>0.197179</td>\n    </tr>\n    <tr>\n      <th>8</th>\n      <td>1.224376</td>\n      <td>-0.818372</td>\n      <td>1.130287</td>\n      <td>0.176105</td>\n    </tr>\n    <tr>\n      <th>9</th>\n      <td>-0.145275</td>\n      <td>-0.808689</td>\n      <td>0.144801</td>\n      <td>1.149199</td>\n    </tr>\n  </tbody>\n</table>\n</div>"
     },
     "metadata": {},
     "execution_count": 14
    }
   ],
   "source": [
    "df = pd.DataFrame(np.random.randn(10, 4))\n",
    "df"
   ]
  },
  {
   "cell_type": "code",
   "execution_count": 16,
   "metadata": {},
   "outputs": [
    {
     "output_type": "execute_result",
     "data": {
      "text/plain": [
       "[          0         1         2         3\n",
       " 0 -0.690261  0.691747 -0.502969 -0.285034\n",
       " 1  0.194050 -1.534112  2.132799  0.218202\n",
       " 2  0.947133  0.034281 -1.356807 -0.783495,\n",
       "           0         1         2         3\n",
       " 3 -0.735319 -1.288565  2.191676 -0.282730\n",
       " 4 -1.342663 -1.651082 -0.956562  1.935466\n",
       " 5 -0.554470  0.770768  0.317454  0.428099\n",
       " 6  0.050493 -0.394464 -0.049388  0.118061,\n",
       "           0         1         2         3\n",
       " 7 -1.208483 -0.935496  1.262935  0.197179\n",
       " 8  1.224376 -0.818372  1.130287  0.176105\n",
       " 9 -0.145275 -0.808689  0.144801  1.149199]"
      ]
     },
     "metadata": {},
     "execution_count": 16
    }
   ],
   "source": [
    "pieces = [df[:3], df[3:7], df[7:]]\n",
    "pieces"
   ]
  },
  {
   "cell_type": "code",
   "execution_count": 19,
   "metadata": {},
   "outputs": [
    {
     "output_type": "execute_result",
     "data": {
      "text/plain": [
       "DatetimeIndex(['2012-01-01 00:00:00', '2012-01-01 00:00:01',\n",
       "               '2012-01-01 00:00:02', '2012-01-01 00:00:03',\n",
       "               '2012-01-01 00:00:04', '2012-01-01 00:00:05',\n",
       "               '2012-01-01 00:00:06', '2012-01-01 00:00:07',\n",
       "               '2012-01-01 00:00:08', '2012-01-01 00:00:09',\n",
       "               '2012-01-01 00:00:10', '2012-01-01 00:00:11',\n",
       "               '2012-01-01 00:00:12', '2012-01-01 00:00:13',\n",
       "               '2012-01-01 00:00:14', '2012-01-01 00:00:15',\n",
       "               '2012-01-01 00:00:16', '2012-01-01 00:00:17',\n",
       "               '2012-01-01 00:00:18', '2012-01-01 00:00:19',\n",
       "               '2012-01-01 00:00:20', '2012-01-01 00:00:21',\n",
       "               '2012-01-01 00:00:22', '2012-01-01 00:00:23',\n",
       "               '2012-01-01 00:00:24', '2012-01-01 00:00:25',\n",
       "               '2012-01-01 00:00:26', '2012-01-01 00:00:27',\n",
       "               '2012-01-01 00:00:28', '2012-01-01 00:00:29',\n",
       "               '2012-01-01 00:00:30', '2012-01-01 00:00:31',\n",
       "               '2012-01-01 00:00:32', '2012-01-01 00:00:33',\n",
       "               '2012-01-01 00:00:34', '2012-01-01 00:00:35',\n",
       "               '2012-01-01 00:00:36', '2012-01-01 00:00:37',\n",
       "               '2012-01-01 00:00:38', '2012-01-01 00:00:39',\n",
       "               '2012-01-01 00:00:40', '2012-01-01 00:00:41',\n",
       "               '2012-01-01 00:00:42', '2012-01-01 00:00:43',\n",
       "               '2012-01-01 00:00:44', '2012-01-01 00:00:45',\n",
       "               '2012-01-01 00:00:46', '2012-01-01 00:00:47',\n",
       "               '2012-01-01 00:00:48', '2012-01-01 00:00:49',\n",
       "               '2012-01-01 00:00:50', '2012-01-01 00:00:51',\n",
       "               '2012-01-01 00:00:52', '2012-01-01 00:00:53',\n",
       "               '2012-01-01 00:00:54', '2012-01-01 00:00:55',\n",
       "               '2012-01-01 00:00:56', '2012-01-01 00:00:57',\n",
       "               '2012-01-01 00:00:58', '2012-01-01 00:00:59',\n",
       "               '2012-01-01 00:01:00', '2012-01-01 00:01:01',\n",
       "               '2012-01-01 00:01:02', '2012-01-01 00:01:03',\n",
       "               '2012-01-01 00:01:04', '2012-01-01 00:01:05',\n",
       "               '2012-01-01 00:01:06', '2012-01-01 00:01:07',\n",
       "               '2012-01-01 00:01:08', '2012-01-01 00:01:09',\n",
       "               '2012-01-01 00:01:10', '2012-01-01 00:01:11',\n",
       "               '2012-01-01 00:01:12', '2012-01-01 00:01:13',\n",
       "               '2012-01-01 00:01:14', '2012-01-01 00:01:15',\n",
       "               '2012-01-01 00:01:16', '2012-01-01 00:01:17',\n",
       "               '2012-01-01 00:01:18', '2012-01-01 00:01:19',\n",
       "               '2012-01-01 00:01:20', '2012-01-01 00:01:21',\n",
       "               '2012-01-01 00:01:22', '2012-01-01 00:01:23',\n",
       "               '2012-01-01 00:01:24', '2012-01-01 00:01:25',\n",
       "               '2012-01-01 00:01:26', '2012-01-01 00:01:27',\n",
       "               '2012-01-01 00:01:28', '2012-01-01 00:01:29',\n",
       "               '2012-01-01 00:01:30', '2012-01-01 00:01:31',\n",
       "               '2012-01-01 00:01:32', '2012-01-01 00:01:33',\n",
       "               '2012-01-01 00:01:34', '2012-01-01 00:01:35',\n",
       "               '2012-01-01 00:01:36', '2012-01-01 00:01:37',\n",
       "               '2012-01-01 00:01:38', '2012-01-01 00:01:39'],\n",
       "              dtype='datetime64[ns]', freq='S')"
      ]
     },
     "metadata": {},
     "execution_count": 19
    }
   ],
   "source": [
    "rng = pd.date_range(\"1/1/2012\", periods=100, freq=\"S\")\n",
    "rng"
   ]
  },
  {
   "cell_type": "code",
   "execution_count": 20,
   "metadata": {},
   "outputs": [
    {
     "output_type": "execute_result",
     "data": {
      "text/plain": [
       "2012-01-01 00:00:00    423\n",
       "2012-01-01 00:00:01    369\n",
       "2012-01-01 00:00:02    109\n",
       "2012-01-01 00:00:03     92\n",
       "2012-01-01 00:00:04     40\n",
       "                      ... \n",
       "2012-01-01 00:01:35     33\n",
       "2012-01-01 00:01:36    156\n",
       "2012-01-01 00:01:37    180\n",
       "2012-01-01 00:01:38     36\n",
       "2012-01-01 00:01:39    376\n",
       "Freq: S, Length: 100, dtype: int64"
      ]
     },
     "metadata": {},
     "execution_count": 20
    }
   ],
   "source": [
    "ts = pd.Series(np.random.randint(0, 500, len(rng)), index=rng)\n",
    "ts"
   ]
  },
  {
   "cell_type": "code",
   "execution_count": 22,
   "metadata": {},
   "outputs": [
    {
     "output_type": "execute_result",
     "data": {
      "text/plain": [
       "2012-01-01    24198\n",
       "Freq: 5T, dtype: int64"
      ]
     },
     "metadata": {},
     "execution_count": 22
    }
   ],
   "source": [
    "ts.resample(\"5Min\").sum()"
   ]
  },
  {
   "cell_type": "code",
   "execution_count": 26,
   "metadata": {},
   "outputs": [
    {
     "output_type": "execute_result",
     "data": {
      "text/plain": [
       "<AxesSubplot:>"
      ]
     },
     "metadata": {},
     "execution_count": 26
    },
    {
     "output_type": "display_data",
     "data": {
      "text/plain": "<Figure size 432x288 with 1 Axes>",
      "image/svg+xml": "<?xml version=\"1.0\" encoding=\"utf-8\" standalone=\"no\"?>\n<!DOCTYPE svg PUBLIC \"-//W3C//DTD SVG 1.1//EN\"\n  \"http://www.w3.org/Graphics/SVG/1.1/DTD/svg11.dtd\">\n<!-- Created with matplotlib (https://matplotlib.org/) -->\n<svg height=\"259.715937pt\" version=\"1.1\" viewBox=\"0 0 377.304688 259.715937\" width=\"377.304688pt\" xmlns=\"http://www.w3.org/2000/svg\" xmlns:xlink=\"http://www.w3.org/1999/xlink\">\n <metadata>\n  <rdf:RDF xmlns:cc=\"http://creativecommons.org/ns#\" xmlns:dc=\"http://purl.org/dc/elements/1.1/\" xmlns:rdf=\"http://www.w3.org/1999/02/22-rdf-syntax-ns#\">\n   <cc:Work>\n    <dc:type rdf:resource=\"http://purl.org/dc/dcmitype/StillImage\"/>\n    <dc:date>2021-03-28T06:51:43.737102</dc:date>\n    <dc:format>image/svg+xml</dc:format>\n    <dc:creator>\n     <cc:Agent>\n      <dc:title>Matplotlib v3.3.4, https://matplotlib.org/</dc:title>\n     </cc:Agent>\n    </dc:creator>\n   </cc:Work>\n  </rdf:RDF>\n </metadata>\n <defs>\n  <style type=\"text/css\">*{stroke-linecap:butt;stroke-linejoin:round;}</style>\n </defs>\n <g id=\"figure_1\">\n  <g id=\"patch_1\">\n   <path d=\"M 0 259.715937 \nL 377.304688 259.715937 \nL 377.304688 0 \nL 0 0 \nz\n\" style=\"fill:none;\"/>\n  </g>\n  <g id=\"axes_1\">\n   <g id=\"patch_2\">\n    <path d=\"M 35.304688 224.64 \nL 370.104688 224.64 \nL 370.104688 7.2 \nL 35.304688 7.2 \nz\n\" style=\"fill:#ffffff;\"/>\n   </g>\n   <g id=\"matplotlib.axis_1\">\n    <g id=\"xtick_1\">\n     <g id=\"line2d_1\">\n      <defs>\n       <path d=\"M 0 0 \nL 0 3.5 \n\" id=\"m3ab847ea90\" style=\"stroke:#000000;stroke-width:0.8;\"/>\n      </defs>\n      <g>\n       <use style=\"stroke:#000000;stroke-width:0.8;\" x=\"35.304688\" xlink:href=\"#m3ab847ea90\" y=\"224.64\"/>\n      </g>\n     </g>\n     <g id=\"text_1\">\n      <!-- Jan -->\n      <g transform=\"translate(27.596875 239.238438)scale(0.1 -0.1)\">\n       <defs>\n        <path d=\"M 9.8125 72.90625 \nL 19.671875 72.90625 \nL 19.671875 5.078125 \nQ 19.671875 -8.109375 14.671875 -14.0625 \nQ 9.671875 -20.015625 -1.421875 -20.015625 \nL -5.171875 -20.015625 \nL -5.171875 -11.71875 \nL -2.09375 -11.71875 \nQ 4.4375 -11.71875 7.125 -8.046875 \nQ 9.8125 -4.390625 9.8125 5.078125 \nz\n\" id=\"DejaVuSans-74\"/>\n        <path d=\"M 34.28125 27.484375 \nQ 23.390625 27.484375 19.1875 25 \nQ 14.984375 22.515625 14.984375 16.5 \nQ 14.984375 11.71875 18.140625 8.90625 \nQ 21.296875 6.109375 26.703125 6.109375 \nQ 34.1875 6.109375 38.703125 11.40625 \nQ 43.21875 16.703125 43.21875 25.484375 \nL 43.21875 27.484375 \nz\nM 52.203125 31.203125 \nL 52.203125 0 \nL 43.21875 0 \nL 43.21875 8.296875 \nQ 40.140625 3.328125 35.546875 0.953125 \nQ 30.953125 -1.421875 24.3125 -1.421875 \nQ 15.921875 -1.421875 10.953125 3.296875 \nQ 6 8.015625 6 15.921875 \nQ 6 25.140625 12.171875 29.828125 \nQ 18.359375 34.515625 30.609375 34.515625 \nL 43.21875 34.515625 \nL 43.21875 35.40625 \nQ 43.21875 41.609375 39.140625 45 \nQ 35.0625 48.390625 27.6875 48.390625 \nQ 23 48.390625 18.546875 47.265625 \nQ 14.109375 46.140625 10.015625 43.890625 \nL 10.015625 52.203125 \nQ 14.9375 54.109375 19.578125 55.046875 \nQ 24.21875 56 28.609375 56 \nQ 40.484375 56 46.34375 49.84375 \nQ 52.203125 43.703125 52.203125 31.203125 \nz\n\" id=\"DejaVuSans-97\"/>\n        <path d=\"M 54.890625 33.015625 \nL 54.890625 0 \nL 45.90625 0 \nL 45.90625 32.71875 \nQ 45.90625 40.484375 42.875 44.328125 \nQ 39.84375 48.1875 33.796875 48.1875 \nQ 26.515625 48.1875 22.3125 43.546875 \nQ 18.109375 38.921875 18.109375 30.90625 \nL 18.109375 0 \nL 9.078125 0 \nL 9.078125 54.6875 \nL 18.109375 54.6875 \nL 18.109375 46.1875 \nQ 21.34375 51.125 25.703125 53.5625 \nQ 30.078125 56 35.796875 56 \nQ 45.21875 56 50.046875 50.171875 \nQ 54.890625 44.34375 54.890625 33.015625 \nz\n\" id=\"DejaVuSans-110\"/>\n       </defs>\n       <use xlink:href=\"#DejaVuSans-74\"/>\n       <use x=\"29.492188\" xlink:href=\"#DejaVuSans-97\"/>\n       <use x=\"90.771484\" xlink:href=\"#DejaVuSans-110\"/>\n      </g>\n      <!-- 2000 -->\n      <g transform=\"translate(22.579687 250.43625)scale(0.1 -0.1)\">\n       <defs>\n        <path d=\"M 19.1875 8.296875 \nL 53.609375 8.296875 \nL 53.609375 0 \nL 7.328125 0 \nL 7.328125 8.296875 \nQ 12.9375 14.109375 22.625 23.890625 \nQ 32.328125 33.6875 34.8125 36.53125 \nQ 39.546875 41.84375 41.421875 45.53125 \nQ 43.3125 49.21875 43.3125 52.78125 \nQ 43.3125 58.59375 39.234375 62.25 \nQ 35.15625 65.921875 28.609375 65.921875 \nQ 23.96875 65.921875 18.8125 64.3125 \nQ 13.671875 62.703125 7.8125 59.421875 \nL 7.8125 69.390625 \nQ 13.765625 71.78125 18.9375 73 \nQ 24.125 74.21875 28.421875 74.21875 \nQ 39.75 74.21875 46.484375 68.546875 \nQ 53.21875 62.890625 53.21875 53.421875 \nQ 53.21875 48.921875 51.53125 44.890625 \nQ 49.859375 40.875 45.40625 35.40625 \nQ 44.1875 33.984375 37.640625 27.21875 \nQ 31.109375 20.453125 19.1875 8.296875 \nz\n\" id=\"DejaVuSans-50\"/>\n        <path d=\"M 31.78125 66.40625 \nQ 24.171875 66.40625 20.328125 58.90625 \nQ 16.5 51.421875 16.5 36.375 \nQ 16.5 21.390625 20.328125 13.890625 \nQ 24.171875 6.390625 31.78125 6.390625 \nQ 39.453125 6.390625 43.28125 13.890625 \nQ 47.125 21.390625 47.125 36.375 \nQ 47.125 51.421875 43.28125 58.90625 \nQ 39.453125 66.40625 31.78125 66.40625 \nz\nM 31.78125 74.21875 \nQ 44.046875 74.21875 50.515625 64.515625 \nQ 56.984375 54.828125 56.984375 36.375 \nQ 56.984375 17.96875 50.515625 8.265625 \nQ 44.046875 -1.421875 31.78125 -1.421875 \nQ 19.53125 -1.421875 13.0625 8.265625 \nQ 6.59375 17.96875 6.59375 36.375 \nQ 6.59375 54.828125 13.0625 64.515625 \nQ 19.53125 74.21875 31.78125 74.21875 \nz\n\" id=\"DejaVuSans-48\"/>\n       </defs>\n       <use xlink:href=\"#DejaVuSans-50\"/>\n       <use x=\"63.623047\" xlink:href=\"#DejaVuSans-48\"/>\n       <use x=\"127.246094\" xlink:href=\"#DejaVuSans-48\"/>\n       <use x=\"190.869141\" xlink:href=\"#DejaVuSans-48\"/>\n      </g>\n     </g>\n    </g>\n    <g id=\"xtick_2\">\n     <g id=\"line2d_2\">\n      <g>\n       <use style=\"stroke:#000000;stroke-width:0.8;\" x=\"157.964147\" xlink:href=\"#m3ab847ea90\" y=\"224.64\"/>\n      </g>\n     </g>\n     <g id=\"text_2\">\n      <!-- Jan -->\n      <g transform=\"translate(150.256334 239.238438)scale(0.1 -0.1)\">\n       <use xlink:href=\"#DejaVuSans-74\"/>\n       <use x=\"29.492188\" xlink:href=\"#DejaVuSans-97\"/>\n       <use x=\"90.771484\" xlink:href=\"#DejaVuSans-110\"/>\n      </g>\n      <!-- 2001 -->\n      <g transform=\"translate(145.239147 250.43625)scale(0.1 -0.1)\">\n       <defs>\n        <path d=\"M 12.40625 8.296875 \nL 28.515625 8.296875 \nL 28.515625 63.921875 \nL 10.984375 60.40625 \nL 10.984375 69.390625 \nL 28.421875 72.90625 \nL 38.28125 72.90625 \nL 38.28125 8.296875 \nL 54.390625 8.296875 \nL 54.390625 0 \nL 12.40625 0 \nz\n\" id=\"DejaVuSans-49\"/>\n       </defs>\n       <use xlink:href=\"#DejaVuSans-50\"/>\n       <use x=\"63.623047\" xlink:href=\"#DejaVuSans-48\"/>\n       <use x=\"127.246094\" xlink:href=\"#DejaVuSans-48\"/>\n       <use x=\"190.869141\" xlink:href=\"#DejaVuSans-49\"/>\n      </g>\n     </g>\n    </g>\n    <g id=\"xtick_3\">\n     <g id=\"line2d_3\">\n      <g>\n       <use style=\"stroke:#000000;stroke-width:0.8;\" x=\"280.288471\" xlink:href=\"#m3ab847ea90\" y=\"224.64\"/>\n      </g>\n     </g>\n     <g id=\"text_3\">\n      <!-- Jan -->\n      <g transform=\"translate(272.580659 239.238438)scale(0.1 -0.1)\">\n       <use xlink:href=\"#DejaVuSans-74\"/>\n       <use x=\"29.492188\" xlink:href=\"#DejaVuSans-97\"/>\n       <use x=\"90.771484\" xlink:href=\"#DejaVuSans-110\"/>\n      </g>\n      <!-- 2002 -->\n      <g transform=\"translate(267.563471 250.43625)scale(0.1 -0.1)\">\n       <use xlink:href=\"#DejaVuSans-50\"/>\n       <use x=\"63.623047\" xlink:href=\"#DejaVuSans-48\"/>\n       <use x=\"127.246094\" xlink:href=\"#DejaVuSans-48\"/>\n       <use x=\"190.869141\" xlink:href=\"#DejaVuSans-50\"/>\n      </g>\n     </g>\n    </g>\n    <g id=\"xtick_4\">\n     <g id=\"line2d_4\">\n      <g>\n       <use style=\"stroke:#000000;stroke-width:0.8;\" x=\"370.104688\" xlink:href=\"#m3ab847ea90\" y=\"224.64\"/>\n      </g>\n     </g>\n    </g>\n    <g id=\"xtick_5\">\n     <g id=\"line2d_5\">\n      <defs>\n       <path d=\"M 0 0 \nL 0 2 \n\" id=\"me350844c83\" style=\"stroke:#000000;stroke-width:0.6;\"/>\n      </defs>\n      <g>\n       <use style=\"stroke:#000000;stroke-width:0.6;\" x=\"45.693877\" xlink:href=\"#me350844c83\" y=\"224.64\"/>\n      </g>\n     </g>\n    </g>\n    <g id=\"xtick_6\">\n     <g id=\"line2d_6\">\n      <g>\n       <use style=\"stroke:#000000;stroke-width:0.6;\" x=\"55.412796\" xlink:href=\"#me350844c83\" y=\"224.64\"/>\n      </g>\n     </g>\n    </g>\n    <g id=\"xtick_7\">\n     <g id=\"line2d_7\">\n      <g>\n       <use style=\"stroke:#000000;stroke-width:0.6;\" x=\"65.801985\" xlink:href=\"#me350844c83\" y=\"224.64\"/>\n      </g>\n     </g>\n    </g>\n    <g id=\"xtick_8\">\n     <g id=\"line2d_8\">\n      <g>\n       <use style=\"stroke:#000000;stroke-width:0.6;\" x=\"75.856039\" xlink:href=\"#me350844c83\" y=\"224.64\"/>\n      </g>\n     </g>\n    </g>\n    <g id=\"xtick_9\">\n     <g id=\"line2d_9\">\n      <g>\n       <use style=\"stroke:#000000;stroke-width:0.6;\" x=\"86.245228\" xlink:href=\"#me350844c83\" y=\"224.64\"/>\n      </g>\n     </g>\n    </g>\n    <g id=\"xtick_10\">\n     <g id=\"line2d_10\">\n      <g>\n       <use style=\"stroke:#000000;stroke-width:0.6;\" x=\"96.299282\" xlink:href=\"#me350844c83\" y=\"224.64\"/>\n      </g>\n     </g>\n     <g id=\"text_4\">\n      <!-- Jul -->\n      <g transform=\"translate(90.26647 237.638438)scale(0.1 -0.1)\">\n       <defs>\n        <path d=\"M 8.5 21.578125 \nL 8.5 54.6875 \nL 17.484375 54.6875 \nL 17.484375 21.921875 \nQ 17.484375 14.15625 20.5 10.265625 \nQ 23.53125 6.390625 29.59375 6.390625 \nQ 36.859375 6.390625 41.078125 11.03125 \nQ 45.3125 15.671875 45.3125 23.6875 \nL 45.3125 54.6875 \nL 54.296875 54.6875 \nL 54.296875 0 \nL 45.3125 0 \nL 45.3125 8.40625 \nQ 42.046875 3.421875 37.71875 1 \nQ 33.40625 -1.421875 27.6875 -1.421875 \nQ 18.265625 -1.421875 13.375 4.4375 \nQ 8.5 10.296875 8.5 21.578125 \nz\nM 31.109375 56 \nz\n\" id=\"DejaVuSans-117\"/>\n        <path d=\"M 9.421875 75.984375 \nL 18.40625 75.984375 \nL 18.40625 0 \nL 9.421875 0 \nz\n\" id=\"DejaVuSans-108\"/>\n       </defs>\n       <use xlink:href=\"#DejaVuSans-74\"/>\n       <use x=\"29.492188\" xlink:href=\"#DejaVuSans-117\"/>\n       <use x=\"92.871094\" xlink:href=\"#DejaVuSans-108\"/>\n      </g>\n     </g>\n    </g>\n    <g id=\"xtick_11\">\n     <g id=\"line2d_11\">\n      <g>\n       <use style=\"stroke:#000000;stroke-width:0.6;\" x=\"106.688471\" xlink:href=\"#me350844c83\" y=\"224.64\"/>\n      </g>\n     </g>\n    </g>\n    <g id=\"xtick_12\">\n     <g id=\"line2d_12\">\n      <g>\n       <use style=\"stroke:#000000;stroke-width:0.6;\" x=\"117.07766\" xlink:href=\"#me350844c83\" y=\"224.64\"/>\n      </g>\n     </g>\n    </g>\n    <g id=\"xtick_13\">\n     <g id=\"line2d_13\">\n      <g>\n       <use style=\"stroke:#000000;stroke-width:0.6;\" x=\"127.131715\" xlink:href=\"#me350844c83\" y=\"224.64\"/>\n      </g>\n     </g>\n    </g>\n    <g id=\"xtick_14\">\n     <g id=\"line2d_14\">\n      <g>\n       <use style=\"stroke:#000000;stroke-width:0.6;\" x=\"137.520904\" xlink:href=\"#me350844c83\" y=\"224.64\"/>\n      </g>\n     </g>\n    </g>\n    <g id=\"xtick_15\">\n     <g id=\"line2d_15\">\n      <g>\n       <use style=\"stroke:#000000;stroke-width:0.6;\" x=\"147.574958\" xlink:href=\"#me350844c83\" y=\"224.64\"/>\n      </g>\n     </g>\n    </g>\n    <g id=\"xtick_16\">\n     <g id=\"line2d_16\">\n      <g>\n       <use style=\"stroke:#000000;stroke-width:0.6;\" x=\"168.353336\" xlink:href=\"#me350844c83\" y=\"224.64\"/>\n      </g>\n     </g>\n    </g>\n    <g id=\"xtick_17\">\n     <g id=\"line2d_17\">\n      <g>\n       <use style=\"stroke:#000000;stroke-width:0.6;\" x=\"177.73712\" xlink:href=\"#me350844c83\" y=\"224.64\"/>\n      </g>\n     </g>\n    </g>\n    <g id=\"xtick_18\">\n     <g id=\"line2d_18\">\n      <g>\n       <use style=\"stroke:#000000;stroke-width:0.6;\" x=\"188.126309\" xlink:href=\"#me350844c83\" y=\"224.64\"/>\n      </g>\n     </g>\n    </g>\n    <g id=\"xtick_19\">\n     <g id=\"line2d_19\">\n      <g>\n       <use style=\"stroke:#000000;stroke-width:0.6;\" x=\"198.180363\" xlink:href=\"#me350844c83\" y=\"224.64\"/>\n      </g>\n     </g>\n    </g>\n    <g id=\"xtick_20\">\n     <g id=\"line2d_20\">\n      <g>\n       <use style=\"stroke:#000000;stroke-width:0.6;\" x=\"208.569552\" xlink:href=\"#me350844c83\" y=\"224.64\"/>\n      </g>\n     </g>\n    </g>\n    <g id=\"xtick_21\">\n     <g id=\"line2d_21\">\n      <g>\n       <use style=\"stroke:#000000;stroke-width:0.6;\" x=\"218.623606\" xlink:href=\"#me350844c83\" y=\"224.64\"/>\n      </g>\n     </g>\n     <g id=\"text_5\">\n      <!-- Jul -->\n      <g transform=\"translate(212.590794 237.638438)scale(0.1 -0.1)\">\n       <use xlink:href=\"#DejaVuSans-74\"/>\n       <use x=\"29.492188\" xlink:href=\"#DejaVuSans-117\"/>\n       <use x=\"92.871094\" xlink:href=\"#DejaVuSans-108\"/>\n      </g>\n     </g>\n    </g>\n    <g id=\"xtick_22\">\n     <g id=\"line2d_22\">\n      <g>\n       <use style=\"stroke:#000000;stroke-width:0.6;\" x=\"229.012796\" xlink:href=\"#me350844c83\" y=\"224.64\"/>\n      </g>\n     </g>\n    </g>\n    <g id=\"xtick_23\">\n     <g id=\"line2d_23\">\n      <g>\n       <use style=\"stroke:#000000;stroke-width:0.6;\" x=\"239.401985\" xlink:href=\"#me350844c83\" y=\"224.64\"/>\n      </g>\n     </g>\n    </g>\n    <g id=\"xtick_24\">\n     <g id=\"line2d_24\">\n      <g>\n       <use style=\"stroke:#000000;stroke-width:0.6;\" x=\"249.456039\" xlink:href=\"#me350844c83\" y=\"224.64\"/>\n      </g>\n     </g>\n    </g>\n    <g id=\"xtick_25\">\n     <g id=\"line2d_25\">\n      <g>\n       <use style=\"stroke:#000000;stroke-width:0.6;\" x=\"259.845228\" xlink:href=\"#me350844c83\" y=\"224.64\"/>\n      </g>\n     </g>\n    </g>\n    <g id=\"xtick_26\">\n     <g id=\"line2d_26\">\n      <g>\n       <use style=\"stroke:#000000;stroke-width:0.6;\" x=\"269.899282\" xlink:href=\"#me350844c83\" y=\"224.64\"/>\n      </g>\n     </g>\n    </g>\n    <g id=\"xtick_27\">\n     <g id=\"line2d_27\">\n      <g>\n       <use style=\"stroke:#000000;stroke-width:0.6;\" x=\"290.67766\" xlink:href=\"#me350844c83\" y=\"224.64\"/>\n      </g>\n     </g>\n    </g>\n    <g id=\"xtick_28\">\n     <g id=\"line2d_28\">\n      <g>\n       <use style=\"stroke:#000000;stroke-width:0.6;\" x=\"300.061444\" xlink:href=\"#me350844c83\" y=\"224.64\"/>\n      </g>\n     </g>\n    </g>\n    <g id=\"xtick_29\">\n     <g id=\"line2d_29\">\n      <g>\n       <use style=\"stroke:#000000;stroke-width:0.6;\" x=\"310.450633\" xlink:href=\"#me350844c83\" y=\"224.64\"/>\n      </g>\n     </g>\n    </g>\n    <g id=\"xtick_30\">\n     <g id=\"line2d_30\">\n      <g>\n       <use style=\"stroke:#000000;stroke-width:0.6;\" x=\"320.504687\" xlink:href=\"#me350844c83\" y=\"224.64\"/>\n      </g>\n     </g>\n    </g>\n    <g id=\"xtick_31\">\n     <g id=\"line2d_31\">\n      <g>\n       <use style=\"stroke:#000000;stroke-width:0.6;\" x=\"330.893877\" xlink:href=\"#me350844c83\" y=\"224.64\"/>\n      </g>\n     </g>\n    </g>\n    <g id=\"xtick_32\">\n     <g id=\"line2d_32\">\n      <g>\n       <use style=\"stroke:#000000;stroke-width:0.6;\" x=\"340.947931\" xlink:href=\"#me350844c83\" y=\"224.64\"/>\n      </g>\n     </g>\n     <g id=\"text_6\">\n      <!-- Jul -->\n      <g transform=\"translate(334.915118 237.638438)scale(0.1 -0.1)\">\n       <use xlink:href=\"#DejaVuSans-74\"/>\n       <use x=\"29.492188\" xlink:href=\"#DejaVuSans-117\"/>\n       <use x=\"92.871094\" xlink:href=\"#DejaVuSans-108\"/>\n      </g>\n     </g>\n    </g>\n    <g id=\"xtick_33\">\n     <g id=\"line2d_33\">\n      <g>\n       <use style=\"stroke:#000000;stroke-width:0.6;\" x=\"351.33712\" xlink:href=\"#me350844c83\" y=\"224.64\"/>\n      </g>\n     </g>\n    </g>\n    <g id=\"xtick_34\">\n     <g id=\"line2d_34\">\n      <g>\n       <use style=\"stroke:#000000;stroke-width:0.6;\" x=\"361.726309\" xlink:href=\"#me350844c83\" y=\"224.64\"/>\n      </g>\n     </g>\n    </g>\n   </g>\n   <g id=\"matplotlib.axis_2\">\n    <g id=\"ytick_1\">\n     <g id=\"line2d_35\">\n      <defs>\n       <path d=\"M 0 0 \nL -3.5 0 \n\" id=\"mfc769e79c3\" style=\"stroke:#000000;stroke-width:0.8;\"/>\n      </defs>\n      <g>\n       <use style=\"stroke:#000000;stroke-width:0.8;\" x=\"35.304688\" xlink:href=\"#mfc769e79c3\" y=\"209.76313\"/>\n      </g>\n     </g>\n     <g id=\"text_7\">\n      <!-- −30 -->\n      <g transform=\"translate(7.2 213.562349)scale(0.1 -0.1)\">\n       <defs>\n        <path d=\"M 10.59375 35.5 \nL 73.1875 35.5 \nL 73.1875 27.203125 \nL 10.59375 27.203125 \nz\n\" id=\"DejaVuSans-8722\"/>\n        <path d=\"M 40.578125 39.3125 \nQ 47.65625 37.796875 51.625 33 \nQ 55.609375 28.21875 55.609375 21.1875 \nQ 55.609375 10.40625 48.1875 4.484375 \nQ 40.765625 -1.421875 27.09375 -1.421875 \nQ 22.515625 -1.421875 17.65625 -0.515625 \nQ 12.796875 0.390625 7.625 2.203125 \nL 7.625 11.71875 \nQ 11.71875 9.328125 16.59375 8.109375 \nQ 21.484375 6.890625 26.8125 6.890625 \nQ 36.078125 6.890625 40.9375 10.546875 \nQ 45.796875 14.203125 45.796875 21.1875 \nQ 45.796875 27.640625 41.28125 31.265625 \nQ 36.765625 34.90625 28.71875 34.90625 \nL 20.21875 34.90625 \nL 20.21875 43.015625 \nL 29.109375 43.015625 \nQ 36.375 43.015625 40.234375 45.921875 \nQ 44.09375 48.828125 44.09375 54.296875 \nQ 44.09375 59.90625 40.109375 62.90625 \nQ 36.140625 65.921875 28.71875 65.921875 \nQ 24.65625 65.921875 20.015625 65.03125 \nQ 15.375 64.15625 9.8125 62.3125 \nL 9.8125 71.09375 \nQ 15.4375 72.65625 20.34375 73.4375 \nQ 25.25 74.21875 29.59375 74.21875 \nQ 40.828125 74.21875 47.359375 69.109375 \nQ 53.90625 64.015625 53.90625 55.328125 \nQ 53.90625 49.265625 50.4375 45.09375 \nQ 46.96875 40.921875 40.578125 39.3125 \nz\n\" id=\"DejaVuSans-51\"/>\n       </defs>\n       <use xlink:href=\"#DejaVuSans-8722\"/>\n       <use x=\"83.789062\" xlink:href=\"#DejaVuSans-51\"/>\n       <use x=\"147.412109\" xlink:href=\"#DejaVuSans-48\"/>\n      </g>\n     </g>\n    </g>\n    <g id=\"ytick_2\">\n     <g id=\"line2d_36\">\n      <g>\n       <use style=\"stroke:#000000;stroke-width:0.8;\" x=\"35.304688\" xlink:href=\"#mfc769e79c3\" y=\"166.429546\"/>\n      </g>\n     </g>\n     <g id=\"text_8\">\n      <!-- −20 -->\n      <g transform=\"translate(7.2 170.228765)scale(0.1 -0.1)\">\n       <use xlink:href=\"#DejaVuSans-8722\"/>\n       <use x=\"83.789062\" xlink:href=\"#DejaVuSans-50\"/>\n       <use x=\"147.412109\" xlink:href=\"#DejaVuSans-48\"/>\n      </g>\n     </g>\n    </g>\n    <g id=\"ytick_3\">\n     <g id=\"line2d_37\">\n      <g>\n       <use style=\"stroke:#000000;stroke-width:0.8;\" x=\"35.304688\" xlink:href=\"#mfc769e79c3\" y=\"123.095962\"/>\n      </g>\n     </g>\n     <g id=\"text_9\">\n      <!-- −10 -->\n      <g transform=\"translate(7.2 126.895181)scale(0.1 -0.1)\">\n       <use xlink:href=\"#DejaVuSans-8722\"/>\n       <use x=\"83.789062\" xlink:href=\"#DejaVuSans-49\"/>\n       <use x=\"147.412109\" xlink:href=\"#DejaVuSans-48\"/>\n      </g>\n     </g>\n    </g>\n    <g id=\"ytick_4\">\n     <g id=\"line2d_38\">\n      <g>\n       <use style=\"stroke:#000000;stroke-width:0.8;\" x=\"35.304688\" xlink:href=\"#mfc769e79c3\" y=\"79.762378\"/>\n      </g>\n     </g>\n     <g id=\"text_10\">\n      <!-- 0 -->\n      <g transform=\"translate(21.942188 83.561596)scale(0.1 -0.1)\">\n       <use xlink:href=\"#DejaVuSans-48\"/>\n      </g>\n     </g>\n    </g>\n    <g id=\"ytick_5\">\n     <g id=\"line2d_39\">\n      <g>\n       <use style=\"stroke:#000000;stroke-width:0.8;\" x=\"35.304688\" xlink:href=\"#mfc769e79c3\" y=\"36.428793\"/>\n      </g>\n     </g>\n     <g id=\"text_11\">\n      <!-- 10 -->\n      <g transform=\"translate(15.579688 40.228012)scale(0.1 -0.1)\">\n       <use xlink:href=\"#DejaVuSans-49\"/>\n       <use x=\"63.623047\" xlink:href=\"#DejaVuSans-48\"/>\n      </g>\n     </g>\n    </g>\n   </g>\n   <g id=\"line2d_40\">\n    <path clip-path=\"url(#pa9e04199ca)\" d=\"M 35.304688 85.638697 \nL 35.639823 90.201673 \nL 35.974958 92.444571 \nL 36.310093 97.36579 \nL 36.645228 96.114594 \nL 36.980363 99.972624 \nL 37.650633 94.327474 \nL 37.985769 96.46772 \nL 38.320904 89.871736 \nL 38.656039 94.638814 \nL 38.991174 88.967911 \nL 39.326309 86.554283 \nL 39.661444 86.166673 \nL 39.996579 92.6659 \nL 40.331715 88.675417 \nL 40.66685 98.001601 \nL 41.33712 89.921638 \nL 42.342525 103.994995 \nL 42.67766 101.902668 \nL 43.012796 97.747022 \nL 43.347931 103.82165 \nL 43.683066 105.193661 \nL 44.018201 103.743982 \nL 44.353336 98.413037 \nL 44.688471 103.101747 \nL 45.358742 90.588764 \nL 45.693877 92.69514 \nL 46.029012 91.813097 \nL 46.699282 112.785701 \nL 47.034417 115.384452 \nL 47.369552 108.694768 \nL 47.704688 109.5294 \nL 48.039823 107.389721 \nL 48.374958 104.299253 \nL 48.710093 107.317021 \nL 49.045228 105.971555 \nL 49.380363 102.499808 \nL 50.050633 108.989065 \nL 50.385769 113.54757 \nL 50.720904 111.514105 \nL 51.056039 115.150291 \nL 51.391174 106.077988 \nL 51.726309 104.534065 \nL 52.061444 102.10376 \nL 52.396579 95.578604 \nL 52.731715 96.720614 \nL 53.06685 96.065664 \nL 53.401985 94.51702 \nL 53.73712 104.781768 \nL 54.072255 98.908444 \nL 54.40739 95.015895 \nL 54.742525 88.790428 \nL 55.07766 87.815953 \nL 55.747931 80.804556 \nL 56.083066 91.413016 \nL 56.418201 91.332934 \nL 56.753336 85.985128 \nL 57.088471 88.01203 \nL 57.423606 83.031732 \nL 57.758742 84.158941 \nL 58.093877 83.211658 \nL 58.429012 84.005689 \nL 59.099282 95.243301 \nL 59.434417 95.893386 \nL 59.769552 102.836551 \nL 60.104687 100.044388 \nL 60.439823 92.102279 \nL 60.774958 96.849196 \nL 61.110093 86.245047 \nL 61.445228 85.635119 \nL 61.780363 83.896751 \nL 62.115498 83.615189 \nL 62.450633 76.90584 \nL 62.785769 84.615987 \nL 63.120904 89.555004 \nL 63.456039 100.814909 \nL 63.791174 99.978672 \nL 64.126309 98.055208 \nL 64.796579 104.365045 \nL 65.131715 110.693409 \nL 65.46685 112.796173 \nL 65.801985 113.143898 \nL 66.13712 109.522387 \nL 66.472255 110.472972 \nL 66.80739 109.694497 \nL 67.142525 110.498268 \nL 67.47766 114.450334 \nL 68.147931 111.756272 \nL 68.818201 102.290271 \nL 69.153336 95.54272 \nL 69.488471 99.798907 \nL 69.823606 98.866353 \nL 70.493877 107.038461 \nL 70.829012 117.356323 \nL 71.164147 106.776615 \nL 71.499282 107.226514 \nL 71.834417 113.089899 \nL 72.169552 116.556997 \nL 72.504687 117.34717 \nL 73.174958 109.989103 \nL 73.510093 110.969549 \nL 73.845228 107.091767 \nL 74.180363 105.611625 \nL 74.515498 105.654509 \nL 74.850633 107.749602 \nL 75.185769 103.431261 \nL 75.520904 101.919782 \nL 75.856039 99.107224 \nL 76.191174 88.940247 \nL 76.526309 89.192084 \nL 76.861444 93.657362 \nL 77.196579 93.882087 \nL 77.531715 99.247774 \nL 77.86685 99.39784 \nL 78.201985 101.624267 \nL 78.53712 101.95306 \nL 78.872255 97.653237 \nL 79.20739 90.694224 \nL 79.542525 93.602682 \nL 79.87766 91.717478 \nL 80.212796 101.423267 \nL 80.547931 106.017282 \nL 80.883066 103.609159 \nL 81.218201 104.181941 \nL 81.553336 109.924316 \nL 81.888471 112.8414 \nL 82.223606 113.59451 \nL 82.558742 115.692874 \nL 82.893877 119.670146 \nL 83.229012 116.811922 \nL 83.564147 118.425099 \nL 83.899282 113.229217 \nL 84.234417 113.669167 \nL 84.569552 110.246398 \nL 84.904687 113.978873 \nL 85.239823 110.593661 \nL 85.574958 105.150401 \nL 85.910093 111.904304 \nL 86.245228 115.92357 \nL 86.580363 118.52315 \nL 86.915498 112.918017 \nL 87.250633 120.450223 \nL 87.585769 113.981002 \nL 87.920904 113.41621 \nL 88.256039 105.514601 \nL 88.591174 106.018059 \nL 88.926309 105.767868 \nL 89.261444 113.374354 \nL 89.596579 112.567644 \nL 89.931715 113.177659 \nL 90.26685 115.972714 \nL 90.601985 115.56848 \nL 90.93712 115.909828 \nL 91.272255 115.396578 \nL 91.60739 119.112134 \nL 91.942525 118.339788 \nL 92.27766 115.270808 \nL 92.612796 118.449452 \nL 92.947931 122.712214 \nL 93.618201 108.555563 \nL 93.953336 110.29148 \nL 94.288471 108.917332 \nL 94.623606 105.120378 \nL 94.958742 110.241746 \nL 95.293877 107.217608 \nL 95.629012 112.236208 \nL 95.964147 113.676797 \nL 96.299282 105.974981 \nL 96.969552 101.874507 \nL 97.304688 105.939145 \nL 97.974958 103.833913 \nL 98.310093 101.912292 \nL 98.645228 103.471562 \nL 98.980363 98.653186 \nL 99.315498 98.483113 \nL 99.650633 101.649268 \nL 99.985769 97.687596 \nL 100.320904 97.97036 \nL 100.656039 99.138432 \nL 101.326309 106.586462 \nL 101.661444 104.613069 \nL 101.996579 104.701516 \nL 102.331715 113.874982 \nL 103.001985 99.68997 \nL 104.00739 93.79027 \nL 104.342525 95.243475 \nL 104.67766 92.094212 \nL 105.347931 76.800939 \nL 105.683066 72.562277 \nL 106.018201 75.60332 \nL 106.353336 72.68075 \nL 106.688471 73.653998 \nL 107.023606 78.329442 \nL 107.358742 76.773514 \nL 107.693877 74.389 \nL 108.029012 75.411281 \nL 108.364147 70.774367 \nL 108.699282 73.47444 \nL 109.034417 74.999208 \nL 109.369552 63.533394 \nL 110.039823 58.363132 \nL 110.374958 54.677477 \nL 110.710093 59.300234 \nL 111.045228 60.939009 \nL 111.380363 59.15716 \nL 111.715498 56.056135 \nL 112.050633 57.114811 \nL 112.385769 53.200834 \nL 112.720904 45.130434 \nL 113.056039 52.588149 \nL 113.391174 42.768097 \nL 114.396579 31.232477 \nL 114.731715 32.345998 \nL 115.06685 33.971886 \nL 115.401985 35.007579 \nL 115.73712 27.372356 \nL 116.072255 30.981751 \nL 116.40739 36.481441 \nL 116.742525 32.005279 \nL 117.07766 22.667182 \nL 117.412796 20.389485 \nL 117.747931 25.322358 \nL 118.083066 27.544042 \nL 118.418201 21.778145 \nL 118.753336 22.870717 \nL 119.088471 17.083636 \nL 119.423606 25.745623 \nL 119.758742 20.12481 \nL 120.093877 17.770933 \nL 120.429012 20.157164 \nL 120.764147 21.71266 \nL 121.099282 25.291336 \nL 121.434417 26.497201 \nL 121.769552 25.437018 \nL 122.104687 30.017375 \nL 122.439823 30.946142 \nL 122.774958 32.589417 \nL 123.110093 29.455057 \nL 123.445228 32.062737 \nL 123.780363 28.128769 \nL 124.115498 30.030212 \nL 124.450633 28.818471 \nL 124.785769 29.263488 \nL 125.120904 30.212486 \nL 125.456039 29.409684 \nL 125.791174 34.592697 \nL 126.126309 35.67333 \nL 126.461444 46.250262 \nL 126.796579 41.448415 \nL 127.131715 42.306615 \nL 127.46685 39.89037 \nL 127.801985 39.75498 \nL 128.13712 42.575113 \nL 128.472255 42.335531 \nL 128.80739 45.862881 \nL 129.142525 39.590661 \nL 129.47766 35.518699 \nL 129.812796 36.255843 \nL 130.147931 34.109351 \nL 130.483066 37.900741 \nL 130.818201 39.827626 \nL 131.153336 44.900207 \nL 131.488471 43.037381 \nL 131.823606 39.955745 \nL 132.158742 40.087995 \nL 132.493877 42.735841 \nL 132.829012 39.308397 \nL 133.499282 50.431465 \nL 133.834417 43.562447 \nL 134.504687 34.471769 \nL 134.839823 37.184396 \nL 135.174958 31.765161 \nL 135.845228 38.173424 \nL 136.180363 30.94033 \nL 136.515498 32.007418 \nL 136.850633 27.537271 \nL 137.185769 33.051735 \nL 137.520904 32.174418 \nL 137.856039 38.026888 \nL 138.191174 38.312801 \nL 138.861444 43.862515 \nL 139.196579 51.379442 \nL 139.86685 40.772191 \nL 140.53712 47.400269 \nL 140.872255 50.136448 \nL 141.20739 49.80682 \nL 141.542525 54.608094 \nL 141.87766 66.591554 \nL 142.212796 59.794683 \nL 142.547931 59.710571 \nL 142.883066 61.512522 \nL 143.218201 70.045522 \nL 143.553336 71.708475 \nL 143.888471 71.314707 \nL 144.223606 72.739385 \nL 144.558742 73.410098 \nL 144.893877 73.117483 \nL 145.229012 79.091659 \nL 145.564147 80.232433 \nL 146.234417 79.834222 \nL 146.569552 74.905032 \nL 147.239823 92.629621 \nL 147.574958 90.933354 \nL 147.910093 97.455842 \nL 148.245228 99.739104 \nL 148.580363 99.720434 \nL 148.915498 102.84813 \nL 149.250633 102.021482 \nL 149.585769 103.154696 \nL 149.920904 101.341735 \nL 150.591174 95.46851 \nL 150.926309 84.876292 \nL 151.261444 86.274643 \nL 151.596579 94.4542 \nL 152.26685 89.636342 \nL 152.601985 82.873488 \nL 153.272255 86.959508 \nL 153.60739 85.029058 \nL 153.942525 86.383916 \nL 154.27766 80.24812 \nL 154.612796 86.724919 \nL 155.283066 92.033867 \nL 155.618201 92.614688 \nL 155.953336 97.757944 \nL 156.288471 107.60197 \nL 156.623606 110.115641 \nL 156.958742 110.668345 \nL 157.293877 106.405079 \nL 157.629012 105.65059 \nL 157.964147 106.937923 \nL 158.299282 111.562675 \nL 158.634417 112.096567 \nL 158.969552 110.476221 \nL 159.304688 104.618348 \nL 159.974958 100.826301 \nL 160.310093 99.220827 \nL 160.645228 105.60128 \nL 161.650633 99.835191 \nL 161.985769 103.021215 \nL 162.320904 109.058163 \nL 162.656039 109.70988 \nL 162.991174 105.5751 \nL 163.326309 105.139318 \nL 163.661444 107.971961 \nL 163.996579 109.464153 \nL 164.331715 107.369161 \nL 164.66685 107.873837 \nL 165.001985 109.741745 \nL 165.33712 114.358702 \nL 165.672255 108.858956 \nL 166.00739 114.371889 \nL 166.342525 114.1451 \nL 166.67766 111.390445 \nL 167.012796 106.697935 \nL 167.347931 109.028825 \nL 167.683066 115.272561 \nL 168.018201 117.542789 \nL 168.353336 117.192954 \nL 168.688471 116.020258 \nL 169.023606 111.350838 \nL 169.358742 112.967329 \nL 169.693877 117.053921 \nL 170.029012 110.537 \nL 170.364147 115.518473 \nL 170.699282 113.277692 \nL 171.034417 116.877619 \nL 171.369552 118.530448 \nL 171.704688 119.57804 \nL 172.039823 123.872889 \nL 172.374958 124.420588 \nL 172.710093 124.239184 \nL 173.045228 131.062285 \nL 173.380363 130.913694 \nL 173.715498 126.00226 \nL 174.050633 130.815337 \nL 174.385769 127.972835 \nL 174.720904 130.866511 \nL 175.056039 139.138621 \nL 175.391174 134.408968 \nL 175.726309 133.795296 \nL 176.061444 134.51942 \nL 176.396579 132.127533 \nL 176.731715 135.668331 \nL 177.06685 134.404301 \nL 177.401985 137.185732 \nL 178.072255 145.877684 \nL 178.40739 143.053907 \nL 178.742525 142.412815 \nL 179.07766 135.123044 \nL 179.412796 130.326307 \nL 179.747931 128.797146 \nL 180.083066 117.469954 \nL 180.418201 117.722848 \nL 180.753336 121.410882 \nL 181.088471 118.111081 \nL 181.423606 124.478145 \nL 181.758742 124.276239 \nL 182.093877 122.33641 \nL 182.764147 114.464756 \nL 183.099282 119.81128 \nL 183.434417 116.295035 \nL 183.769552 118.098878 \nL 184.104687 121.761908 \nL 184.439823 122.662867 \nL 184.774958 112.58121 \nL 185.110093 112.111271 \nL 185.445228 102.191212 \nL 185.780363 109.993177 \nL 186.450633 113.686984 \nL 186.785769 106.279533 \nL 187.120904 104.082462 \nL 187.456039 104.160345 \nL 187.791174 105.260473 \nL 188.126309 102.186195 \nL 188.461444 106.02347 \nL 188.796579 100.76852 \nL 189.46685 87.686625 \nL 189.801985 87.765738 \nL 190.13712 91.827729 \nL 190.472255 81.9198 \nL 190.80739 77.28902 \nL 191.142525 80.264158 \nL 191.47766 72.665253 \nL 191.812796 78.573244 \nL 192.483066 76.014542 \nL 193.153336 76.78396 \nL 193.488471 74.495785 \nL 193.823606 69.031424 \nL 194.158742 65.822516 \nL 194.493877 66.664325 \nL 195.164147 73.872558 \nL 195.499282 65.281803 \nL 195.834417 64.665482 \nL 196.169552 58.297359 \nL 196.504687 60.503227 \nL 196.839823 61.721427 \nL 197.174958 62.112721 \nL 197.510093 67.370944 \nL 197.845228 68.563006 \nL 198.180363 75.407854 \nL 198.515498 77.294604 \nL 198.850633 81.764218 \nL 199.185769 79.406449 \nL 199.520904 88.580072 \nL 199.856039 93.80119 \nL 200.191174 94.248748 \nL 200.526309 96.15789 \nL 200.861444 99.794201 \nL 201.531715 96.138429 \nL 201.86685 90.790333 \nL 202.201985 88.15789 \nL 202.53712 91.753563 \nL 202.872255 91.543634 \nL 203.20739 98.47202 \nL 203.542525 93.41076 \nL 203.87766 94.807293 \nL 204.212796 94.698373 \nL 204.883066 83.415319 \nL 205.218201 85.048765 \nL 205.553336 87.560597 \nL 205.888471 88.994059 \nL 206.223606 83.296343 \nL 206.558742 87.522745 \nL 206.893877 87.643157 \nL 207.229012 87.89897 \nL 207.564147 94.181551 \nL 207.899282 93.889879 \nL 208.569552 108.127553 \nL 208.904687 113.554566 \nL 209.239823 111.275071 \nL 209.574958 121.8198 \nL 210.245228 115.311692 \nL 210.580363 114.741904 \nL 210.915498 117.677657 \nL 211.250633 117.616888 \nL 211.585769 121.828256 \nL 211.920904 121.297833 \nL 212.256039 120.060009 \nL 212.591174 122.65937 \nL 212.926309 123.023004 \nL 213.261444 121.602045 \nL 213.596579 116.037853 \nL 214.26685 101.006882 \nL 214.601985 106.071595 \nL 214.93712 105.160082 \nL 215.272255 111.070287 \nL 215.60739 110.909517 \nL 215.942525 111.164245 \nL 216.27766 109.181634 \nL 216.612796 110.110581 \nL 217.283066 118.07187 \nL 217.618201 113.801614 \nL 217.953336 116.16943 \nL 218.288471 121.444597 \nL 218.623606 117.915806 \nL 218.958742 118.055154 \nL 219.293877 120.698486 \nL 219.629012 121.424324 \nL 219.964147 127.449168 \nL 220.299282 126.109735 \nL 220.634417 123.451375 \nL 220.969552 123.167301 \nL 221.304688 125.997904 \nL 221.639823 121.921938 \nL 221.974958 115.598931 \nL 222.645228 121.983968 \nL 222.980363 120.533434 \nL 223.315498 117.974913 \nL 223.650633 113.178591 \nL 223.985769 113.189268 \nL 224.320904 109.062126 \nL 224.656039 107.762491 \nL 224.991174 113.064985 \nL 225.326309 116.485891 \nL 225.661444 123.219946 \nL 225.996579 114.831092 \nL 226.331715 119.344446 \nL 226.66685 120.056815 \nL 227.001985 122.859934 \nL 227.33712 123.510163 \nL 227.672255 121.856168 \nL 228.00739 121.530072 \nL 228.67766 124.720997 \nL 229.012796 127.344423 \nL 229.347931 136.536497 \nL 229.683066 133.123304 \nL 230.018201 136.501623 \nL 230.353336 135.875447 \nL 230.688471 137.727547 \nL 231.693877 125.082446 \nL 232.029012 118.119815 \nL 232.364147 122.00091 \nL 232.699282 127.251395 \nL 233.034417 127.642827 \nL 233.369552 120.125323 \nL 233.704688 119.950922 \nL 234.039823 111.184115 \nL 234.374958 109.482276 \nL 234.710093 101.550932 \nL 235.045228 105.597572 \nL 235.380363 101.920345 \nL 235.715498 108.003218 \nL 236.050633 104.848369 \nL 236.720904 111.097913 \nL 237.056039 111.341657 \nL 237.391174 109.95282 \nL 237.726309 111.393537 \nL 238.061444 113.510561 \nL 238.396579 111.911958 \nL 238.731715 111.920641 \nL 239.401985 104.471452 \nL 239.73712 102.743553 \nL 240.072255 103.409285 \nL 240.40739 105.242943 \nL 240.742525 109.429879 \nL 241.07766 111.737633 \nL 241.412796 110.275002 \nL 241.747931 111.355925 \nL 242.083066 109.092568 \nL 242.418201 104.70189 \nL 242.753336 106.473862 \nL 243.088471 114.820248 \nL 243.423606 115.57418 \nL 243.758742 117.806459 \nL 244.093877 121.67661 \nL 244.429012 122.372167 \nL 244.764147 121.844375 \nL 245.099282 128.103094 \nL 245.434417 128.868273 \nL 245.769552 125.348456 \nL 246.104687 125.747439 \nL 246.439823 122.019114 \nL 246.774958 121.988004 \nL 247.110093 130.402471 \nL 247.445228 127.819972 \nL 247.780363 123.038744 \nL 248.115498 122.719034 \nL 248.450633 126.559469 \nL 248.785769 121.632337 \nL 249.120904 124.164459 \nL 249.456039 123.094237 \nL 249.791174 127.072654 \nL 250.126309 116.543868 \nL 250.461444 114.422448 \nL 250.796579 110.105937 \nL 251.131715 107.712638 \nL 251.46685 106.778761 \nL 251.801985 117.068271 \nL 252.13712 117.601036 \nL 252.472255 124.513973 \nL 252.80739 123.308685 \nL 253.142525 120.784015 \nL 253.47766 116.231717 \nL 253.812796 118.125251 \nL 254.483066 115.725592 \nL 254.818201 115.890729 \nL 255.153336 119.465289 \nL 255.488471 119.96183 \nL 255.823606 125.143635 \nL 256.158742 126.718136 \nL 256.493877 123.95778 \nL 256.829012 124.33128 \nL 257.164147 132.009708 \nL 257.834417 138.906249 \nL 258.169552 143.717765 \nL 258.504687 150.277599 \nL 258.839823 146.333277 \nL 259.174958 148.500311 \nL 259.510093 148.068643 \nL 259.845228 143.588401 \nL 260.180363 145.686173 \nL 260.515498 146.949038 \nL 260.850633 145.080524 \nL 261.185769 145.311923 \nL 261.520904 148.833734 \nL 261.856039 147.734397 \nL 262.526309 151.141023 \nL 262.861444 151.237464 \nL 263.196579 150.138715 \nL 263.531715 148.606284 \nL 263.86685 149.776016 \nL 264.201985 153.406606 \nL 264.53712 149.091261 \nL 264.872255 149.272749 \nL 265.20739 152.113135 \nL 265.542525 150.006692 \nL 265.87766 149.104471 \nL 266.212796 141.147887 \nL 266.547931 138.30853 \nL 266.883066 148.07226 \nL 267.218201 144.569456 \nL 267.553336 149.30844 \nL 267.888471 147.606717 \nL 268.223606 149.865513 \nL 268.558742 146.12269 \nL 268.893877 156.796682 \nL 269.229012 151.512629 \nL 269.564147 151.922339 \nL 269.899282 152.931709 \nL 270.234417 147.236558 \nL 270.569552 149.406088 \nL 270.904687 147.934188 \nL 271.239823 145.049111 \nL 271.574958 143.724719 \nL 271.910093 145.065361 \nL 272.245228 147.076134 \nL 272.580363 149.888104 \nL 272.915498 144.388131 \nL 273.250633 141.191807 \nL 273.585769 139.907528 \nL 273.920904 137.98766 \nL 274.256039 139.064104 \nL 274.591174 133.552506 \nL 274.926309 131.085965 \nL 275.596579 133.664641 \nL 275.931715 131.629113 \nL 276.26685 124.050976 \nL 276.601985 129.868483 \nL 276.93712 126.979124 \nL 277.272255 125.485514 \nL 277.60739 130.110381 \nL 277.942525 128.830404 \nL 278.27766 132.906923 \nL 278.612796 134.845576 \nL 278.947931 129.241404 \nL 279.283066 130.99672 \nL 279.618201 140.679864 \nL 279.953336 145.810214 \nL 280.288471 148.766906 \nL 280.958742 160.414286 \nL 281.293877 160.029677 \nL 281.629012 165.858454 \nL 282.299282 167.214884 \nL 282.634417 158.541684 \nL 282.969552 156.68612 \nL 283.304688 156.303963 \nL 283.639823 157.33596 \nL 283.974958 163.837742 \nL 284.310093 173.674631 \nL 284.645228 177.670581 \nL 285.650633 194.459816 \nL 285.985769 189.326221 \nL 286.320904 182.222074 \nL 286.656039 179.567215 \nL 286.991174 183.863897 \nL 287.326309 182.426207 \nL 287.661444 178.722511 \nL 287.996579 176.662909 \nL 288.331715 173.287552 \nL 288.66685 177.652253 \nL 289.001985 175.794581 \nL 289.33712 171.817808 \nL 289.672255 174.468303 \nL 290.00739 165.493974 \nL 290.342525 163.379147 \nL 291.012796 167.386684 \nL 291.347931 170.850888 \nL 291.683066 163.100397 \nL 292.018201 164.066356 \nL 292.353336 163.770027 \nL 292.688471 167.885639 \nL 293.023606 167.535744 \nL 293.358742 170.820762 \nL 293.693877 167.943616 \nL 294.029012 167.913413 \nL 294.364147 161.623276 \nL 294.699282 160.518532 \nL 295.034417 154.546926 \nL 295.369552 144.990336 \nL 295.704688 153.979307 \nL 296.039823 153.345971 \nL 296.374958 153.700608 \nL 296.710093 152.103871 \nL 297.045228 153.474811 \nL 297.380363 157.627238 \nL 297.715498 163.655642 \nL 298.050633 162.915949 \nL 298.720904 157.018542 \nL 299.056039 153.043693 \nL 299.391174 153.15571 \nL 299.726309 151.271932 \nL 300.061444 145.864156 \nL 300.396579 145.177313 \nL 300.731715 144.016155 \nL 301.401985 135.376088 \nL 301.73712 139.832287 \nL 302.072255 137.266247 \nL 302.40739 136.613472 \nL 302.742525 138.034766 \nL 303.412796 125.367537 \nL 303.747931 122.816673 \nL 304.083066 117.845257 \nL 304.418201 121.209825 \nL 304.753336 108.976068 \nL 305.088471 112.737813 \nL 305.423606 114.146447 \nL 305.758742 112.387541 \nL 306.093877 109.27512 \nL 307.099282 130.766594 \nL 307.434417 131.946258 \nL 308.104688 136.132633 \nL 308.439823 128.74492 \nL 308.774958 124.69217 \nL 309.110093 131.018854 \nL 309.445228 134.380299 \nL 309.780363 143.193356 \nL 310.115498 147.622039 \nL 310.450633 147.217435 \nL 310.785769 146.574812 \nL 311.120904 143.991729 \nL 311.456039 148.415961 \nL 311.791174 149.539733 \nL 312.126309 146.331981 \nL 312.461444 149.87379 \nL 312.796579 150.720785 \nL 313.131715 148.111004 \nL 313.46685 157.531047 \nL 313.801985 157.648914 \nL 314.13712 160.965624 \nL 314.472255 168.898098 \nL 314.80739 164.877445 \nL 315.142525 168.91819 \nL 315.47766 181.031485 \nL 315.812796 174.932381 \nL 316.147931 180.366486 \nL 316.818201 186.903877 \nL 317.153336 184.591836 \nL 317.488471 189.774634 \nL 317.823606 184.259547 \nL 318.158742 183.442332 \nL 318.493877 184.46797 \nL 318.829012 182.506486 \nL 319.164147 188.962292 \nL 319.499282 197.781339 \nL 319.834417 203.042806 \nL 320.169552 198.947233 \nL 320.504687 199.049974 \nL 320.839823 197.21235 \nL 321.174958 197.163461 \nL 321.845228 184.059051 \nL 322.180363 191.469481 \nL 322.515498 191.293728 \nL 322.850633 183.101616 \nL 323.185769 190.267904 \nL 323.856039 175.445693 \nL 324.526309 185.320278 \nL 324.861444 187.393539 \nL 325.196579 190.195183 \nL 325.531715 191.126602 \nL 325.86685 190.155713 \nL 326.201985 181.80175 \nL 326.53712 180.169662 \nL 327.20739 186.740903 \nL 327.542525 185.818475 \nL 328.212796 183.161265 \nL 328.547931 181.235013 \nL 328.883066 186.573103 \nL 329.218201 179.084213 \nL 329.888471 198.709664 \nL 330.223606 200.681334 \nL 330.558742 195.942592 \nL 330.893877 195.899931 \nL 331.229012 195.418871 \nL 331.564147 198.560204 \nL 331.899282 190.678983 \nL 332.234417 196.781974 \nL 332.569552 190.829389 \nL 332.904687 190.238608 \nL 333.239823 193.925988 \nL 333.574958 194.681467 \nL 333.910093 194.341171 \nL 334.915498 183.233529 \nL 335.250633 189.997843 \nL 335.585769 192.235512 \nL 335.920904 196.923219 \nL 336.256039 198.783956 \nL 336.591174 201.828259 \nL 336.926309 203.151328 \nL 337.261444 205.57942 \nL 337.596579 206.272131 \nL 338.26685 205.353853 \nL 338.601985 209.028979 \nL 338.93712 214.756364 \nL 339.272255 208.054029 \nL 339.60739 206.990787 \nL 339.942525 209.995646 \nL 340.27766 208.874189 \nL 340.947931 204.664629 \nL 341.283066 207.775026 \nL 341.618201 204.401477 \nL 341.953336 204.753124 \nL 342.288471 205.47547 \nL 342.623606 203.645953 \nL 342.958742 206.018969 \nL 343.293877 209.987334 \nL 343.629012 206.941157 \nL 343.964147 207.478538 \nL 344.299282 206.691771 \nL 344.634417 202.23573 \nL 344.969552 209.633648 \nL 345.304688 211.479842 \nL 345.639823 208.573381 \nL 345.974958 208.778328 \nL 346.310093 212.318089 \nL 346.645228 211.992377 \nL 346.980363 212.48996 \nL 347.315498 210.779922 \nL 347.650633 205.049621 \nL 347.985769 202.1533 \nL 348.320904 200.927766 \nL 348.656039 194.264679 \nL 348.991174 196.542547 \nL 349.326309 202.813982 \nL 349.661444 205.93067 \nL 349.996579 193.755017 \nL 350.331715 192.139684 \nL 351.001985 183.97917 \nL 351.33712 187.04887 \nL 351.672255 185.169502 \nL 352.00739 178.948178 \nL 352.342525 177.534933 \nL 352.67766 174.916962 \nL 353.012796 171.217305 \nL 353.347931 160.063985 \nL 353.683066 152.875494 \nL 354.018201 148.278726 \nL 354.353336 148.74001 \nL 354.688471 142.849057 \nL 355.023606 141.750406 \nL 356.364147 163.046399 \nL 356.699282 162.23718 \nL 357.034417 159.236303 \nL 357.369552 164.414874 \nL 357.704688 165.400243 \nL 358.039823 164.779723 \nL 358.374958 169.411083 \nL 358.710093 168.921024 \nL 359.380363 165.385466 \nL 359.715498 170.759803 \nL 360.050633 166.060592 \nL 360.385769 175.208711 \nL 360.720904 170.09118 \nL 361.056039 169.3435 \nL 361.391174 167.267368 \nL 361.726309 161.158398 \nL 362.061444 170.498241 \nL 362.396579 166.199494 \nL 362.731715 163.913203 \nL 363.06685 165.566797 \nL 363.401985 173.128677 \nL 363.73712 169.3425 \nL 364.072255 162.333078 \nL 364.40739 161.800463 \nL 365.07766 169.481428 \nL 365.412796 163.286331 \nL 365.747931 161.764382 \nL 366.083066 158.926782 \nL 366.418201 157.218084 \nL 366.753336 156.329463 \nL 367.088471 154.008958 \nL 367.423606 147.156938 \nL 367.758742 143.723921 \nL 368.093877 149.585899 \nL 368.429012 145.679008 \nL 368.764147 144.268232 \nL 369.099282 144.848615 \nL 369.434417 147.221756 \nL 369.769552 146.274254 \nL 370.104688 143.748743 \nL 370.104688 143.748743 \n\" style=\"fill:none;stroke:#1f77b4;stroke-linecap:square;stroke-width:1.5;\"/>\n   </g>\n   <g id=\"patch_3\">\n    <path d=\"M 35.304688 224.64 \nL 35.304688 7.2 \n\" style=\"fill:none;stroke:#000000;stroke-linecap:square;stroke-linejoin:miter;stroke-width:0.8;\"/>\n   </g>\n   <g id=\"patch_4\">\n    <path d=\"M 370.104688 224.64 \nL 370.104688 7.2 \n\" style=\"fill:none;stroke:#000000;stroke-linecap:square;stroke-linejoin:miter;stroke-width:0.8;\"/>\n   </g>\n   <g id=\"patch_5\">\n    <path d=\"M 35.304688 224.64 \nL 370.104688 224.64 \n\" style=\"fill:none;stroke:#000000;stroke-linecap:square;stroke-linejoin:miter;stroke-width:0.8;\"/>\n   </g>\n   <g id=\"patch_6\">\n    <path d=\"M 35.304688 7.2 \nL 370.104688 7.2 \n\" style=\"fill:none;stroke:#000000;stroke-linecap:square;stroke-linejoin:miter;stroke-width:0.8;\"/>\n   </g>\n  </g>\n </g>\n <defs>\n  <clipPath id=\"pa9e04199ca\">\n   <rect height=\"217.44\" width=\"334.8\" x=\"35.304688\" y=\"7.2\"/>\n  </clipPath>\n </defs>\n</svg>\n",
      "image/png": "[encoded data removed]"
     },
     "metadata": {
      "needs_background": "light"
     }
    }
   ],
   "source": [
    "ts = pd.Series(np.random.randn(1000), index=pd.date_range('1/1/2000', periods=1000))\n",
    "ts = ts.cumsum()\n",
    "ts.plot()"
   ]
  },
  {
   "cell_type": "code",
   "execution_count": 29,
   "metadata": {},
   "outputs": [
    {
     "output_type": "execute_result",
     "data": {
      "text/plain": [
       "<matplotlib.legend.Legend at 0x7fdc686a66a0>"
      ]
     },
     "metadata": {},
     "execution_count": 29
    },
    {
     "output_type": "display_data",
     "data": {
      "text/plain": "<Figure size 432x288 with 1 Axes>",
      "image/svg+xml": "<?xml version=\"1.0\" encoding=\"utf-8\" standalone=\"no\"?>\n<!DOCTYPE svg PUBLIC \"-//W3C//DTD SVG 1.1//EN\"\n  \"http://www.w3.org/Graphics/SVG/1.1/DTD/svg11.dtd\">\n<!-- Created with matplotlib (https://matplotlib.org/) -->\n<svg height=\"246.512908pt\" version=\"1.1\" viewBox=\"0 0 377.304687 246.512908\" width=\"377.304687pt\" xmlns=\"http://www.w3.org/2000/svg\" xmlns:xlink=\"http://www.w3.org/1999/xlink\">\n <metadata>\n  <rdf:RDF xmlns:cc=\"http://creativecommons.org/ns#\" xmlns:dc=\"http://purl.org/dc/elements/1.1/\" xmlns:rdf=\"http://www.w3.org/1999/02/22-rdf-syntax-ns#\">\n   <cc:Work>\n    <dc:type rdf:resource=\"http://purl.org/dc/dcmitype/StillImage\"/>\n    <dc:date>2021-03-28T06:56:52.266813</dc:date>\n    <dc:format>image/svg+xml</dc:format>\n    <dc:creator>\n     <cc:Agent>\n      <dc:title>Matplotlib v3.3.4, https://matplotlib.org/</dc:title>\n     </cc:Agent>\n    </dc:creator>\n   </cc:Work>\n  </rdf:RDF>\n </metadata>\n <defs>\n  <style type=\"text/css\">*{stroke-linecap:butt;stroke-linejoin:round;}</style>\n </defs>\n <g id=\"figure_1\">\n  <g id=\"patch_1\">\n   <path d=\"M 0 246.512908 \nL 377.304687 246.512908 \nL 377.304687 0 \nL 0 0 \nz\n\" style=\"fill:none;\"/>\n  </g>\n  <g id=\"axes_1\">\n   <g id=\"patch_2\">\n    <path d=\"M 35.304688 203.04 \nL 370.104688 203.04 \nL 370.104688 7.2 \nL 35.304688 7.2 \nz\n\" style=\"fill:#ffffff;\"/>\n   </g>\n   <g id=\"matplotlib.axis_1\">\n    <g id=\"xtick_1\">\n     <g id=\"line2d_1\">\n      <defs>\n       <path d=\"M 0 0 \nL 0 3.5 \n\" id=\"m83eb268e46\" style=\"stroke:#000000;stroke-width:0.8;\"/>\n      </defs>\n      <g>\n       <use style=\"stroke:#000000;stroke-width:0.8;\" x=\"50.522869\" xlink:href=\"#m83eb268e46\" y=\"203.04\"/>\n      </g>\n     </g>\n     <g id=\"text_1\">\n      <!-- 2000-01 -->\n      <g transform=\"translate(13.298049 237.511846)rotate(-30)scale(0.1 -0.1)\">\n       <defs>\n        <path d=\"M 19.1875 8.296875 \nL 53.609375 8.296875 \nL 53.609375 0 \nL 7.328125 0 \nL 7.328125 8.296875 \nQ 12.9375 14.109375 22.625 23.890625 \nQ 32.328125 33.6875 34.8125 36.53125 \nQ 39.546875 41.84375 41.421875 45.53125 \nQ 43.3125 49.21875 43.3125 52.78125 \nQ 43.3125 58.59375 39.234375 62.25 \nQ 35.15625 65.921875 28.609375 65.921875 \nQ 23.96875 65.921875 18.8125 64.3125 \nQ 13.671875 62.703125 7.8125 59.421875 \nL 7.8125 69.390625 \nQ 13.765625 71.78125 18.9375 73 \nQ 24.125 74.21875 28.421875 74.21875 \nQ 39.75 74.21875 46.484375 68.546875 \nQ 53.21875 62.890625 53.21875 53.421875 \nQ 53.21875 48.921875 51.53125 44.890625 \nQ 49.859375 40.875 45.40625 35.40625 \nQ 44.1875 33.984375 37.640625 27.21875 \nQ 31.109375 20.453125 19.1875 8.296875 \nz\n\" id=\"DejaVuSans-50\"/>\n        <path d=\"M 31.78125 66.40625 \nQ 24.171875 66.40625 20.328125 58.90625 \nQ 16.5 51.421875 16.5 36.375 \nQ 16.5 21.390625 20.328125 13.890625 \nQ 24.171875 6.390625 31.78125 6.390625 \nQ 39.453125 6.390625 43.28125 13.890625 \nQ 47.125 21.390625 47.125 36.375 \nQ 47.125 51.421875 43.28125 58.90625 \nQ 39.453125 66.40625 31.78125 66.40625 \nz\nM 31.78125 74.21875 \nQ 44.046875 74.21875 50.515625 64.515625 \nQ 56.984375 54.828125 56.984375 36.375 \nQ 56.984375 17.96875 50.515625 8.265625 \nQ 44.046875 -1.421875 31.78125 -1.421875 \nQ 19.53125 -1.421875 13.0625 8.265625 \nQ 6.59375 17.96875 6.59375 36.375 \nQ 6.59375 54.828125 13.0625 64.515625 \nQ 19.53125 74.21875 31.78125 74.21875 \nz\n\" id=\"DejaVuSans-48\"/>\n        <path d=\"M 4.890625 31.390625 \nL 31.203125 31.390625 \nL 31.203125 23.390625 \nL 4.890625 23.390625 \nz\n\" id=\"DejaVuSans-45\"/>\n        <path d=\"M 12.40625 8.296875 \nL 28.515625 8.296875 \nL 28.515625 63.921875 \nL 10.984375 60.40625 \nL 10.984375 69.390625 \nL 28.421875 72.90625 \nL 38.28125 72.90625 \nL 38.28125 8.296875 \nL 54.390625 8.296875 \nL 54.390625 0 \nL 12.40625 0 \nz\n\" id=\"DejaVuSans-49\"/>\n       </defs>\n       <use xlink:href=\"#DejaVuSans-50\"/>\n       <use x=\"63.623047\" xlink:href=\"#DejaVuSans-48\"/>\n       <use x=\"127.246094\" xlink:href=\"#DejaVuSans-48\"/>\n       <use x=\"190.869141\" xlink:href=\"#DejaVuSans-48\"/>\n       <use x=\"254.492188\" xlink:href=\"#DejaVuSans-45\"/>\n       <use x=\"290.576172\" xlink:href=\"#DejaVuSans-48\"/>\n       <use x=\"354.199219\" xlink:href=\"#DejaVuSans-49\"/>\n      </g>\n     </g>\n    </g>\n    <g id=\"xtick_2\">\n     <g id=\"line2d_2\">\n      <g>\n       <use style=\"stroke:#000000;stroke-width:0.8;\" x=\"87.387734\" xlink:href=\"#m83eb268e46\" y=\"203.04\"/>\n      </g>\n     </g>\n     <g id=\"text_2\">\n      <!-- 2000-05 -->\n      <g transform=\"translate(50.162913 237.511846)rotate(-30)scale(0.1 -0.1)\">\n       <defs>\n        <path d=\"M 10.796875 72.90625 \nL 49.515625 72.90625 \nL 49.515625 64.59375 \nL 19.828125 64.59375 \nL 19.828125 46.734375 \nQ 21.96875 47.46875 24.109375 47.828125 \nQ 26.265625 48.1875 28.421875 48.1875 \nQ 40.625 48.1875 47.75 41.5 \nQ 54.890625 34.8125 54.890625 23.390625 \nQ 54.890625 11.625 47.5625 5.09375 \nQ 40.234375 -1.421875 26.90625 -1.421875 \nQ 22.3125 -1.421875 17.546875 -0.640625 \nQ 12.796875 0.140625 7.71875 1.703125 \nL 7.71875 11.625 \nQ 12.109375 9.234375 16.796875 8.0625 \nQ 21.484375 6.890625 26.703125 6.890625 \nQ 35.15625 6.890625 40.078125 11.328125 \nQ 45.015625 15.765625 45.015625 23.390625 \nQ 45.015625 31 40.078125 35.4375 \nQ 35.15625 39.890625 26.703125 39.890625 \nQ 22.75 39.890625 18.8125 39.015625 \nQ 14.890625 38.140625 10.796875 36.28125 \nz\n\" id=\"DejaVuSans-53\"/>\n       </defs>\n       <use xlink:href=\"#DejaVuSans-50\"/>\n       <use x=\"63.623047\" xlink:href=\"#DejaVuSans-48\"/>\n       <use x=\"127.246094\" xlink:href=\"#DejaVuSans-48\"/>\n       <use x=\"190.869141\" xlink:href=\"#DejaVuSans-48\"/>\n       <use x=\"254.492188\" xlink:href=\"#DejaVuSans-45\"/>\n       <use x=\"290.576172\" xlink:href=\"#DejaVuSans-48\"/>\n       <use x=\"354.199219\" xlink:href=\"#DejaVuSans-53\"/>\n      </g>\n     </g>\n    </g>\n    <g id=\"xtick_3\">\n     <g id=\"line2d_3\">\n      <g>\n       <use style=\"stroke:#000000;stroke-width:0.8;\" x=\"124.861936\" xlink:href=\"#m83eb268e46\" y=\"203.04\"/>\n      </g>\n     </g>\n     <g id=\"text_3\">\n      <!-- 2000-09 -->\n      <g transform=\"translate(87.637115 237.511846)rotate(-30)scale(0.1 -0.1)\">\n       <defs>\n        <path d=\"M 10.984375 1.515625 \nL 10.984375 10.5 \nQ 14.703125 8.734375 18.5 7.8125 \nQ 22.3125 6.890625 25.984375 6.890625 \nQ 35.75 6.890625 40.890625 13.453125 \nQ 46.046875 20.015625 46.78125 33.40625 \nQ 43.953125 29.203125 39.59375 26.953125 \nQ 35.25 24.703125 29.984375 24.703125 \nQ 19.046875 24.703125 12.671875 31.3125 \nQ 6.296875 37.9375 6.296875 49.421875 \nQ 6.296875 60.640625 12.9375 67.421875 \nQ 19.578125 74.21875 30.609375 74.21875 \nQ 43.265625 74.21875 49.921875 64.515625 \nQ 56.59375 54.828125 56.59375 36.375 \nQ 56.59375 19.140625 48.40625 8.859375 \nQ 40.234375 -1.421875 26.421875 -1.421875 \nQ 22.703125 -1.421875 18.890625 -0.6875 \nQ 15.09375 0.046875 10.984375 1.515625 \nz\nM 30.609375 32.421875 \nQ 37.25 32.421875 41.125 36.953125 \nQ 45.015625 41.5 45.015625 49.421875 \nQ 45.015625 57.28125 41.125 61.84375 \nQ 37.25 66.40625 30.609375 66.40625 \nQ 23.96875 66.40625 20.09375 61.84375 \nQ 16.21875 57.28125 16.21875 49.421875 \nQ 16.21875 41.5 20.09375 36.953125 \nQ 23.96875 32.421875 30.609375 32.421875 \nz\n\" id=\"DejaVuSans-57\"/>\n       </defs>\n       <use xlink:href=\"#DejaVuSans-50\"/>\n       <use x=\"63.623047\" xlink:href=\"#DejaVuSans-48\"/>\n       <use x=\"127.246094\" xlink:href=\"#DejaVuSans-48\"/>\n       <use x=\"190.869141\" xlink:href=\"#DejaVuSans-48\"/>\n       <use x=\"254.492188\" xlink:href=\"#DejaVuSans-45\"/>\n       <use x=\"290.576172\" xlink:href=\"#DejaVuSans-48\"/>\n       <use x=\"354.199219\" xlink:href=\"#DejaVuSans-57\"/>\n      </g>\n     </g>\n    </g>\n    <g id=\"xtick_4\">\n     <g id=\"line2d_4\">\n      <g>\n       <use style=\"stroke:#000000;stroke-width:0.8;\" x=\"162.031469\" xlink:href=\"#m83eb268e46\" y=\"203.04\"/>\n      </g>\n     </g>\n     <g id=\"text_4\">\n      <!-- 2001-01 -->\n      <g transform=\"translate(124.806648 237.511846)rotate(-30)scale(0.1 -0.1)\">\n       <use xlink:href=\"#DejaVuSans-50\"/>\n       <use x=\"63.623047\" xlink:href=\"#DejaVuSans-48\"/>\n       <use x=\"127.246094\" xlink:href=\"#DejaVuSans-48\"/>\n       <use x=\"190.869141\" xlink:href=\"#DejaVuSans-49\"/>\n       <use x=\"254.492188\" xlink:href=\"#DejaVuSans-45\"/>\n       <use x=\"290.576172\" xlink:href=\"#DejaVuSans-48\"/>\n       <use x=\"354.199219\" xlink:href=\"#DejaVuSans-49\"/>\n      </g>\n     </g>\n    </g>\n    <g id=\"xtick_5\">\n     <g id=\"line2d_5\">\n      <g>\n       <use style=\"stroke:#000000;stroke-width:0.8;\" x=\"198.591665\" xlink:href=\"#m83eb268e46\" y=\"203.04\"/>\n      </g>\n     </g>\n     <g id=\"text_5\">\n      <!-- 2001-05 -->\n      <g transform=\"translate(161.366845 237.511846)rotate(-30)scale(0.1 -0.1)\">\n       <use xlink:href=\"#DejaVuSans-50\"/>\n       <use x=\"63.623047\" xlink:href=\"#DejaVuSans-48\"/>\n       <use x=\"127.246094\" xlink:href=\"#DejaVuSans-48\"/>\n       <use x=\"190.869141\" xlink:href=\"#DejaVuSans-49\"/>\n       <use x=\"254.492188\" xlink:href=\"#DejaVuSans-45\"/>\n       <use x=\"290.576172\" xlink:href=\"#DejaVuSans-48\"/>\n       <use x=\"354.199219\" xlink:href=\"#DejaVuSans-53\"/>\n      </g>\n     </g>\n    </g>\n    <g id=\"xtick_6\">\n     <g id=\"line2d_6\">\n      <g>\n       <use style=\"stroke:#000000;stroke-width:0.8;\" x=\"236.065867\" xlink:href=\"#m83eb268e46\" y=\"203.04\"/>\n      </g>\n     </g>\n     <g id=\"text_6\">\n      <!-- 2001-09 -->\n      <g transform=\"translate(198.841046 237.511846)rotate(-30)scale(0.1 -0.1)\">\n       <use xlink:href=\"#DejaVuSans-50\"/>\n       <use x=\"63.623047\" xlink:href=\"#DejaVuSans-48\"/>\n       <use x=\"127.246094\" xlink:href=\"#DejaVuSans-48\"/>\n       <use x=\"190.869141\" xlink:href=\"#DejaVuSans-49\"/>\n       <use x=\"254.492188\" xlink:href=\"#DejaVuSans-45\"/>\n       <use x=\"290.576172\" xlink:href=\"#DejaVuSans-48\"/>\n       <use x=\"354.199219\" xlink:href=\"#DejaVuSans-57\"/>\n      </g>\n     </g>\n    </g>\n    <g id=\"xtick_7\">\n     <g id=\"line2d_7\">\n      <g>\n       <use style=\"stroke:#000000;stroke-width:0.8;\" x=\"273.2354\" xlink:href=\"#m83eb268e46\" y=\"203.04\"/>\n      </g>\n     </g>\n     <g id=\"text_7\">\n      <!-- 2002-01 -->\n      <g transform=\"translate(236.010579 237.511846)rotate(-30)scale(0.1 -0.1)\">\n       <use xlink:href=\"#DejaVuSans-50\"/>\n       <use x=\"63.623047\" xlink:href=\"#DejaVuSans-48\"/>\n       <use x=\"127.246094\" xlink:href=\"#DejaVuSans-48\"/>\n       <use x=\"190.869141\" xlink:href=\"#DejaVuSans-50\"/>\n       <use x=\"254.492188\" xlink:href=\"#DejaVuSans-45\"/>\n       <use x=\"290.576172\" xlink:href=\"#DejaVuSans-48\"/>\n       <use x=\"354.199219\" xlink:href=\"#DejaVuSans-49\"/>\n      </g>\n     </g>\n    </g>\n    <g id=\"xtick_8\">\n     <g id=\"line2d_8\">\n      <g>\n       <use style=\"stroke:#000000;stroke-width:0.8;\" x=\"309.795597\" xlink:href=\"#m83eb268e46\" y=\"203.04\"/>\n      </g>\n     </g>\n     <g id=\"text_8\">\n      <!-- 2002-05 -->\n      <g transform=\"translate(272.570776 237.511846)rotate(-30)scale(0.1 -0.1)\">\n       <use xlink:href=\"#DejaVuSans-50\"/>\n       <use x=\"63.623047\" xlink:href=\"#DejaVuSans-48\"/>\n       <use x=\"127.246094\" xlink:href=\"#DejaVuSans-48\"/>\n       <use x=\"190.869141\" xlink:href=\"#DejaVuSans-50\"/>\n       <use x=\"254.492188\" xlink:href=\"#DejaVuSans-45\"/>\n       <use x=\"290.576172\" xlink:href=\"#DejaVuSans-48\"/>\n       <use x=\"354.199219\" xlink:href=\"#DejaVuSans-53\"/>\n      </g>\n     </g>\n    </g>\n    <g id=\"xtick_9\">\n     <g id=\"line2d_9\">\n      <g>\n       <use style=\"stroke:#000000;stroke-width:0.8;\" x=\"347.269798\" xlink:href=\"#m83eb268e46\" y=\"203.04\"/>\n      </g>\n     </g>\n     <g id=\"text_9\">\n      <!-- 2002-09 -->\n      <g transform=\"translate(310.044977 237.511846)rotate(-30)scale(0.1 -0.1)\">\n       <use xlink:href=\"#DejaVuSans-50\"/>\n       <use x=\"63.623047\" xlink:href=\"#DejaVuSans-48\"/>\n       <use x=\"127.246094\" xlink:href=\"#DejaVuSans-48\"/>\n       <use x=\"190.869141\" xlink:href=\"#DejaVuSans-50\"/>\n       <use x=\"254.492188\" xlink:href=\"#DejaVuSans-45\"/>\n       <use x=\"290.576172\" xlink:href=\"#DejaVuSans-48\"/>\n       <use x=\"354.199219\" xlink:href=\"#DejaVuSans-57\"/>\n      </g>\n     </g>\n    </g>\n   </g>\n   <g id=\"matplotlib.axis_2\">\n    <g id=\"ytick_1\">\n     <g id=\"line2d_10\">\n      <defs>\n       <path d=\"M 0 0 \nL -3.5 0 \n\" id=\"m38ea333675\" style=\"stroke:#000000;stroke-width:0.8;\"/>\n      </defs>\n      <g>\n       <use style=\"stroke:#000000;stroke-width:0.8;\" x=\"35.304688\" xlink:href=\"#m38ea333675\" y=\"189.640965\"/>\n      </g>\n     </g>\n     <g id=\"text_10\">\n      <!-- −30 -->\n      <g transform=\"translate(7.2 193.440184)scale(0.1 -0.1)\">\n       <defs>\n        <path d=\"M 10.59375 35.5 \nL 73.1875 35.5 \nL 73.1875 27.203125 \nL 10.59375 27.203125 \nz\n\" id=\"DejaVuSans-8722\"/>\n        <path d=\"M 40.578125 39.3125 \nQ 47.65625 37.796875 51.625 33 \nQ 55.609375 28.21875 55.609375 21.1875 \nQ 55.609375 10.40625 48.1875 4.484375 \nQ 40.765625 -1.421875 27.09375 -1.421875 \nQ 22.515625 -1.421875 17.65625 -0.515625 \nQ 12.796875 0.390625 7.625 2.203125 \nL 7.625 11.71875 \nQ 11.71875 9.328125 16.59375 8.109375 \nQ 21.484375 6.890625 26.8125 6.890625 \nQ 36.078125 6.890625 40.9375 10.546875 \nQ 45.796875 14.203125 45.796875 21.1875 \nQ 45.796875 27.640625 41.28125 31.265625 \nQ 36.765625 34.90625 28.71875 34.90625 \nL 20.21875 34.90625 \nL 20.21875 43.015625 \nL 29.109375 43.015625 \nQ 36.375 43.015625 40.234375 45.921875 \nQ 44.09375 48.828125 44.09375 54.296875 \nQ 44.09375 59.90625 40.109375 62.90625 \nQ 36.140625 65.921875 28.71875 65.921875 \nQ 24.65625 65.921875 20.015625 65.03125 \nQ 15.375 64.15625 9.8125 62.3125 \nL 9.8125 71.09375 \nQ 15.4375 72.65625 20.34375 73.4375 \nQ 25.25 74.21875 29.59375 74.21875 \nQ 40.828125 74.21875 47.359375 69.109375 \nQ 53.90625 64.015625 53.90625 55.328125 \nQ 53.90625 49.265625 50.4375 45.09375 \nQ 46.96875 40.921875 40.578125 39.3125 \nz\n\" id=\"DejaVuSans-51\"/>\n       </defs>\n       <use xlink:href=\"#DejaVuSans-8722\"/>\n       <use x=\"83.789062\" xlink:href=\"#DejaVuSans-51\"/>\n       <use x=\"147.412109\" xlink:href=\"#DejaVuSans-48\"/>\n      </g>\n     </g>\n    </g>\n    <g id=\"ytick_2\">\n     <g id=\"line2d_11\">\n      <g>\n       <use style=\"stroke:#000000;stroke-width:0.8;\" x=\"35.304688\" xlink:href=\"#m38ea333675\" y=\"150.612041\"/>\n      </g>\n     </g>\n     <g id=\"text_11\">\n      <!-- −20 -->\n      <g transform=\"translate(7.2 154.41126)scale(0.1 -0.1)\">\n       <use xlink:href=\"#DejaVuSans-8722\"/>\n       <use x=\"83.789062\" xlink:href=\"#DejaVuSans-50\"/>\n       <use x=\"147.412109\" xlink:href=\"#DejaVuSans-48\"/>\n      </g>\n     </g>\n    </g>\n    <g id=\"ytick_3\">\n     <g id=\"line2d_12\">\n      <g>\n       <use style=\"stroke:#000000;stroke-width:0.8;\" x=\"35.304688\" xlink:href=\"#m38ea333675\" y=\"111.583118\"/>\n      </g>\n     </g>\n     <g id=\"text_12\">\n      <!-- −10 -->\n      <g transform=\"translate(7.2 115.382337)scale(0.1 -0.1)\">\n       <use xlink:href=\"#DejaVuSans-8722\"/>\n       <use x=\"83.789062\" xlink:href=\"#DejaVuSans-49\"/>\n       <use x=\"147.412109\" xlink:href=\"#DejaVuSans-48\"/>\n      </g>\n     </g>\n    </g>\n    <g id=\"ytick_4\">\n     <g id=\"line2d_13\">\n      <g>\n       <use style=\"stroke:#000000;stroke-width:0.8;\" x=\"35.304688\" xlink:href=\"#m38ea333675\" y=\"72.554194\"/>\n      </g>\n     </g>\n     <g id=\"text_13\">\n      <!-- 0 -->\n      <g transform=\"translate(21.942188 76.353413)scale(0.1 -0.1)\">\n       <use xlink:href=\"#DejaVuSans-48\"/>\n      </g>\n     </g>\n    </g>\n    <g id=\"ytick_5\">\n     <g id=\"line2d_14\">\n      <g>\n       <use style=\"stroke:#000000;stroke-width:0.8;\" x=\"35.304688\" xlink:href=\"#m38ea333675\" y=\"33.525271\"/>\n      </g>\n     </g>\n     <g id=\"text_14\">\n      <!-- 10 -->\n      <g transform=\"translate(15.579688 37.32449)scale(0.1 -0.1)\">\n       <use xlink:href=\"#DejaVuSans-49\"/>\n       <use x=\"63.623047\" xlink:href=\"#DejaVuSans-48\"/>\n      </g>\n     </g>\n    </g>\n   </g>\n   <g id=\"line2d_15\">\n    <path clip-path=\"url(#pbf7269641b)\" d=\"M 50.522869 77.846774 \nL 50.827538 81.956474 \nL 51.132206 83.976567 \nL 51.436874 88.408923 \nL 51.741543 87.282018 \nL 52.046211 90.7568 \nL 52.655547 85.672427 \nL 52.960216 87.600066 \nL 53.264884 81.659312 \nL 53.569552 85.952839 \nL 53.874221 80.845271 \nL 54.178889 78.671408 \nL 54.483557 78.322301 \nL 54.788226 84.17591 \nL 55.092894 80.581833 \nL 55.397562 88.981575 \nL 56.006899 81.704257 \nL 56.920904 94.379599 \nL 57.225572 92.495118 \nL 57.53024 88.752285 \nL 57.834909 94.223473 \nL 58.139577 95.459191 \nL 58.444245 94.15352 \nL 58.748914 89.352139 \nL 59.053582 93.575083 \nL 59.662918 82.305112 \nL 59.967587 84.202245 \nL 60.272255 83.407822 \nL 60.881592 102.297055 \nL 61.18626 104.637652 \nL 61.490928 98.612506 \nL 61.795597 99.364228 \nL 62.100265 97.4371 \nL 62.404933 94.653631 \nL 62.709602 97.371622 \nL 63.01427 96.159811 \nL 63.318938 93.032939 \nL 63.928275 98.877568 \nL 64.232943 102.983242 \nL 64.537611 101.151776 \nL 64.84228 104.426752 \nL 65.146948 96.255671 \nL 65.451616 94.865118 \nL 65.756285 92.676234 \nL 66.060953 86.799272 \nL 66.365621 87.827838 \nL 66.670289 87.237949 \nL 66.974958 85.843144 \nL 67.279626 95.088215 \nL 68.193631 80.685418 \nL 68.498299 79.807746 \nL 69.107636 73.492845 \nL 69.412304 83.047484 \nL 69.716973 82.975358 \nL 70.021641 78.15879 \nL 70.326309 79.984345 \nL 70.630977 75.498778 \nL 70.935646 76.514013 \nL 71.240314 75.660831 \nL 71.544982 76.375985 \nL 72.154319 86.497278 \nL 72.458987 87.082785 \nL 72.763656 93.336232 \nL 73.068324 90.821436 \nL 73.372992 83.668278 \nL 73.67766 87.943646 \nL 73.982329 78.39289 \nL 74.286997 77.84355 \nL 74.591665 76.277868 \nL 74.896334 76.024276 \nL 75.201002 69.981419 \nL 76.115007 91.515415 \nL 76.419675 90.762248 \nL 76.724344 89.029857 \nL 77.33368 94.712888 \nL 77.638348 100.412607 \nL 77.943017 102.306487 \nL 78.247685 102.61967 \nL 78.552353 99.357912 \nL 78.857022 100.214068 \nL 79.16169 99.512925 \nL 79.466358 100.236851 \nL 79.771027 103.796327 \nL 80.380363 101.369887 \nL 80.9897 92.844217 \nL 81.294368 86.766954 \nL 81.599036 90.60034 \nL 81.903705 89.760424 \nL 82.513041 97.120733 \nL 82.81771 106.413642 \nL 83.122378 96.884898 \nL 83.427046 97.290105 \nL 83.731715 102.571035 \nL 84.036383 105.693719 \nL 84.341051 106.405398 \nL 84.950388 99.778265 \nL 85.255056 100.661315 \nL 85.559724 97.168744 \nL 85.864393 95.835636 \nL 86.169061 95.874259 \nL 86.473729 97.761231 \nL 86.778398 93.871864 \nL 87.083066 92.510533 \nL 87.387734 89.977367 \nL 87.692402 80.820355 \nL 87.997071 81.047175 \nL 88.301739 85.068882 \nL 88.606407 85.271283 \nL 88.911076 90.103956 \nL 89.215744 90.239114 \nL 89.520412 92.244373 \nL 89.825081 92.540505 \nL 90.129749 88.667816 \nL 90.434417 82.400096 \nL 90.739086 85.019634 \nL 91.043754 83.321702 \nL 91.348422 92.06334 \nL 91.65309 96.200995 \nL 91.957759 94.03209 \nL 92.262427 94.547974 \nL 92.567095 99.719914 \nL 92.871764 102.347221 \nL 93.176432 103.025519 \nL 93.4811 104.915436 \nL 93.785769 108.497615 \nL 94.090437 105.92332 \nL 94.395105 107.376248 \nL 94.699773 102.696514 \nL 95.004442 103.09276 \nL 95.30911 100.010001 \nL 95.613778 103.3717 \nL 95.918447 100.322768 \nL 96.223115 95.420229 \nL 96.527783 101.503214 \nL 97.13712 107.464559 \nL 97.441788 102.416227 \nL 97.746457 109.200201 \nL 98.051125 103.373618 \nL 98.355793 102.864931 \nL 98.660461 95.74825 \nL 98.96513 96.201696 \nL 99.269798 95.976358 \nL 99.574466 102.827233 \nL 99.879135 102.100659 \nL 100.183803 102.650077 \nL 100.488471 105.167478 \nL 100.79314 104.8034 \nL 101.097808 105.110838 \nL 101.402476 104.648573 \nL 101.707145 107.995035 \nL 102.011813 107.299412 \nL 102.316481 104.535297 \nL 102.925818 111.237491 \nL 103.535154 98.487129 \nL 103.839823 100.050605 \nL 104.144491 98.812961 \nL 104.449159 95.393188 \nL 104.753828 100.005811 \nL 105.058496 97.282084 \nL 105.363164 101.802148 \nL 105.667832 103.099631 \nL 105.972501 96.162897 \nL 106.581837 92.469755 \nL 106.886506 96.130621 \nL 107.495842 94.234518 \nL 107.800511 92.503786 \nL 108.105179 93.908162 \nL 108.409847 89.568432 \nL 108.714516 89.415254 \nL 109.019184 92.26689 \nL 109.323852 88.698762 \nL 109.62852 88.953436 \nL 109.933189 90.005475 \nL 110.542525 96.713635 \nL 110.847194 94.936274 \nL 111.151862 95.015935 \nL 111.45653 103.27813 \nL 112.065867 90.502224 \nL 112.979872 85.188587 \nL 113.28454 86.497435 \nL 113.589208 83.661012 \nL 114.198545 69.886939 \nL 114.503213 66.069335 \nL 114.807882 68.808289 \nL 115.11255 66.17604 \nL 115.417218 67.052608 \nL 115.721887 71.263603 \nL 116.026555 69.862237 \nL 116.331223 67.714596 \nL 116.635891 68.635326 \nL 116.94056 64.459033 \nL 117.245228 66.890887 \nL 117.549896 68.264188 \nL 117.854565 57.937361 \nL 118.463901 53.280701 \nL 118.76857 49.961171 \nL 119.073238 54.124714 \nL 119.377906 55.600697 \nL 119.682574 53.995853 \nL 119.987243 51.202877 \nL 120.291911 52.156386 \nL 120.596579 48.631215 \nL 120.901248 41.36251 \nL 121.205916 48.079392 \nL 121.510584 39.234843 \nL 122.424589 28.845145 \nL 122.729258 29.848051 \nL 123.338594 32.245237 \nL 123.643262 25.368479 \nL 123.947931 28.619325 \nL 124.252599 33.572688 \nL 124.557267 29.541179 \nL 124.861936 21.130707 \nL 125.166604 19.079272 \nL 125.471272 23.522124 \nL 125.775941 25.523111 \nL 126.080609 20.329985 \nL 126.385277 21.314023 \nL 126.689945 16.101818 \nL 126.994614 23.903342 \nL 127.299282 18.840889 \nL 127.60395 16.72084 \nL 128.822624 24.580261 \nL 129.127292 23.625394 \nL 129.43196 27.750748 \nL 129.736629 28.587253 \nL 130.041297 30.067289 \nL 130.345965 27.244289 \nL 130.650633 29.592929 \nL 130.955302 26.049753 \nL 131.25997 27.76231 \nL 131.564638 26.670941 \nL 131.869307 27.071751 \nL 132.173975 27.926478 \nL 132.478643 27.203424 \nL 132.783312 31.871569 \nL 133.08798 32.844853 \nL 133.392648 42.371097 \nL 133.697316 38.046255 \nL 134.001985 38.819203 \nL 134.306653 36.642982 \nL 134.611321 36.521041 \nL 134.91599 39.061029 \nL 135.220658 38.845246 \nL 135.525326 42.022197 \nL 136.134663 32.705583 \nL 136.439331 33.369501 \nL 136.744 31.436236 \nL 137.048668 34.850999 \nL 137.353336 36.586471 \nL 137.658004 41.155154 \nL 137.962673 39.477376 \nL 138.267341 36.701863 \nL 138.572009 36.820976 \nL 138.876678 39.205791 \nL 139.181346 36.118821 \nL 139.790683 46.136949 \nL 140.400019 35.822559 \nL 140.704688 31.762653 \nL 141.009356 34.205813 \nL 141.314024 29.324913 \nL 141.923361 35.096594 \nL 142.228029 28.582019 \nL 142.532697 29.543105 \nL 142.837366 25.517012 \nL 143.142034 30.483681 \nL 143.446702 29.693515 \nL 143.751371 34.964614 \nL 144.056039 35.222126 \nL 144.665375 40.220544 \nL 144.970044 46.990755 \nL 145.57938 37.437205 \nL 146.188717 43.406865 \nL 146.493385 45.871238 \nL 146.798054 45.574355 \nL 147.102722 49.898681 \nL 147.40739 60.691731 \nL 147.712059 54.570045 \nL 148.016727 54.494289 \nL 148.321395 56.117239 \nL 148.626063 63.802589 \nL 148.930732 65.300348 \nL 149.2354 64.945696 \nL 149.540068 66.22885 \nL 149.844737 66.832936 \nL 150.149405 66.569389 \nL 150.454073 71.950104 \nL 150.758742 72.977555 \nL 151.368078 72.618902 \nL 151.672746 68.179366 \nL 152.282083 84.143234 \nL 152.586751 82.615471 \nL 152.89142 88.49003 \nL 153.196088 90.546478 \nL 153.500756 90.529662 \nL 153.805425 93.34666 \nL 154.110093 92.602129 \nL 154.414761 93.622773 \nL 154.71943 91.989907 \nL 155.328766 86.700115 \nL 155.633434 77.160104 \nL 155.938103 78.419546 \nL 156.242771 85.786564 \nL 156.852108 81.447301 \nL 157.156776 75.356254 \nL 157.766113 79.036378 \nL 158.070781 77.297695 \nL 158.375449 78.517964 \nL 158.680117 72.991684 \nL 158.984786 78.825093 \nL 159.594122 83.606662 \nL 159.898791 84.129785 \nL 160.203459 88.762122 \nL 160.508127 97.628264 \nL 160.812796 99.892233 \nL 161.117464 100.390033 \nL 161.422132 96.55027 \nL 161.726801 95.87073 \nL 162.031469 97.030182 \nL 162.336137 101.195522 \nL 162.640805 101.676378 \nL 162.945474 100.216994 \nL 163.250142 94.941029 \nL 163.859479 91.525675 \nL 164.164147 90.079685 \nL 164.468815 95.826319 \nL 165.38282 90.633019 \nL 165.687488 93.502551 \nL 165.992157 98.939803 \nL 166.296825 99.526779 \nL 166.601493 95.802739 \nL 166.906162 95.410246 \nL 167.21083 97.961501 \nL 167.515498 99.305463 \nL 167.820167 97.418582 \nL 168.124835 97.873125 \nL 168.429503 99.555479 \nL 168.734172 103.713798 \nL 169.03884 98.760384 \nL 169.343508 103.725675 \nL 169.648176 103.521415 \nL 169.952845 101.040401 \nL 170.257513 96.814034 \nL 170.562181 98.913379 \nL 170.86685 104.536876 \nL 171.171518 106.581584 \nL 171.476186 106.266502 \nL 171.780855 105.210299 \nL 172.085523 101.004729 \nL 172.390191 102.46064 \nL 172.694859 106.141279 \nL 172.999528 100.271735 \nL 173.304196 104.75836 \nL 173.608864 102.740173 \nL 173.913533 105.982492 \nL 174.522869 108.414658 \nL 174.827538 112.282867 \nL 175.132206 112.776159 \nL 175.436874 112.612775 \nL 175.741543 118.758084 \nL 176.046211 118.624254 \nL 176.350879 114.200711 \nL 176.655547 118.535668 \nL 176.960216 115.975534 \nL 177.264884 118.581759 \nL 177.569552 126.032136 \nL 177.874221 121.772316 \nL 178.178889 121.219604 \nL 178.483557 121.871796 \nL 178.788226 119.717513 \nL 179.092894 122.906577 \nL 179.397562 121.768113 \nL 179.70223 124.273242 \nL 180.311567 132.101755 \nL 180.616235 129.558486 \nL 180.920904 128.981078 \nL 181.53024 118.095217 \nL 181.834909 116.717959 \nL 182.139577 106.515985 \nL 182.444245 106.743757 \nL 182.748914 110.06543 \nL 183.053582 107.093424 \nL 183.35825 112.827998 \nL 183.662918 112.646149 \nL 183.967587 110.899019 \nL 184.576923 103.809317 \nL 184.881592 108.624729 \nL 185.18626 105.457779 \nL 185.490928 107.082433 \nL 185.795597 110.381586 \nL 186.100265 111.193045 \nL 186.404933 102.112878 \nL 186.709602 101.689622 \nL 187.01427 92.754999 \nL 187.318938 99.781934 \nL 187.928275 103.108806 \nL 188.232943 96.437196 \nL 188.537611 94.458376 \nL 188.84228 94.528522 \nL 189.146948 95.519366 \nL 189.451616 92.75048 \nL 189.756285 96.206569 \nL 190.060953 91.473634 \nL 190.670289 79.691265 \nL 190.974958 79.762519 \nL 191.279626 83.421001 \nL 191.584294 74.497303 \nL 191.888963 70.326534 \nL 192.193631 73.006129 \nL 192.498299 66.162082 \nL 192.802968 71.483187 \nL 193.412304 69.17866 \nL 194.021641 69.871646 \nL 194.326309 67.810773 \nL 194.630977 62.889229 \nL 194.935646 59.999087 \nL 195.240314 60.757273 \nL 195.849651 67.249456 \nL 196.154319 59.512088 \nL 196.458987 58.95699 \nL 196.763656 53.221462 \nL 197.068324 55.208204 \nL 197.372992 56.305391 \nL 197.67766 56.657815 \nL 197.982329 61.393698 \nL 198.286997 62.467343 \nL 198.591665 68.632239 \nL 198.896334 70.331564 \nL 199.201002 74.357176 \nL 199.50567 72.233623 \nL 199.810339 80.495959 \nL 200.115007 85.198422 \nL 200.419675 85.601521 \nL 200.724344 87.321014 \nL 201.029012 90.596101 \nL 201.638348 87.303486 \nL 201.943017 82.486657 \nL 202.247685 80.115716 \nL 202.552353 83.354203 \nL 202.857022 83.165127 \nL 203.16169 89.405263 \nL 203.466358 84.846777 \nL 203.771027 86.104582 \nL 204.075695 86.006482 \nL 204.685031 75.844261 \nL 204.9897 77.315444 \nL 205.294368 79.577756 \nL 205.599036 80.868821 \nL 205.903705 75.737103 \nL 206.208373 79.543665 \nL 206.513041 79.652115 \nL 206.81771 79.882516 \nL 207.122378 85.540999 \nL 207.427046 85.278302 \nL 208.036383 98.101637 \nL 208.341051 102.989543 \nL 208.645719 100.936488 \nL 208.950388 110.433727 \nL 209.559724 104.57212 \nL 209.864393 104.058933 \nL 210.169061 106.703056 \nL 210.473729 106.648323 \nL 210.778398 110.441344 \nL 211.083066 109.963611 \nL 211.387734 108.84875 \nL 211.692402 111.189896 \nL 211.997071 111.517408 \nL 212.301739 110.237604 \nL 212.606407 105.226146 \nL 213.215744 91.688318 \nL 213.520412 96.249914 \nL 213.825081 95.428948 \nL 214.129749 100.752047 \nL 214.434417 100.607247 \nL 214.739086 100.836671 \nL 215.043754 99.051008 \nL 215.348422 99.887676 \nL 215.957759 107.058108 \nL 216.262427 103.21205 \nL 216.567095 105.344652 \nL 216.871764 110.095796 \nL 217.176432 106.917547 \nL 217.4811 107.043053 \nL 217.785769 109.423802 \nL 218.090437 110.077537 \nL 218.395105 115.503887 \nL 218.699773 114.29751 \nL 219.004442 111.903225 \nL 219.30911 111.64737 \nL 219.613778 114.196788 \nL 219.918447 110.525719 \nL 220.223115 104.830825 \nL 220.832452 110.581587 \nL 221.13712 109.275146 \nL 221.441788 106.970783 \nL 221.746457 102.650917 \nL 222.051125 102.660533 \nL 222.355793 98.943372 \nL 222.660461 97.772839 \nL 223.574466 111.694785 \nL 223.879135 104.139261 \nL 224.183803 108.204269 \nL 224.488471 108.845873 \nL 224.79314 111.370537 \nL 225.097808 111.956174 \nL 225.402476 110.466483 \nL 225.707145 110.17278 \nL 226.316481 113.046726 \nL 226.621149 115.409546 \nL 226.925818 123.6885 \nL 227.230486 120.614367 \nL 227.535154 123.657091 \nL 227.839823 123.093118 \nL 228.144491 124.761235 \nL 229.058496 113.372269 \nL 229.363164 107.10129 \nL 229.972501 115.32576 \nL 230.277169 115.678308 \nL 230.581837 108.907576 \nL 230.886506 108.750499 \nL 231.191174 100.854567 \nL 231.495842 99.321785 \nL 231.800511 92.178323 \nL 232.105179 95.822979 \nL 232.409847 92.511039 \nL 232.714516 97.989653 \nL 233.019184 95.1482 \nL 233.62852 100.776928 \nL 233.933189 100.996459 \nL 234.237857 99.745586 \nL 234.542525 101.043186 \nL 234.847194 102.949909 \nL 235.151862 101.510108 \nL 235.45653 101.517928 \nL 236.370535 93.252472 \nL 236.675203 93.852071 \nL 236.979872 95.503578 \nL 237.28454 99.274593 \nL 237.589208 101.3531 \nL 237.893877 100.035764 \nL 238.198545 101.00931 \nL 238.503213 98.97079 \nL 238.807882 95.016272 \nL 239.11255 96.61222 \nL 239.417218 104.129495 \nL 239.721887 104.808533 \nL 240.026555 106.819062 \nL 240.331223 110.304761 \nL 240.635891 110.931223 \nL 240.94056 110.455861 \nL 241.245228 116.092853 \nL 241.549896 116.782021 \nL 241.854565 113.611855 \nL 242.159233 113.971203 \nL 242.463901 110.613242 \nL 242.76857 110.585222 \nL 243.073238 118.163815 \nL 243.377906 115.837856 \nL 243.682574 111.531584 \nL 243.987243 111.243634 \nL 244.291911 114.702568 \nL 244.596579 110.264887 \nL 244.901248 112.545473 \nL 245.205916 111.581564 \nL 245.510584 115.164775 \nL 245.815253 105.681894 \nL 246.119921 103.771212 \nL 246.424589 99.883492 \nL 246.729258 97.727939 \nL 247.033926 96.886831 \nL 247.338594 106.154204 \nL 247.643262 106.634046 \nL 247.947931 112.860267 \nL 248.252599 111.77471 \nL 248.557267 109.500835 \nL 248.861936 105.400752 \nL 249.166604 107.106186 \nL 249.775941 104.944904 \nL 250.080609 105.093637 \nL 250.385277 108.313108 \nL 250.689945 108.760323 \nL 250.994614 113.427379 \nL 251.299282 114.845473 \nL 251.60395 112.359325 \nL 251.908619 112.695722 \nL 252.213287 119.611392 \nL 252.822624 125.822847 \nL 253.43196 136.064593 \nL 253.736629 132.512091 \nL 254.041297 134.463857 \nL 254.345965 134.075069 \nL 254.650633 130.039884 \nL 254.955302 131.929269 \nL 255.25997 133.066684 \nL 255.564638 131.383783 \nL 255.869307 131.592196 \nL 256.173975 134.764157 \nL 256.478643 133.774026 \nL 257.08798 136.842246 \nL 257.392648 136.929107 \nL 257.697316 135.939505 \nL 258.001985 134.559302 \nL 258.306653 135.612836 \nL 258.611321 138.882771 \nL 258.91599 134.996103 \nL 259.220658 135.159562 \nL 259.525326 137.717791 \nL 259.829995 135.820597 \nL 260.134663 135.008001 \nL 260.439331 127.841805 \nL 260.744 125.284504 \nL 261.048668 134.078327 \nL 261.353336 130.923484 \nL 261.658004 135.191708 \nL 261.962673 133.65903 \nL 262.267341 135.693442 \nL 262.572009 132.322423 \nL 262.876678 141.936084 \nL 263.181346 137.176937 \nL 263.486014 137.545948 \nL 263.790683 138.455049 \nL 264.095351 133.325642 \nL 264.400019 135.279655 \nL 264.704687 133.953971 \nL 265.009356 131.355491 \nL 265.314024 130.16266 \nL 265.618692 131.370126 \nL 265.923361 133.181154 \nL 266.228029 135.713789 \nL 266.532697 130.760171 \nL 266.837366 127.881363 \nL 267.142034 126.724661 \nL 267.446702 124.995509 \nL 267.751371 125.96502 \nL 268.056039 121.000932 \nL 268.360707 118.779413 \nL 268.970044 121.101928 \nL 269.274712 119.268605 \nL 269.57938 112.443264 \nL 269.884049 117.682872 \nL 270.188717 115.080536 \nL 270.493385 113.735297 \nL 270.798054 117.90074 \nL 271.102722 116.747913 \nL 271.40739 120.41948 \nL 271.712059 122.165552 \nL 272.016727 117.118086 \nL 272.321395 118.699032 \nL 272.626063 127.420275 \nL 272.930732 132.040987 \nL 273.2354 134.703968 \nL 273.844737 145.194324 \nL 274.149405 144.847921 \nL 274.454073 150.097681 \nL 275.06341 151.319366 \nL 275.368078 143.507742 \nL 275.672746 141.836506 \nL 275.977415 141.492311 \nL 276.282083 142.421791 \nL 276.586751 148.277701 \nL 276.89142 157.137416 \nL 277.196088 160.736418 \nL 278.110093 175.857847 \nL 278.414761 171.234212 \nL 278.71943 164.835775 \nL 279.024098 162.444644 \nL 279.328766 166.314503 \nL 279.633434 165.01963 \nL 279.938103 161.683851 \nL 280.242771 159.828845 \nL 280.547439 156.788788 \nL 280.852108 160.71991 \nL 281.156776 159.046775 \nL 281.461444 155.465045 \nL 281.766113 157.852247 \nL 282.070781 149.769407 \nL 282.375449 147.864662 \nL 282.984786 151.474099 \nL 283.289454 154.594177 \nL 283.594122 147.613603 \nL 283.898791 148.483605 \nL 284.203459 148.216713 \nL 284.508127 151.923489 \nL 284.812796 151.608353 \nL 285.117464 154.567044 \nL 285.422132 151.975707 \nL 285.726801 151.948504 \nL 286.031469 146.283215 \nL 286.336137 145.288214 \nL 286.640805 139.909814 \nL 286.945474 131.302554 \nL 287.250142 139.398581 \nL 287.55481 138.82816 \nL 287.859479 139.147568 \nL 288.164147 137.709447 \nL 288.468815 138.9442 \nL 288.773484 142.684135 \nL 289.078152 148.11369 \nL 289.38282 147.447477 \nL 289.992157 142.135905 \nL 290.296825 138.555909 \nL 290.601493 138.656798 \nL 290.906162 136.96015 \nL 291.21083 132.089571 \nL 291.515498 131.470957 \nL 291.820167 130.425146 \nL 292.429503 122.643364 \nL 292.734172 126.656894 \nL 293.03884 124.345759 \nL 293.343508 123.757829 \nL 293.648176 125.037935 \nL 294.257513 113.62904 \nL 294.562181 111.331573 \nL 294.86685 106.854006 \nL 295.171518 109.884345 \nL 295.476186 98.865863 \nL 295.780855 102.253924 \nL 296.085523 103.522628 \nL 296.390191 101.938448 \nL 296.694859 99.135208 \nL 297.608864 118.491767 \nL 297.913533 119.554246 \nL 298.522869 123.324755 \nL 298.827538 116.670921 \nL 299.132206 113.020763 \nL 299.436874 118.718968 \nL 299.741543 121.746495 \nL 300.046211 129.684082 \nL 300.350879 133.67283 \nL 300.655547 133.308418 \nL 300.960216 132.729632 \nL 301.264884 130.403147 \nL 301.569552 134.387885 \nL 301.874221 135.400024 \nL 302.178889 132.510923 \nL 302.483557 135.700897 \nL 302.788226 136.463753 \nL 303.092894 134.113222 \nL 303.397562 142.597499 \nL 303.70223 142.703657 \nL 304.006899 145.690893 \nL 304.311567 152.835373 \nL 304.616235 149.214123 \nL 304.920904 152.853469 \nL 305.225572 163.763456 \nL 305.53024 158.270224 \nL 305.834909 163.164517 \nL 306.444245 169.052498 \nL 306.748914 166.970131 \nL 307.053582 171.638081 \nL 307.35825 166.670851 \nL 307.662918 165.934816 \nL 307.967587 166.858569 \nL 308.272255 165.091934 \nL 308.576923 170.906435 \nL 308.881592 178.849418 \nL 309.18626 183.588223 \nL 309.490928 179.899495 \nL 309.795597 179.99203 \nL 310.100265 178.336951 \nL 310.404933 178.292918 \nL 311.01427 166.490271 \nL 311.318938 173.164566 \nL 311.623606 173.006272 \nL 311.928275 165.627945 \nL 312.232943 172.082351 \nL 312.84228 158.732545 \nL 313.451616 167.62621 \nL 314.365621 172.855748 \nL 314.670289 171.981304 \nL 314.974958 164.457206 \nL 315.279626 162.987245 \nL 315.888963 168.905714 \nL 316.193631 168.074918 \nL 316.802968 165.681669 \nL 317.107636 163.946767 \nL 317.412304 168.754583 \nL 317.716973 162.009622 \nL 318.326309 179.685525 \nL 318.630977 181.461334 \nL 318.935646 177.193328 \nL 319.240314 177.154905 \nL 319.544982 176.721633 \nL 319.849651 179.550912 \nL 320.154319 172.452594 \nL 320.458987 177.949327 \nL 320.763656 172.588059 \nL 321.068324 172.055965 \nL 321.372992 175.377048 \nL 321.67766 176.05748 \nL 321.982329 175.750989 \nL 322.896334 165.746755 \nL 323.201002 171.839117 \nL 323.50567 173.854501 \nL 323.810339 178.076542 \nL 324.115007 179.752437 \nL 324.419675 182.494326 \nL 324.724344 183.685965 \nL 325.029012 185.872855 \nL 325.33368 186.496754 \nL 325.943017 185.669695 \nL 326.247685 188.979743 \nL 326.552353 194.138182 \nL 326.857022 188.101642 \nL 327.16169 187.14402 \nL 327.466358 189.850383 \nL 327.771027 188.840329 \nL 328.380363 185.048938 \nL 328.685031 187.850355 \nL 328.9897 184.811927 \nL 329.294368 185.128642 \nL 329.599036 185.779231 \nL 329.903705 184.131455 \nL 330.208373 186.268741 \nL 330.513041 189.842897 \nL 330.81771 187.09932 \nL 331.122378 187.583319 \nL 331.427046 186.874707 \nL 331.731715 182.861319 \nL 332.036383 189.524345 \nL 332.341051 191.187142 \nL 332.645719 188.569403 \nL 332.950388 188.753991 \nL 333.255056 191.94212 \nL 333.559724 191.648763 \nL 333.864393 192.096917 \nL 334.169061 190.556751 \nL 334.473729 185.395685 \nL 334.778398 182.787079 \nL 335.083066 181.683286 \nL 335.387734 175.682095 \nL 335.692402 177.733685 \nL 335.997071 183.38213 \nL 336.301739 186.189213 \nL 336.606407 175.223062 \nL 336.911076 173.768193 \nL 337.520412 166.418326 \nL 337.825081 169.183088 \nL 338.129749 167.490413 \nL 338.434417 161.887101 \nL 338.739086 160.614244 \nL 339.043754 158.256337 \nL 339.348422 154.924196 \nL 339.957759 138.404419 \nL 340.262427 134.264283 \nL 340.567095 134.679744 \nL 340.871764 129.373985 \nL 341.176432 128.384472 \nL 342.395105 147.564968 \nL 342.699773 146.836135 \nL 343.004442 144.133359 \nL 343.30911 148.797502 \nL 343.613778 149.684987 \nL 343.918447 149.126108 \nL 344.223115 153.297399 \nL 344.527783 152.856022 \nL 345.13712 149.671678 \nL 345.441788 154.51214 \nL 345.746457 150.279738 \nL 346.051125 158.519104 \nL 346.355793 153.909937 \nL 346.660461 153.23653 \nL 346.96513 151.366636 \nL 347.269798 145.864518 \nL 347.574466 154.276561 \nL 347.879135 150.404842 \nL 348.183803 148.345666 \nL 348.488471 149.834996 \nL 348.79314 156.645696 \nL 349.097808 153.235629 \nL 349.402476 146.922508 \nL 349.707145 146.442802 \nL 350.316481 153.360756 \nL 350.621149 147.781066 \nL 350.925818 146.410304 \nL 351.230486 143.854585 \nL 351.535154 142.315626 \nL 351.839823 141.515278 \nL 352.144491 139.425287 \nL 352.449159 133.253931 \nL 352.753828 130.161942 \nL 353.058496 135.441605 \nL 353.363164 131.922815 \nL 353.667832 130.652182 \nL 353.972501 131.174912 \nL 354.277169 133.31231 \nL 354.581837 132.458931 \nL 354.886506 130.184298 \nL 354.886506 130.184298 \n\" style=\"fill:none;stroke:#000000;stroke-dasharray:5.55,2.4;stroke-dashoffset:0;stroke-width:1.5;\"/>\n   </g>\n   <g id=\"patch_3\">\n    <path d=\"M 35.304688 203.04 \nL 35.304688 7.2 \n\" style=\"fill:none;stroke:#000000;stroke-linecap:square;stroke-linejoin:miter;stroke-width:0.8;\"/>\n   </g>\n   <g id=\"patch_4\">\n    <path d=\"M 370.104688 203.04 \nL 370.104688 7.2 \n\" style=\"fill:none;stroke:#000000;stroke-linecap:square;stroke-linejoin:miter;stroke-width:0.8;\"/>\n   </g>\n   <g id=\"patch_5\">\n    <path d=\"M 35.304688 203.04 \nL 370.104687 203.04 \n\" style=\"fill:none;stroke:#000000;stroke-linecap:square;stroke-linejoin:miter;stroke-width:0.8;\"/>\n   </g>\n   <g id=\"patch_6\">\n    <path d=\"M 35.304688 7.2 \nL 370.104687 7.2 \n\" style=\"fill:none;stroke:#000000;stroke-linecap:square;stroke-linejoin:miter;stroke-width:0.8;\"/>\n   </g>\n   <g id=\"legend_1\">\n    <g id=\"patch_7\">\n     <path d=\"M 300.351562 29.878125 \nL 363.104688 29.878125 \nQ 365.104688 29.878125 365.104688 27.878125 \nL 365.104688 14.2 \nQ 365.104688 12.2 363.104688 12.2 \nL 300.351562 12.2 \nQ 298.351562 12.2 298.351562 14.2 \nL 298.351562 27.878125 \nQ 298.351562 29.878125 300.351562 29.878125 \nz\n\" style=\"fill:#ffffff;opacity:0.8;stroke:#cccccc;stroke-linejoin:miter;\"/>\n    </g>\n    <g id=\"line2d_16\">\n     <path d=\"M 302.351562 20.298437 \nL 322.351562 20.298437 \n\" style=\"fill:none;stroke:#000000;stroke-dasharray:5.55,2.4;stroke-dashoffset:0;stroke-width:1.5;\"/>\n    </g>\n    <g id=\"line2d_17\"/>\n    <g id=\"text_15\">\n     <!-- Series -->\n     <g transform=\"translate(330.351562 23.798437)scale(0.1 -0.1)\">\n      <defs>\n       <path d=\"M 53.515625 70.515625 \nL 53.515625 60.890625 \nQ 47.90625 63.578125 42.921875 64.890625 \nQ 37.9375 66.21875 33.296875 66.21875 \nQ 25.25 66.21875 20.875 63.09375 \nQ 16.5 59.96875 16.5 54.203125 \nQ 16.5 49.359375 19.40625 46.890625 \nQ 22.3125 44.4375 30.421875 42.921875 \nL 36.375 41.703125 \nQ 47.40625 39.59375 52.65625 34.296875 \nQ 57.90625 29 57.90625 20.125 \nQ 57.90625 9.515625 50.796875 4.046875 \nQ 43.703125 -1.421875 29.984375 -1.421875 \nQ 24.8125 -1.421875 18.96875 -0.25 \nQ 13.140625 0.921875 6.890625 3.21875 \nL 6.890625 13.375 \nQ 12.890625 10.015625 18.65625 8.296875 \nQ 24.421875 6.59375 29.984375 6.59375 \nQ 38.421875 6.59375 43.015625 9.90625 \nQ 47.609375 13.234375 47.609375 19.390625 \nQ 47.609375 24.75 44.3125 27.78125 \nQ 41.015625 30.8125 33.5 32.328125 \nL 27.484375 33.5 \nQ 16.453125 35.6875 11.515625 40.375 \nQ 6.59375 45.0625 6.59375 53.421875 \nQ 6.59375 63.09375 13.40625 68.65625 \nQ 20.21875 74.21875 32.171875 74.21875 \nQ 37.3125 74.21875 42.625 73.28125 \nQ 47.953125 72.359375 53.515625 70.515625 \nz\n\" id=\"DejaVuSans-83\"/>\n       <path d=\"M 56.203125 29.59375 \nL 56.203125 25.203125 \nL 14.890625 25.203125 \nQ 15.484375 15.921875 20.484375 11.0625 \nQ 25.484375 6.203125 34.421875 6.203125 \nQ 39.59375 6.203125 44.453125 7.46875 \nQ 49.3125 8.734375 54.109375 11.28125 \nL 54.109375 2.78125 \nQ 49.265625 0.734375 44.1875 -0.34375 \nQ 39.109375 -1.421875 33.890625 -1.421875 \nQ 20.796875 -1.421875 13.15625 6.1875 \nQ 5.515625 13.8125 5.515625 26.8125 \nQ 5.515625 40.234375 12.765625 48.109375 \nQ 20.015625 56 32.328125 56 \nQ 43.359375 56 49.78125 48.890625 \nQ 56.203125 41.796875 56.203125 29.59375 \nz\nM 47.21875 32.234375 \nQ 47.125 39.59375 43.09375 43.984375 \nQ 39.0625 48.390625 32.421875 48.390625 \nQ 24.90625 48.390625 20.390625 44.140625 \nQ 15.875 39.890625 15.1875 32.171875 \nz\n\" id=\"DejaVuSans-101\"/>\n       <path d=\"M 41.109375 46.296875 \nQ 39.59375 47.171875 37.8125 47.578125 \nQ 36.03125 48 33.890625 48 \nQ 26.265625 48 22.1875 43.046875 \nQ 18.109375 38.09375 18.109375 28.8125 \nL 18.109375 0 \nL 9.078125 0 \nL 9.078125 54.6875 \nL 18.109375 54.6875 \nL 18.109375 46.1875 \nQ 20.953125 51.171875 25.484375 53.578125 \nQ 30.03125 56 36.53125 56 \nQ 37.453125 56 38.578125 55.875 \nQ 39.703125 55.765625 41.0625 55.515625 \nz\n\" id=\"DejaVuSans-114\"/>\n       <path d=\"M 9.421875 54.6875 \nL 18.40625 54.6875 \nL 18.40625 0 \nL 9.421875 0 \nz\nM 9.421875 75.984375 \nL 18.40625 75.984375 \nL 18.40625 64.59375 \nL 9.421875 64.59375 \nz\n\" id=\"DejaVuSans-105\"/>\n       <path d=\"M 44.28125 53.078125 \nL 44.28125 44.578125 \nQ 40.484375 46.53125 36.375 47.5 \nQ 32.28125 48.484375 27.875 48.484375 \nQ 21.1875 48.484375 17.84375 46.4375 \nQ 14.5 44.390625 14.5 40.28125 \nQ 14.5 37.15625 16.890625 35.375 \nQ 19.28125 33.59375 26.515625 31.984375 \nL 29.59375 31.296875 \nQ 39.15625 29.25 43.1875 25.515625 \nQ 47.21875 21.78125 47.21875 15.09375 \nQ 47.21875 7.46875 41.1875 3.015625 \nQ 35.15625 -1.421875 24.609375 -1.421875 \nQ 20.21875 -1.421875 15.453125 -0.5625 \nQ 10.6875 0.296875 5.421875 2 \nL 5.421875 11.28125 \nQ 10.40625 8.6875 15.234375 7.390625 \nQ 20.0625 6.109375 24.8125 6.109375 \nQ 31.15625 6.109375 34.5625 8.28125 \nQ 37.984375 10.453125 37.984375 14.40625 \nQ 37.984375 18.0625 35.515625 20.015625 \nQ 33.0625 21.96875 24.703125 23.78125 \nL 21.578125 24.515625 \nQ 13.234375 26.265625 9.515625 29.90625 \nQ 5.8125 33.546875 5.8125 39.890625 \nQ 5.8125 47.609375 11.28125 51.796875 \nQ 16.75 56 26.8125 56 \nQ 31.78125 56 36.171875 55.265625 \nQ 40.578125 54.546875 44.28125 53.078125 \nz\n\" id=\"DejaVuSans-115\"/>\n      </defs>\n      <use xlink:href=\"#DejaVuSans-83\"/>\n      <use x=\"63.476562\" xlink:href=\"#DejaVuSans-101\"/>\n      <use x=\"125\" xlink:href=\"#DejaVuSans-114\"/>\n      <use x=\"166.113281\" xlink:href=\"#DejaVuSans-105\"/>\n      <use x=\"193.896484\" xlink:href=\"#DejaVuSans-101\"/>\n      <use x=\"255.419922\" xlink:href=\"#DejaVuSans-115\"/>\n     </g>\n    </g>\n   </g>\n  </g>\n </g>\n <defs>\n  <clipPath id=\"pbf7269641b\">\n   <rect height=\"195.84\" width=\"334.8\" x=\"35.304688\" y=\"7.2\"/>\n  </clipPath>\n </defs>\n</svg>\n",
      "image/png": "[encoded data removed]"
     },
     "metadata": {
      "needs_background": "light"
     }
    }
   ],
   "source": [
    "import matplotlib.pyplot as plt\n",
    "plt.figure(); ts.plot(style='k--', label='Series', x_compat=True); plt.legend()"
   ]
  },
  {
   "cell_type": "code",
   "execution_count": 31,
   "metadata": {},
   "outputs": [
    {
     "output_type": "display_data",
     "data": {
      "application/vnd.plotly.v1+json": {
       "config": {
        "plotlyServerURL": "https://plot.ly"
       },
       "data": [
        {
         "hovertemplate": "variable=GOOG<br>date=%{x}<br>value=%{y}<extra></extra>",
         "legendgroup": "GOOG",
         "line": {
          "color": "#4C78A8",
          "dash": "solid"
         },
         "mode": "lines",
         "name": "GOOG",
         "orientation": "v",
         "showlegend": true,
         "type": "scatter",
         "x": [
          "2019-04-01",
          "2019-04-08",
          "2019-04-15",
          "2019-04-22",
          "2019-04-29",
          "2019-05-06",
          "2019-05-13",
          "2019-05-20",
          "2019-05-27",
          "2019-06-03",
          "2019-06-10",
          "2019-06-17",
          "2019-06-24",
          "2019-07-01",
          "2019-07-08",
          "2019-07-15",
          "2019-07-22",
          "2019-07-29",
          "2019-08-05",
          "2019-08-12",
          "2019-08-19",
          "2019-08-26",
          "2019-09-02",
          "2019-09-09",
          "2019-09-16",
          "2019-09-23",
          "2019-09-30",
          "2019-10-07",
          "2019-10-14",
          "2019-10-21",
          "2019-10-28",
          "2019-11-04",
          "2019-11-11",
          "2019-11-18",
          "2019-11-25",
          "2019-12-02",
          "2019-12-09",
          "2019-12-16",
          "2019-12-23",
          "2019-12-30"
         ],
         "xaxis": "x",
         "y": [
          1.095188886079836,
          1.1049145977684258,
          1.1216987538299403,
          1.1541874899828073,
          1.075456162061569,
          1.0562859304552756,
          1.0544986709579427,
          1.0283425342867192,
          1.0012701750318929,
          0.9671666152648106,
          0.98468558802946,
          1.0178275181736574,
          0.980657443195294,
          1.0266368965939394,
          1.0387124690620373,
          1.025285100664745,
          1.1344366027859267,
          1.0832494231376286,
          1.0778240762422375,
          1.068379555417282,
          1.0445098208996275,
          1.0779056980467905,
          1.0931748145700046,
          1.12459294475006,
          1.1158561065450243,
          1.1114649285805127,
          1.0968672799119472,
          1.1027190087861698,
          1.129972884606169,
          1.1477913211905195,
          1.1556027445379409,
          1.189742629754999,
          1.2110630442115171,
          1.1751993590303178,
          1.1839271156460471,
          1.216279741365772,
          1.222820990588552,
          1.22441776261611,
          1.2265044859331442,
          1.213013658002661
         ],
         "yaxis": "y"
        },
        {
         "hovertemplate": "variable=AAPL<br>date=%{x}<br>value=%{y}<extra></extra>",
         "legendgroup": "AAPL",
         "line": {
          "color": "#F58518",
          "dash": "solid"
         },
         "mode": "lines",
         "name": "AAPL",
         "orientation": "v",
         "showlegend": true,
         "type": "scatter",
         "x": [
          "2019-04-01",
          "2019-04-08",
          "2019-04-15",
          "2019-04-22",
          "2019-04-29",
          "2019-05-06",
          "2019-05-13",
          "2019-05-20",
          "2019-05-27",
          "2019-06-03",
          "2019-06-10",
          "2019-06-17",
          "2019-06-24",
          "2019-07-01",
          "2019-07-08",
          "2019-07-15",
          "2019-07-22",
          "2019-07-29",
          "2019-08-05",
          "2019-08-12",
          "2019-08-19",
          "2019-08-26",
          "2019-09-02",
          "2019-09-09",
          "2019-09-16",
          "2019-09-23",
          "2019-09-30",
          "2019-10-07",
          "2019-10-14",
          "2019-10-21",
          "2019-10-28",
          "2019-11-04",
          "2019-11-11",
          "2019-11-18",
          "2019-11-25",
          "2019-12-02",
          "2019-12-09",
          "2019-12-16",
          "2019-12-23",
          "2019-12-30"
         ],
         "xaxis": "x",
         "y": [
          1.1257142857142857,
          1.1363999714285713,
          1.1649142914285715,
          1.1674285885714286,
          1.21,
          1.1267428171428568,
          1.08,
          1.02268572,
          1.00040004,
          1.0865713942857145,
          1.1013714571428572,
          1.135885708571429,
          1.1309714171428569,
          1.167028548571429,
          1.1617143028571428,
          1.15765712,
          1.1870857428571429,
          1.1658285942857145,
          1.1485143142857142,
          1.18,
          1.1579428514285717,
          1.1928000285714286,
          1.218628542857143,
          1.25,
          1.2441714057142856,
          1.25040004,
          1.2971999714285716,
          1.3497714685714286,
          1.3509143085714286,
          1.409028582857143,
          1.4618286114285712,
          1.4865143714285716,
          1.5186286285714288,
          1.4958857085714288,
          1.5271428571428571,
          1.5469142342857145,
          1.57228568,
          1.5968000114285714,
          1.6559999314285714,
          1.6779999657142857
         ],
         "yaxis": "y"
        },
        {
         "hovertemplate": "variable=AMZN<br>date=%{x}<br>value=%{y}<extra></extra>",
         "legendgroup": "AMZN",
         "line": {
          "color": "#E45756",
          "dash": "solid"
         },
         "mode": "lines",
         "name": "AMZN",
         "orientation": "v",
         "showlegend": true,
         "type": "scatter",
         "x": [
          "2019-04-01",
          "2019-04-08",
          "2019-04-15",
          "2019-04-22",
          "2019-04-29",
          "2019-05-06",
          "2019-05-13",
          "2019-05-20",
          "2019-05-27",
          "2019-06-03",
          "2019-06-10",
          "2019-06-17",
          "2019-06-24",
          "2019-07-01",
          "2019-07-08",
          "2019-07-15",
          "2019-07-22",
          "2019-07-29",
          "2019-08-05",
          "2019-08-12",
          "2019-08-19",
          "2019-08-26",
          "2019-09-02",
          "2019-09-09",
          "2019-09-16",
          "2019-09-23",
          "2019-09-30",
          "2019-10-07",
          "2019-10-14",
          "2019-10-21",
          "2019-10-28",
          "2019-11-04",
          "2019-11-11",
          "2019-11-18",
          "2019-11-25",
          "2019-12-02",
          "2019-12-09",
          "2019-12-16",
          "2019-12-23",
          "2019-12-30"
         ],
         "xaxis": "x",
         "y": [
          1.4947687054188046,
          1.4994712046698764,
          1.5146280474808236,
          1.5869876346023932,
          1.596612214272432,
          1.537644171481961,
          1.5205753430783882,
          1.4833786279425618,
          1.44415601504927,
          1.4677172714127285,
          1.521120475440709,
          1.5549896884611636,
          1.540613747734834,
          1.58070684404494,
          1.6361032717659916,
          1.5982882308164057,
          1.5808207570233568,
          1.4833460531345568,
          1.4706054102388,
          1.4583936118945735,
          1.4234505212166575,
          1.445148654606286,
          1.491701504811883,
          1.4964446227063888,
          1.4596872708598625,
          1.4037863302335007,
          1.4153391824933792,
          1.4090502488441077,
          1.4298696556551374,
          1.43297747571907,
          1.4574742658589632,
          1.452950830015895,
          1.4152089825177483,
          1.420277551536714,
          1.4650894340951057,
          1.425061388144621,
          1.4326601685000062,
          1.4534552436648156,
          1.52122624451373,
          1.503360026888393
         ],
         "yaxis": "y"
        },
        {
         "hovertemplate": "variable=FB<br>date=%{x}<br>value=%{y}<extra></extra>",
         "legendgroup": "FB",
         "line": {
          "color": "#72B7B2",
          "dash": "solid"
         },
         "mode": "lines",
         "name": "FB",
         "orientation": "v",
         "showlegend": true,
         "type": "scatter",
         "x": [
          "2019-04-01",
          "2019-04-08",
          "2019-04-15",
          "2019-04-22",
          "2019-04-29",
          "2019-05-06",
          "2019-05-13",
          "2019-05-20",
          "2019-05-27",
          "2019-06-03",
          "2019-06-10",
          "2019-06-17",
          "2019-06-24",
          "2019-07-01",
          "2019-07-08",
          "2019-07-15",
          "2019-07-22",
          "2019-07-29",
          "2019-08-05",
          "2019-08-12",
          "2019-08-19",
          "2019-08-26",
          "2019-09-02",
          "2019-09-09",
          "2019-09-16",
          "2019-09-23",
          "2019-09-30",
          "2019-10-07",
          "2019-10-14",
          "2019-10-21",
          "2019-10-28",
          "2019-11-04",
          "2019-11-11",
          "2019-11-18",
          "2019-11-25",
          "2019-12-02",
          "2019-12-09",
          "2019-12-16",
          "2019-12-23",
          "2019-12-30"
         ],
         "xaxis": "x",
         "y": [
          0.9404334779630672,
          0.9585228806468435,
          0.9541342963617566,
          1.024832747396326,
          1.0461332337340143,
          1.0079742571696786,
          0.9917045600737096,
          0.9690125351133252,
          0.9497992791073284,
          0.9277495340299856,
          0.9704575658402708,
          1.0229595550561554,
          1.0329140690527994,
          1.0511104505931883,
          1.0964409334832987,
          1.0616001853379655,
          1.0690393020378066,
          1.011613582715111,
          1.0053518863681492,
          0.9831415097733526,
          0.951297801938524,
          0.993684731270493,
          1.003425201923729,
          1.0018196199576253,
          1.0164837404393767,
          0.9478191079105452,
          0.9657478790768677,
          0.9857639608531776,
          0.9946481136318508,
          1.0055659243596704,
          1.03623221184162,
          1.0213539730900516,
          1.044153062537231,
          1.0640620851786324,
          1.0791543619217223,
          1.07599677037206,
          1.0388546682733315,
          1.1040941738048429,
          1.113727585323171,
          1.0984746770626277
         ],
         "yaxis": "y"
        },
        {
         "hovertemplate": "variable=NFLX<br>date=%{x}<br>value=%{y}<extra></extra>",
         "legendgroup": "NFLX",
         "line": {
          "color": "#54A24B",
          "dash": "solid"
         },
         "mode": "lines",
         "name": "NFLX",
         "orientation": "v",
         "showlegend": true,
         "type": "scatter",
         "x": [
          "2019-04-01",
          "2019-04-08",
          "2019-04-15",
          "2019-04-22",
          "2019-04-29",
          "2019-05-06",
          "2019-05-13",
          "2019-05-20",
          "2019-05-27",
          "2019-06-03",
          "2019-06-10",
          "2019-06-17",
          "2019-06-24",
          "2019-07-01",
          "2019-07-08",
          "2019-07-15",
          "2019-07-22",
          "2019-07-29",
          "2019-08-05",
          "2019-08-12",
          "2019-08-19",
          "2019-08-26",
          "2019-09-02",
          "2019-09-09",
          "2019-09-16",
          "2019-09-23",
          "2019-09-30",
          "2019-10-07",
          "2019-10-14",
          "2019-10-21",
          "2019-10-28",
          "2019-11-04",
          "2019-11-11",
          "2019-11-18",
          "2019-11-25",
          "2019-12-02",
          "2019-12-09",
          "2019-12-16",
          "2019-12-23",
          "2019-12-30"
         ],
         "xaxis": "x",
         "y": [
          1.7405113638622944,
          1.6721748970861734,
          1.716034084574645,
          1.7850849901165535,
          1.8335634546034707,
          1.7193199695385504,
          1.6879375377890014,
          1.6876518241903944,
          1.6347444679569396,
          1.7185103405278743,
          1.6178389585732904,
          1.758226497494488,
          1.7492261453110591,
          1.8122290534732837,
          1.7774655512770718,
          1.5005476379697218,
          1.5990284823318142,
          1.518310297673454,
          1.471165225221077,
          1.4419733358261506,
          1.3878755896024673,
          1.398876103650743,
          1.381827735086725,
          1.400780927644628,
          1.2893470810670251,
          1.2528214711933554,
          1.299061872016242,
          1.347349808387309,
          1.3110147218673576,
          1.3182532521012131,
          1.3658269020946976,
          1.3884946904972928,
          1.4049716271019663,
          1.4785466146353017,
          1.4984522906221185,
          1.4636411194904255,
          1.4214962278799892,
          1.6043620457078422,
          1.567169808867808,
          1.5408828958311611
         ],
         "yaxis": "y"
        },
        {
         "hovertemplate": "variable=MSFT<br>date=%{x}<br>value=%{y}<extra></extra>",
         "legendgroup": "MSFT",
         "line": {
          "color": "#EECA3B",
          "dash": "solid"
         },
         "mode": "lines",
         "name": "MSFT",
         "orientation": "v",
         "showlegend": true,
         "type": "scatter",
         "x": [
          "2019-04-01",
          "2019-04-08",
          "2019-04-15",
          "2019-04-22",
          "2019-04-29",
          "2019-05-06",
          "2019-05-13",
          "2019-05-20",
          "2019-05-27",
          "2019-06-03",
          "2019-06-10",
          "2019-06-17",
          "2019-06-24",
          "2019-07-01",
          "2019-07-08",
          "2019-07-15",
          "2019-07-22",
          "2019-07-29",
          "2019-08-05",
          "2019-08-12",
          "2019-08-19",
          "2019-08-26",
          "2019-09-02",
          "2019-09-09",
          "2019-09-16",
          "2019-09-23",
          "2019-09-30",
          "2019-10-07",
          "2019-10-14",
          "2019-10-21",
          "2019-10-28",
          "2019-11-04",
          "2019-11-11",
          "2019-11-18",
          "2019-11-25",
          "2019-12-02",
          "2019-12-09",
          "2019-12-16",
          "2019-12-23",
          "2019-12-30"
         ],
         "xaxis": "x",
         "y": [
          1.3594511427723972,
          1.371470623166558,
          1.398911443499003,
          1.4728426811919109,
          1.4616168621926098,
          1.4415465939098175,
          1.45220551191279,
          1.4314547583296346,
          1.4024265471725468,
          1.489964746797488,
          1.5018708923489987,
          1.5531239130712344,
          1.518993128041884,
          1.5541444028995486,
          1.5750084006121237,
          1.5491551411916282,
          1.6026759586647925,
          1.5523300929282209,
          1.5615149549492018,
          1.5435990692006107,
          1.5125297196387406,
          1.5632157599905712,
          1.5772763674503605,
          1.5570926849508404,
          1.581131634400008,
          1.5617416132953483,
          1.5661638719545554,
          1.583852929269692,
          1.5581131747791548,
          1.5957590748212025,
          1.629663201504406,
          1.655062974145301,
          1.7005329130166025,
          1.6962239778608914,
          1.7165211652903694,
          1.720716595516122,
          1.7522394318575931,
          1.7848962516181823,
          1.8024719740906685,
          1.7881845268582712
         ],
         "yaxis": "y"
        }
       ],
       "layout": {
        "legend": {
         "title": {
          "text": "variable"
         },
         "tracegroupgap": 0
        },
        "template": {
         "data": {
          "bar": [
           {
            "error_x": {
             "color": "#f2f5fa"
            },
            "error_y": {
             "color": "#f2f5fa"
            },
            "marker": {
             "line": {
              "color": "rgb(17,17,17)",
              "width": 0.5
             }
            },
            "type": "bar"
           }
          ],
          "barpolar": [
           {
            "marker": {
             "line": {
              "color": "rgb(17,17,17)",
              "width": 0.5
             }
            },
            "type": "barpolar"
           }
          ],
          "carpet": [
           {
            "aaxis": {
             "endlinecolor": "#A2B1C6",
             "gridcolor": "#506784",
             "linecolor": "#506784",
             "minorgridcolor": "#506784",
             "startlinecolor": "#A2B1C6"
            },
            "baxis": {
             "endlinecolor": "#A2B1C6",
             "gridcolor": "#506784",
             "linecolor": "#506784",
             "minorgridcolor": "#506784",
             "startlinecolor": "#A2B1C6"
            },
            "type": "carpet"
           }
          ],
          "choropleth": [
           {
            "colorbar": {
             "outlinewidth": 0,
             "ticks": ""
            },
            "type": "choropleth"
           }
          ],
          "contour": [
           {
            "colorbar": {
             "outlinewidth": 0,
             "ticks": ""
            },
            "colorscale": [
             [
              0,
              "#0d0887"
             ],
             [
              0.1111111111111111,
              "#46039f"
             ],
             [
              0.2222222222222222,
              "#7201a8"
             ],
             [
              0.3333333333333333,
              "#9c179e"
             ],
             [
              0.4444444444444444,
              "#bd3786"
             ],
             [
              0.5555555555555556,
              "#d8576b"
             ],
             [
              0.6666666666666666,
              "#ed7953"
             ],
             [
              0.7777777777777778,
              "#fb9f3a"
             ],
             [
              0.8888888888888888,
              "#fdca26"
             ],
             [
              1,
              "#f0f921"
             ]
            ],
            "type": "contour"
           }
          ],
          "contourcarpet": [
           {
            "colorbar": {
             "outlinewidth": 0,
             "ticks": ""
            },
            "type": "contourcarpet"
           }
          ],
          "heatmap": [
           {
            "colorbar": {
             "outlinewidth": 0,
             "ticks": ""
            },
            "colorscale": [
             [
              0,
              "#0d0887"
             ],
             [
              0.1111111111111111,
              "#46039f"
             ],
             [
              0.2222222222222222,
              "#7201a8"
             ],
             [
              0.3333333333333333,
              "#9c179e"
             ],
             [
              0.4444444444444444,
              "#bd3786"
             ],
             [
              0.5555555555555556,
              "#d8576b"
             ],
             [
              0.6666666666666666,
              "#ed7953"
             ],
             [
              0.7777777777777778,
              "#fb9f3a"
             ],
             [
              0.8888888888888888,
              "#fdca26"
             ],
             [
              1,
              "#f0f921"
             ]
            ],
            "type": "heatmap"
           }
          ],
          "heatmapgl": [
           {
            "colorbar": {
             "outlinewidth": 0,
             "ticks": ""
            },
            "colorscale": [
             [
              0,
              "#0d0887"
             ],
             [
              0.1111111111111111,
              "#46039f"
             ],
             [
              0.2222222222222222,
              "#7201a8"
             ],
             [
              0.3333333333333333,
              "#9c179e"
             ],
             [
              0.4444444444444444,
              "#bd3786"
             ],
             [
              0.5555555555555556,
              "#d8576b"
             ],
             [
              0.6666666666666666,
              "#ed7953"
             ],
             [
              0.7777777777777778,
              "#fb9f3a"
             ],
             [
              0.8888888888888888,
              "#fdca26"
             ],
             [
              1,
              "#f0f921"
             ]
            ],
            "type": "heatmapgl"
           }
          ],
          "histogram": [
           {
            "marker": {
             "colorbar": {
              "outlinewidth": 0,
              "ticks": ""
             }
            },
            "type": "histogram"
           }
          ],
          "histogram2d": [
           {
            "colorbar": {
             "outlinewidth": 0,
             "ticks": ""
            },
            "colorscale": [
             [
              0,
              "#0d0887"
             ],
             [
              0.1111111111111111,
              "#46039f"
             ],
             [
              0.2222222222222222,
              "#7201a8"
             ],
             [
              0.3333333333333333,
              "#9c179e"
             ],
             [
              0.4444444444444444,
              "#bd3786"
             ],
             [
              0.5555555555555556,
              "#d8576b"
             ],
             [
              0.6666666666666666,
              "#ed7953"
             ],
             [
              0.7777777777777778,
              "#fb9f3a"
             ],
             [
              0.8888888888888888,
              "#fdca26"
             ],
             [
              1,
              "#f0f921"
             ]
            ],
            "type": "histogram2d"
           }
          ],
          "histogram2dcontour": [
           {
            "colorbar": {
             "outlinewidth": 0,
             "ticks": ""
            },
            "colorscale": [
             [
              0,
              "#0d0887"
             ],
             [
              0.1111111111111111,
              "#46039f"
             ],
             [
              0.2222222222222222,
              "#7201a8"
             ],
             [
              0.3333333333333333,
              "#9c179e"
             ],
             [
              0.4444444444444444,
              "#bd3786"
             ],
             [
              0.5555555555555556,
              "#d8576b"
             ],
             [
              0.6666666666666666,
              "#ed7953"
             ],
             [
              0.7777777777777778,
              "#fb9f3a"
             ],
             [
              0.8888888888888888,
              "#fdca26"
             ],
             [
              1,
              "#f0f921"
             ]
            ],
            "type": "histogram2dcontour"
           }
          ],
          "mesh3d": [
           {
            "colorbar": {
             "outlinewidth": 0,
             "ticks": ""
            },
            "type": "mesh3d"
           }
          ],
          "parcoords": [
           {
            "line": {
             "colorbar": {
              "outlinewidth": 0,
              "ticks": ""
             }
            },
            "type": "parcoords"
           }
          ],
          "pie": [
           {
            "automargin": true,
            "type": "pie"
           }
          ],
          "scatter": [
           {
            "marker": {
             "line": {
              "color": "#283442"
             }
            },
            "type": "scatter"
           }
          ],
          "scatter3d": [
           {
            "line": {
             "colorbar": {
              "outlinewidth": 0,
              "ticks": ""
             }
            },
            "marker": {
             "colorbar": {
              "outlinewidth": 0,
              "ticks": ""
             }
            },
            "type": "scatter3d"
           }
          ],
          "scattercarpet": [
           {
            "marker": {
             "colorbar": {
              "outlinewidth": 0,
              "ticks": ""
             }
            },
            "type": "scattercarpet"
           }
          ],
          "scattergeo": [
           {
            "marker": {
             "colorbar": {
              "outlinewidth": 0,
              "ticks": ""
             }
            },
            "type": "scattergeo"
           }
          ],
          "scattergl": [
           {
            "marker": {
             "line": {
              "color": "#283442"
             }
            },
            "type": "scattergl"
           }
          ],
          "scattermapbox": [
           {
            "marker": {
             "colorbar": {
              "outlinewidth": 0,
              "ticks": ""
             }
            },
            "type": "scattermapbox"
           }
          ],
          "scatterpolar": [
           {
            "marker": {
             "colorbar": {
              "outlinewidth": 0,
              "ticks": ""
             }
            },
            "type": "scatterpolar"
           }
          ],
          "scatterpolargl": [
           {
            "marker": {
             "colorbar": {
              "outlinewidth": 0,
              "ticks": ""
             }
            },
            "type": "scatterpolargl"
           }
          ],
          "scatterternary": [
           {
            "marker": {
             "colorbar": {
              "outlinewidth": 0,
              "ticks": ""
             }
            },
            "type": "scatterternary"
           }
          ],
          "surface": [
           {
            "colorbar": {
             "outlinewidth": 0,
             "ticks": ""
            },
            "colorscale": [
             [
              0,
              "#0d0887"
             ],
             [
              0.1111111111111111,
              "#46039f"
             ],
             [
              0.2222222222222222,
              "#7201a8"
             ],
             [
              0.3333333333333333,
              "#9c179e"
             ],
             [
              0.4444444444444444,
              "#bd3786"
             ],
             [
              0.5555555555555556,
              "#d8576b"
             ],
             [
              0.6666666666666666,
              "#ed7953"
             ],
             [
              0.7777777777777778,
              "#fb9f3a"
             ],
             [
              0.8888888888888888,
              "#fdca26"
             ],
             [
              1,
              "#f0f921"
             ]
            ],
            "type": "surface"
           }
          ],
          "table": [
           {
            "cells": {
             "fill": {
              "color": "#506784"
             },
             "line": {
              "color": "rgb(17,17,17)"
             }
            },
            "header": {
             "fill": {
              "color": "#2a3f5f"
             },
             "line": {
              "color": "rgb(17,17,17)"
             }
            },
            "type": "table"
           }
          ]
         },
         "layout": {
          "annotationdefaults": {
           "arrowcolor": "#f2f5fa",
           "arrowhead": 0,
           "arrowwidth": 1
          },
          "autotypenumbers": "strict",
          "coloraxis": {
           "colorbar": {
            "outlinewidth": 0,
            "ticks": ""
           }
          },
          "colorscale": {
           "diverging": [
            [
             0,
             "#8e0152"
            ],
            [
             0.1,
             "#c51b7d"
            ],
            [
             0.2,
             "#de77ae"
            ],
            [
             0.3,
             "#f1b6da"
            ],
            [
             0.4,
             "#fde0ef"
            ],
            [
             0.5,
             "#f7f7f7"
            ],
            [
             0.6,
             "#e6f5d0"
            ],
            [
             0.7,
             "#b8e186"
            ],
            [
             0.8,
             "#7fbc41"
            ],
            [
             0.9,
             "#4d9221"
            ],
            [
             1,
             "#276419"
            ]
           ],
           "sequential": [
            [
             0,
             "#0d0887"
            ],
            [
             0.1111111111111111,
             "#46039f"
            ],
            [
             0.2222222222222222,
             "#7201a8"
            ],
            [
             0.3333333333333333,
             "#9c179e"
            ],
            [
             0.4444444444444444,
             "#bd3786"
            ],
            [
             0.5555555555555556,
             "#d8576b"
            ],
            [
             0.6666666666666666,
             "#ed7953"
            ],
            [
             0.7777777777777778,
             "#fb9f3a"
            ],
            [
             0.8888888888888888,
             "#fdca26"
            ],
            [
             1,
             "#f0f921"
            ]
           ],
           "sequentialminus": [
            [
             0,
             "#0d0887"
            ],
            [
             0.1111111111111111,
             "#46039f"
            ],
            [
             0.2222222222222222,
             "#7201a8"
            ],
            [
             0.3333333333333333,
             "#9c179e"
            ],
            [
             0.4444444444444444,
             "#bd3786"
            ],
            [
             0.5555555555555556,
             "#d8576b"
            ],
            [
             0.6666666666666666,
             "#ed7953"
            ],
            [
             0.7777777777777778,
             "#fb9f3a"
            ],
            [
             0.8888888888888888,
             "#fdca26"
            ],
            [
             1,
             "#f0f921"
            ]
           ]
          },
          "colorway": [
           "#636efa",
           "#EF553B",
           "#00cc96",
           "#ab63fa",
           "#FFA15A",
           "#19d3f3",
           "#FF6692",
           "#B6E880",
           "#FF97FF",
           "#FECB52"
          ],
          "font": {
           "color": "#f2f5fa"
          },
          "geo": {
           "bgcolor": "rgb(17,17,17)",
           "lakecolor": "rgb(17,17,17)",
           "landcolor": "rgb(17,17,17)",
           "showlakes": true,
           "showland": true,
           "subunitcolor": "#506784"
          },
          "hoverlabel": {
           "align": "left"
          },
          "hovermode": "closest",
          "mapbox": {
           "style": "dark"
          },
          "paper_bgcolor": "rgb(17,17,17)",
          "plot_bgcolor": "rgb(17,17,17)",
          "polar": {
           "angularaxis": {
            "gridcolor": "#506784",
            "linecolor": "#506784",
            "ticks": ""
           },
           "bgcolor": "rgb(17,17,17)",
           "radialaxis": {
            "gridcolor": "#506784",
            "linecolor": "#506784",
            "ticks": ""
           }
          },
          "scene": {
           "xaxis": {
            "backgroundcolor": "rgb(17,17,17)",
            "gridcolor": "#506784",
            "gridwidth": 2,
            "linecolor": "#506784",
            "showbackground": true,
            "ticks": "",
            "zerolinecolor": "#C8D4E3"
           },
           "yaxis": {
            "backgroundcolor": "rgb(17,17,17)",
            "gridcolor": "#506784",
            "gridwidth": 2,
            "linecolor": "#506784",
            "showbackground": true,
            "ticks": "",
            "zerolinecolor": "#C8D4E3"
           },
           "zaxis": {
            "backgroundcolor": "rgb(17,17,17)",
            "gridcolor": "#506784",
            "gridwidth": 2,
            "linecolor": "#506784",
            "showbackground": true,
            "ticks": "",
            "zerolinecolor": "#C8D4E3"
           }
          },
          "shapedefaults": {
           "line": {
            "color": "#f2f5fa"
           }
          },
          "sliderdefaults": {
           "bgcolor": "#C8D4E3",
           "bordercolor": "rgb(17,17,17)",
           "borderwidth": 1,
           "tickwidth": 0
          },
          "ternary": {
           "aaxis": {
            "gridcolor": "#506784",
            "linecolor": "#506784",
            "ticks": ""
           },
           "baxis": {
            "gridcolor": "#506784",
            "linecolor": "#506784",
            "ticks": ""
           },
           "bgcolor": "rgb(17,17,17)",
           "caxis": {
            "gridcolor": "#506784",
            "linecolor": "#506784",
            "ticks": ""
           }
          },
          "title": {
           "x": 0.05
          },
          "updatemenudefaults": {
           "bgcolor": "#506784",
           "borderwidth": 0
          },
          "xaxis": {
           "automargin": true,
           "gridcolor": "#283442",
           "linecolor": "#506784",
           "ticks": "",
           "title": {
            "standoff": 15
           },
           "zerolinecolor": "#283442",
           "zerolinewidth": 2
          },
          "yaxis": {
           "automargin": true,
           "gridcolor": "#283442",
           "linecolor": "#506784",
           "ticks": "",
           "title": {
            "standoff": 15
           },
           "zerolinecolor": "#283442",
           "zerolinewidth": 2
          }
         }
        },
        "title": {
         "text": "Stocks"
        },
        "xaxis": {
         "anchor": "y",
         "domain": [
          0,
          1
         ],
         "dtick": "M1",
         "tickformat": "%b\n%Y",
         "title": {
          "text": "date"
         }
        },
        "yaxis": {
         "anchor": "x",
         "domain": [
          0,
          1
         ],
         "title": {
          "text": "value"
         }
        }
       }
      }
     },
     "metadata": {}
    }
   ],
   "source": [
    "# imports\n",
    "import pandas as pd\n",
    "import plotly.express as px\n",
    "\n",
    "# data\n",
    "df = px.data.stocks()\n",
    "df = df.tail(40)\n",
    "colors = px.colors.qualitative.T10\n",
    "\n",
    "# plotly\n",
    "fig = px.line(df,x = 'date',\n",
    "                 y = [c for c in df.columns if c != 'date'],\n",
    "                 template = 'plotly_dark',\n",
    "                 color_discrete_sequence = colors,\n",
    "                 title = 'Stocks', \n",
    "             )\n",
    "\n",
    "fig.update_xaxes(dtick=\"M1\",\n",
    "                 tickformat=\"%b\\n%Y\"\n",
    ")\n",
    "\n",
    "fig.show()"
   ]
  },
  {
   "cell_type": "code",
   "execution_count": 33,
   "metadata": {},
   "outputs": [
    {
     "output_type": "display_data",
     "data": {
      "application/vnd.plotly.v1+json": {
       "config": {
        "plotlyServerURL": "https://plot.ly"
       },
       "data": [
        {
         "hovertemplate": "x=%{x}<br>y=%{y}<extra></extra>",
         "legendgroup": "",
         "line": {
          "color": "#636efa",
          "dash": "solid"
         },
         "mode": "lines",
         "name": "",
         "orientation": "v",
         "showlegend": false,
         "type": "scatter",
         "x": [
          0,
          1
         ],
         "xaxis": "x",
         "y": [
          1,
          0
         ],
         "yaxis": "y"
        }
       ],
       "layout": {
        "legend": {
         "tracegroupgap": 0
        },
        "margin": {
         "t": 60
        },
        "template": {
         "data": {
          "bar": [
           {
            "error_x": {
             "color": "#2a3f5f"
            },
            "error_y": {
             "color": "#2a3f5f"
            },
            "marker": {
             "line": {
              "color": "#E5ECF6",
              "width": 0.5
             }
            },
            "type": "bar"
           }
          ],
          "barpolar": [
           {
            "marker": {
             "line": {
              "color": "#E5ECF6",
              "width": 0.5
             }
            },
            "type": "barpolar"
           }
          ],
          "carpet": [
           {
            "aaxis": {
             "endlinecolor": "#2a3f5f",
             "gridcolor": "white",
             "linecolor": "white",
             "minorgridcolor": "white",
             "startlinecolor": "#2a3f5f"
            },
            "baxis": {
             "endlinecolor": "#2a3f5f",
             "gridcolor": "white",
             "linecolor": "white",
             "minorgridcolor": "white",
             "startlinecolor": "#2a3f5f"
            },
            "type": "carpet"
           }
          ],
          "choropleth": [
           {
            "colorbar": {
             "outlinewidth": 0,
             "ticks": ""
            },
            "type": "choropleth"
           }
          ],
          "contour": [
           {
            "colorbar": {
             "outlinewidth": 0,
             "ticks": ""
            },
            "colorscale": [
             [
              0,
              "#0d0887"
             ],
             [
              0.1111111111111111,
              "#46039f"
             ],
             [
              0.2222222222222222,
              "#7201a8"
             ],
             [
              0.3333333333333333,
              "#9c179e"
             ],
             [
              0.4444444444444444,
              "#bd3786"
             ],
             [
              0.5555555555555556,
              "#d8576b"
             ],
             [
              0.6666666666666666,
              "#ed7953"
             ],
             [
              0.7777777777777778,
              "#fb9f3a"
             ],
             [
              0.8888888888888888,
              "#fdca26"
             ],
             [
              1,
              "#f0f921"
             ]
            ],
            "type": "contour"
           }
          ],
          "contourcarpet": [
           {
            "colorbar": {
             "outlinewidth": 0,
             "ticks": ""
            },
            "type": "contourcarpet"
           }
          ],
          "heatmap": [
           {
            "colorbar": {
             "outlinewidth": 0,
             "ticks": ""
            },
            "colorscale": [
             [
              0,
              "#0d0887"
             ],
             [
              0.1111111111111111,
              "#46039f"
             ],
             [
              0.2222222222222222,
              "#7201a8"
             ],
             [
              0.3333333333333333,
              "#9c179e"
             ],
             [
              0.4444444444444444,
              "#bd3786"
             ],
             [
              0.5555555555555556,
              "#d8576b"
             ],
             [
              0.6666666666666666,
              "#ed7953"
             ],
             [
              0.7777777777777778,
              "#fb9f3a"
             ],
             [
              0.8888888888888888,
              "#fdca26"
             ],
             [
              1,
              "#f0f921"
             ]
            ],
            "type": "heatmap"
           }
          ],
          "heatmapgl": [
           {
            "colorbar": {
             "outlinewidth": 0,
             "ticks": ""
            },
            "colorscale": [
             [
              0,
              "#0d0887"
             ],
             [
              0.1111111111111111,
              "#46039f"
             ],
             [
              0.2222222222222222,
              "#7201a8"
             ],
             [
              0.3333333333333333,
              "#9c179e"
             ],
             [
              0.4444444444444444,
              "#bd3786"
             ],
             [
              0.5555555555555556,
              "#d8576b"
             ],
             [
              0.6666666666666666,
              "#ed7953"
             ],
             [
              0.7777777777777778,
              "#fb9f3a"
             ],
             [
              0.8888888888888888,
              "#fdca26"
             ],
             [
              1,
              "#f0f921"
             ]
            ],
            "type": "heatmapgl"
           }
          ],
          "histogram": [
           {
            "marker": {
             "colorbar": {
              "outlinewidth": 0,
              "ticks": ""
             }
            },
            "type": "histogram"
           }
          ],
          "histogram2d": [
           {
            "colorbar": {
             "outlinewidth": 0,
             "ticks": ""
            },
            "colorscale": [
             [
              0,
              "#0d0887"
             ],
             [
              0.1111111111111111,
              "#46039f"
             ],
             [
              0.2222222222222222,
              "#7201a8"
             ],
             [
              0.3333333333333333,
              "#9c179e"
             ],
             [
              0.4444444444444444,
              "#bd3786"
             ],
             [
              0.5555555555555556,
              "#d8576b"
             ],
             [
              0.6666666666666666,
              "#ed7953"
             ],
             [
              0.7777777777777778,
              "#fb9f3a"
             ],
             [
              0.8888888888888888,
              "#fdca26"
             ],
             [
              1,
              "#f0f921"
             ]
            ],
            "type": "histogram2d"
           }
          ],
          "histogram2dcontour": [
           {
            "colorbar": {
             "outlinewidth": 0,
             "ticks": ""
            },
            "colorscale": [
             [
              0,
              "#0d0887"
             ],
             [
              0.1111111111111111,
              "#46039f"
             ],
             [
              0.2222222222222222,
              "#7201a8"
             ],
             [
              0.3333333333333333,
              "#9c179e"
             ],
             [
              0.4444444444444444,
              "#bd3786"
             ],
             [
              0.5555555555555556,
              "#d8576b"
             ],
             [
              0.6666666666666666,
              "#ed7953"
             ],
             [
              0.7777777777777778,
              "#fb9f3a"
             ],
             [
              0.8888888888888888,
              "#fdca26"
             ],
             [
              1,
              "#f0f921"
             ]
            ],
            "type": "histogram2dcontour"
           }
          ],
          "mesh3d": [
           {
            "colorbar": {
             "outlinewidth": 0,
             "ticks": ""
            },
            "type": "mesh3d"
           }
          ],
          "parcoords": [
           {
            "line": {
             "colorbar": {
              "outlinewidth": 0,
              "ticks": ""
             }
            },
            "type": "parcoords"
           }
          ],
          "pie": [
           {
            "automargin": true,
            "type": "pie"
           }
          ],
          "scatter": [
           {
            "marker": {
             "colorbar": {
              "outlinewidth": 0,
              "ticks": ""
             }
            },
            "type": "scatter"
           }
          ],
          "scatter3d": [
           {
            "line": {
             "colorbar": {
              "outlinewidth": 0,
              "ticks": ""
             }
            },
            "marker": {
             "colorbar": {
              "outlinewidth": 0,
              "ticks": ""
             }
            },
            "type": "scatter3d"
           }
          ],
          "scattercarpet": [
           {
            "marker": {
             "colorbar": {
              "outlinewidth": 0,
              "ticks": ""
             }
            },
            "type": "scattercarpet"
           }
          ],
          "scattergeo": [
           {
            "marker": {
             "colorbar": {
              "outlinewidth": 0,
              "ticks": ""
             }
            },
            "type": "scattergeo"
           }
          ],
          "scattergl": [
           {
            "marker": {
             "colorbar": {
              "outlinewidth": 0,
              "ticks": ""
             }
            },
            "type": "scattergl"
           }
          ],
          "scattermapbox": [
           {
            "marker": {
             "colorbar": {
              "outlinewidth": 0,
              "ticks": ""
             }
            },
            "type": "scattermapbox"
           }
          ],
          "scatterpolar": [
           {
            "marker": {
             "colorbar": {
              "outlinewidth": 0,
              "ticks": ""
             }
            },
            "type": "scatterpolar"
           }
          ],
          "scatterpolargl": [
           {
            "marker": {
             "colorbar": {
              "outlinewidth": 0,
              "ticks": ""
             }
            },
            "type": "scatterpolargl"
           }
          ],
          "scatterternary": [
           {
            "marker": {
             "colorbar": {
              "outlinewidth": 0,
              "ticks": ""
             }
            },
            "type": "scatterternary"
           }
          ],
          "surface": [
           {
            "colorbar": {
             "outlinewidth": 0,
             "ticks": ""
            },
            "colorscale": [
             [
              0,
              "#0d0887"
             ],
             [
              0.1111111111111111,
              "#46039f"
             ],
             [
              0.2222222222222222,
              "#7201a8"
             ],
             [
              0.3333333333333333,
              "#9c179e"
             ],
             [
              0.4444444444444444,
              "#bd3786"
             ],
             [
              0.5555555555555556,
              "#d8576b"
             ],
             [
              0.6666666666666666,
              "#ed7953"
             ],
             [
              0.7777777777777778,
              "#fb9f3a"
             ],
             [
              0.8888888888888888,
              "#fdca26"
             ],
             [
              1,
              "#f0f921"
             ]
            ],
            "type": "surface"
           }
          ],
          "table": [
           {
            "cells": {
             "fill": {
              "color": "#EBF0F8"
             },
             "line": {
              "color": "white"
             }
            },
            "header": {
             "fill": {
              "color": "#C8D4E3"
             },
             "line": {
              "color": "white"
             }
            },
            "type": "table"
           }
          ]
         },
         "layout": {
          "annotationdefaults": {
           "arrowcolor": "#2a3f5f",
           "arrowhead": 0,
           "arrowwidth": 1
          },
          "autotypenumbers": "strict",
          "coloraxis": {
           "colorbar": {
            "outlinewidth": 0,
            "ticks": ""
           }
          },
          "colorscale": {
           "diverging": [
            [
             0,
             "#8e0152"
            ],
            [
             0.1,
             "#c51b7d"
            ],
            [
             0.2,
             "#de77ae"
            ],
            [
             0.3,
             "#f1b6da"
            ],
            [
             0.4,
             "#fde0ef"
            ],
            [
             0.5,
             "#f7f7f7"
            ],
            [
             0.6,
             "#e6f5d0"
            ],
            [
             0.7,
             "#b8e186"
            ],
            [
             0.8,
             "#7fbc41"
            ],
            [
             0.9,
             "#4d9221"
            ],
            [
             1,
             "#276419"
            ]
           ],
           "sequential": [
            [
             0,
             "#0d0887"
            ],
            [
             0.1111111111111111,
             "#46039f"
            ],
            [
             0.2222222222222222,
             "#7201a8"
            ],
            [
             0.3333333333333333,
             "#9c179e"
            ],
            [
             0.4444444444444444,
             "#bd3786"
            ],
            [
             0.5555555555555556,
             "#d8576b"
            ],
            [
             0.6666666666666666,
             "#ed7953"
            ],
            [
             0.7777777777777778,
             "#fb9f3a"
            ],
            [
             0.8888888888888888,
             "#fdca26"
            ],
            [
             1,
             "#f0f921"
            ]
           ],
           "sequentialminus": [
            [
             0,
             "#0d0887"
            ],
            [
             0.1111111111111111,
             "#46039f"
            ],
            [
             0.2222222222222222,
             "#7201a8"
            ],
            [
             0.3333333333333333,
             "#9c179e"
            ],
            [
             0.4444444444444444,
             "#bd3786"
            ],
            [
             0.5555555555555556,
             "#d8576b"
            ],
            [
             0.6666666666666666,
             "#ed7953"
            ],
            [
             0.7777777777777778,
             "#fb9f3a"
            ],
            [
             0.8888888888888888,
             "#fdca26"
            ],
            [
             1,
             "#f0f921"
            ]
           ]
          },
          "colorway": [
           "#636efa",
           "#EF553B",
           "#00cc96",
           "#ab63fa",
           "#FFA15A",
           "#19d3f3",
           "#FF6692",
           "#B6E880",
           "#FF97FF",
           "#FECB52"
          ],
          "font": {
           "color": "#2a3f5f"
          },
          "geo": {
           "bgcolor": "white",
           "lakecolor": "white",
           "landcolor": "#E5ECF6",
           "showlakes": true,
           "showland": true,
           "subunitcolor": "white"
          },
          "hoverlabel": {
           "align": "left"
          },
          "hovermode": "closest",
          "mapbox": {
           "style": "light"
          },
          "paper_bgcolor": "white",
          "plot_bgcolor": "#E5ECF6",
          "polar": {
           "angularaxis": {
            "gridcolor": "white",
            "linecolor": "white",
            "ticks": ""
           },
           "bgcolor": "#E5ECF6",
           "radialaxis": {
            "gridcolor": "white",
            "linecolor": "white",
            "ticks": ""
           }
          },
          "scene": {
           "xaxis": {
            "backgroundcolor": "#E5ECF6",
            "gridcolor": "white",
            "gridwidth": 2,
            "linecolor": "white",
            "showbackground": true,
            "ticks": "",
            "zerolinecolor": "white"
           },
           "yaxis": {
            "backgroundcolor": "#E5ECF6",
            "gridcolor": "white",
            "gridwidth": 2,
            "linecolor": "white",
            "showbackground": true,
            "ticks": "",
            "zerolinecolor": "white"
           },
           "zaxis": {
            "backgroundcolor": "#E5ECF6",
            "gridcolor": "white",
            "gridwidth": 2,
            "linecolor": "white",
            "showbackground": true,
            "ticks": "",
            "zerolinecolor": "white"
           }
          },
          "shapedefaults": {
           "line": {
            "color": "#2a3f5f"
           }
          },
          "ternary": {
           "aaxis": {
            "gridcolor": "white",
            "linecolor": "white",
            "ticks": ""
           },
           "baxis": {
            "gridcolor": "white",
            "linecolor": "white",
            "ticks": ""
           },
           "bgcolor": "#E5ECF6",
           "caxis": {
            "gridcolor": "white",
            "linecolor": "white",
            "ticks": ""
           }
          },
          "title": {
           "x": 0.05
          },
          "xaxis": {
           "automargin": true,
           "gridcolor": "white",
           "linecolor": "white",
           "ticks": "",
           "title": {
            "standoff": 15
           },
           "zerolinecolor": "white",
           "zerolinewidth": 2
          },
          "yaxis": {
           "automargin": true,
           "gridcolor": "white",
           "linecolor": "white",
           "ticks": "",
           "title": {
            "standoff": 15
           },
           "zerolinecolor": "white",
           "zerolinewidth": 2
          }
         }
        },
        "xaxis": {
         "anchor": "y",
         "domain": [
          0,
          1
         ],
         "showgrid": true,
         "title": {
          "text": "x"
         }
        },
        "yaxis": {
         "anchor": "x",
         "domain": [
          0,
          1
         ],
         "showgrid": false,
         "title": {
          "text": "y"
         }
        }
       }
      }
     },
     "metadata": {}
    }
   ],
   "source": [
    "import plotly.express as px\n",
    "\n",
    "fig = px.line(y=[1, 0])\n",
    "fig.update_xaxes(showgrid=True)\n",
    "fig.update_yaxes(showgrid=False)\n",
    "fig.show()"
   ]
  },
  {
   "cell_type": "code",
   "execution_count": 46,
   "metadata": {},
   "outputs": [
    {
     "output_type": "display_data",
     "data": {
      "application/vnd.plotly.v1+json": {
       "config": {
        "plotlyServerURL": "https://plot.ly"
       },
       "data": [
        {
         "hovertemplate": "species=setosa<br>sepal_width=%{x}<br>sepal_length=%{y}<extra></extra>",
         "legendgroup": "",
         "marker": {
          "color": "#636efa",
          "symbol": "circle"
         },
         "mode": "markers",
         "name": "",
         "orientation": "v",
         "showlegend": false,
         "type": "scatter",
         "x": [
          3.5,
          3,
          3.2,
          3.1,
          3.6,
          3.9,
          3.4,
          3.4,
          2.9,
          3.1,
          3.7,
          3.4,
          3,
          3,
          4,
          4.4,
          3.9,
          3.5,
          3.8,
          3.8,
          3.4,
          3.7,
          3.6,
          3.3,
          3.4,
          3,
          3.4,
          3.5,
          3.4,
          3.2,
          3.1,
          3.4,
          4.1,
          4.2,
          3.1,
          3.2,
          3.5,
          3.1,
          3,
          3.4,
          3.5,
          2.3,
          3.2,
          3.5,
          3.8,
          3,
          3.8,
          3.2,
          3.7,
          3.3
         ],
         "xaxis": "x",
         "y": [
          5.1,
          4.9,
          4.7,
          4.6,
          5,
          5.4,
          4.6,
          5,
          4.4,
          4.9,
          5.4,
          4.8,
          4.8,
          4.3,
          5.8,
          5.7,
          5.4,
          5.1,
          5.7,
          5.1,
          5.4,
          5.1,
          4.6,
          5.1,
          4.8,
          5,
          5,
          5.2,
          5.2,
          4.7,
          4.8,
          5.4,
          5.2,
          5.5,
          4.9,
          5,
          5.5,
          4.9,
          4.4,
          5.1,
          5,
          4.5,
          4.4,
          5,
          5.1,
          4.8,
          5.1,
          4.6,
          5.3,
          5
         ],
         "yaxis": "y"
        },
        {
         "hovertemplate": "species=versicolor<br>sepal_width=%{x}<br>sepal_length=%{y}<extra></extra>",
         "legendgroup": "",
         "marker": {
          "color": "#636efa",
          "symbol": "circle"
         },
         "mode": "markers",
         "name": "",
         "orientation": "v",
         "showlegend": false,
         "type": "scatter",
         "x": [
          3.2,
          3.2,
          3.1,
          2.3,
          2.8,
          2.8,
          3.3,
          2.4,
          2.9,
          2.7,
          2,
          3,
          2.2,
          2.9,
          2.9,
          3.1,
          3,
          2.7,
          2.2,
          2.5,
          3.2,
          2.8,
          2.5,
          2.8,
          2.9,
          3,
          2.8,
          3,
          2.9,
          2.6,
          2.4,
          2.4,
          2.7,
          2.7,
          3,
          3.4,
          3.1,
          2.3,
          3,
          2.5,
          2.6,
          3,
          2.6,
          2.3,
          2.7,
          3,
          2.9,
          2.9,
          2.5,
          2.8
         ],
         "xaxis": "x2",
         "y": [
          7,
          6.4,
          6.9,
          5.5,
          6.5,
          5.7,
          6.3,
          4.9,
          6.6,
          5.2,
          5,
          5.9,
          6,
          6.1,
          5.6,
          6.7,
          5.6,
          5.8,
          6.2,
          5.6,
          5.9,
          6.1,
          6.3,
          6.1,
          6.4,
          6.6,
          6.8,
          6.7,
          6,
          5.7,
          5.5,
          5.5,
          5.8,
          6,
          5.4,
          6,
          6.7,
          6.3,
          5.6,
          5.5,
          5.5,
          6.1,
          5.8,
          5,
          5.6,
          5.7,
          5.7,
          6.2,
          5.1,
          5.7
         ],
         "yaxis": "y2"
        },
        {
         "hovertemplate": "species=virginica<br>sepal_width=%{x}<br>sepal_length=%{y}<extra></extra>",
         "legendgroup": "",
         "marker": {
          "color": "#636efa",
          "symbol": "circle"
         },
         "mode": "markers",
         "name": "",
         "orientation": "v",
         "showlegend": false,
         "type": "scatter",
         "x": [
          3.3,
          2.7,
          3,
          2.9,
          3,
          3,
          2.5,
          2.9,
          2.5,
          3.6,
          3.2,
          2.7,
          3,
          2.5,
          2.8,
          3.2,
          3,
          3.8,
          2.6,
          2.2,
          3.2,
          2.8,
          2.8,
          2.7,
          3.3,
          3.2,
          2.8,
          3,
          2.8,
          3,
          2.8,
          3.8,
          2.8,
          2.8,
          2.6,
          3,
          3.4,
          3.1,
          3,
          3.1,
          3.1,
          3.1,
          2.7,
          3.2,
          3.3,
          3,
          2.5,
          3,
          3.4,
          3
         ],
         "xaxis": "x3",
         "y": [
          6.3,
          5.8,
          7.1,
          6.3,
          6.5,
          7.6,
          4.9,
          7.3,
          6.7,
          7.2,
          6.5,
          6.4,
          6.8,
          5.7,
          5.8,
          6.4,
          6.5,
          7.7,
          7.7,
          6,
          6.9,
          5.6,
          7.7,
          6.3,
          6.7,
          7.2,
          6.2,
          6.1,
          6.4,
          7.2,
          7.4,
          7.9,
          6.4,
          6.3,
          6.1,
          7.7,
          6.3,
          6.4,
          6,
          6.9,
          6.7,
          6.9,
          5.8,
          6.8,
          6.7,
          6.7,
          6.3,
          6.5,
          6.2,
          5.9
         ],
         "yaxis": "y3"
        }
       ],
       "layout": {
        "annotations": [
         {
          "font": {},
          "showarrow": false,
          "text": "species=setosa",
          "x": 0.15999999999999998,
          "xanchor": "center",
          "xref": "paper",
          "y": 1,
          "yanchor": "bottom",
          "yref": "paper"
         },
         {
          "font": {},
          "showarrow": false,
          "text": "species=versicolor",
          "x": 0.49999999999999994,
          "xanchor": "center",
          "xref": "paper",
          "y": 1,
          "yanchor": "bottom",
          "yref": "paper"
         },
         {
          "font": {},
          "showarrow": false,
          "text": "species=virginica",
          "x": 0.8399999999999999,
          "xanchor": "center",
          "xref": "paper",
          "y": 1,
          "yanchor": "bottom",
          "yref": "paper"
         }
        ],
        "legend": {
         "tracegroupgap": 0
        },
        "margin": {
         "t": 60
        },
        "template": {
         "data": {
          "bar": [
           {
            "error_x": {
             "color": "#2a3f5f"
            },
            "error_y": {
             "color": "#2a3f5f"
            },
            "marker": {
             "line": {
              "color": "#E5ECF6",
              "width": 0.5
             }
            },
            "type": "bar"
           }
          ],
          "barpolar": [
           {
            "marker": {
             "line": {
              "color": "#E5ECF6",
              "width": 0.5
             }
            },
            "type": "barpolar"
           }
          ],
          "carpet": [
           {
            "aaxis": {
             "endlinecolor": "#2a3f5f",
             "gridcolor": "white",
             "linecolor": "white",
             "minorgridcolor": "white",
             "startlinecolor": "#2a3f5f"
            },
            "baxis": {
             "endlinecolor": "#2a3f5f",
             "gridcolor": "white",
             "linecolor": "white",
             "minorgridcolor": "white",
             "startlinecolor": "#2a3f5f"
            },
            "type": "carpet"
           }
          ],
          "choropleth": [
           {
            "colorbar": {
             "outlinewidth": 0,
             "ticks": ""
            },
            "type": "choropleth"
           }
          ],
          "contour": [
           {
            "colorbar": {
             "outlinewidth": 0,
             "ticks": ""
            },
            "colorscale": [
             [
              0,
              "#0d0887"
             ],
             [
              0.1111111111111111,
              "#46039f"
             ],
             [
              0.2222222222222222,
              "#7201a8"
             ],
             [
              0.3333333333333333,
              "#9c179e"
             ],
             [
              0.4444444444444444,
              "#bd3786"
             ],
             [
              0.5555555555555556,
              "#d8576b"
             ],
             [
              0.6666666666666666,
              "#ed7953"
             ],
             [
              0.7777777777777778,
              "#fb9f3a"
             ],
             [
              0.8888888888888888,
              "#fdca26"
             ],
             [
              1,
              "#f0f921"
             ]
            ],
            "type": "contour"
           }
          ],
          "contourcarpet": [
           {
            "colorbar": {
             "outlinewidth": 0,
             "ticks": ""
            },
            "type": "contourcarpet"
           }
          ],
          "heatmap": [
           {
            "colorbar": {
             "outlinewidth": 0,
             "ticks": ""
            },
            "colorscale": [
             [
              0,
              "#0d0887"
             ],
             [
              0.1111111111111111,
              "#46039f"
             ],
             [
              0.2222222222222222,
              "#7201a8"
             ],
             [
              0.3333333333333333,
              "#9c179e"
             ],
             [
              0.4444444444444444,
              "#bd3786"
             ],
             [
              0.5555555555555556,
              "#d8576b"
             ],
             [
              0.6666666666666666,
              "#ed7953"
             ],
             [
              0.7777777777777778,
              "#fb9f3a"
             ],
             [
              0.8888888888888888,
              "#fdca26"
             ],
             [
              1,
              "#f0f921"
             ]
            ],
            "type": "heatmap"
           }
          ],
          "heatmapgl": [
           {
            "colorbar": {
             "outlinewidth": 0,
             "ticks": ""
            },
            "colorscale": [
             [
              0,
              "#0d0887"
             ],
             [
              0.1111111111111111,
              "#46039f"
             ],
             [
              0.2222222222222222,
              "#7201a8"
             ],
             [
              0.3333333333333333,
              "#9c179e"
             ],
             [
              0.4444444444444444,
              "#bd3786"
             ],
             [
              0.5555555555555556,
              "#d8576b"
             ],
             [
              0.6666666666666666,
              "#ed7953"
             ],
             [
              0.7777777777777778,
              "#fb9f3a"
             ],
             [
              0.8888888888888888,
              "#fdca26"
             ],
             [
              1,
              "#f0f921"
             ]
            ],
            "type": "heatmapgl"
           }
          ],
          "histogram": [
           {
            "marker": {
             "colorbar": {
              "outlinewidth": 0,
              "ticks": ""
             }
            },
            "type": "histogram"
           }
          ],
          "histogram2d": [
           {
            "colorbar": {
             "outlinewidth": 0,
             "ticks": ""
            },
            "colorscale": [
             [
              0,
              "#0d0887"
             ],
             [
              0.1111111111111111,
              "#46039f"
             ],
             [
              0.2222222222222222,
              "#7201a8"
             ],
             [
              0.3333333333333333,
              "#9c179e"
             ],
             [
              0.4444444444444444,
              "#bd3786"
             ],
             [
              0.5555555555555556,
              "#d8576b"
             ],
             [
              0.6666666666666666,
              "#ed7953"
             ],
             [
              0.7777777777777778,
              "#fb9f3a"
             ],
             [
              0.8888888888888888,
              "#fdca26"
             ],
             [
              1,
              "#f0f921"
             ]
            ],
            "type": "histogram2d"
           }
          ],
          "histogram2dcontour": [
           {
            "colorbar": {
             "outlinewidth": 0,
             "ticks": ""
            },
            "colorscale": [
             [
              0,
              "#0d0887"
             ],
             [
              0.1111111111111111,
              "#46039f"
             ],
             [
              0.2222222222222222,
              "#7201a8"
             ],
             [
              0.3333333333333333,
              "#9c179e"
             ],
             [
              0.4444444444444444,
              "#bd3786"
             ],
             [
              0.5555555555555556,
              "#d8576b"
             ],
             [
              0.6666666666666666,
              "#ed7953"
             ],
             [
              0.7777777777777778,
              "#fb9f3a"
             ],
             [
              0.8888888888888888,
              "#fdca26"
             ],
             [
              1,
              "#f0f921"
             ]
            ],
            "type": "histogram2dcontour"
           }
          ],
          "mesh3d": [
           {
            "colorbar": {
             "outlinewidth": 0,
             "ticks": ""
            },
            "type": "mesh3d"
           }
          ],
          "parcoords": [
           {
            "line": {
             "colorbar": {
              "outlinewidth": 0,
              "ticks": ""
             }
            },
            "type": "parcoords"
           }
          ],
          "pie": [
           {
            "automargin": true,
            "type": "pie"
           }
          ],
          "scatter": [
           {
            "marker": {
             "colorbar": {
              "outlinewidth": 0,
              "ticks": ""
             }
            },
            "type": "scatter"
           }
          ],
          "scatter3d": [
           {
            "line": {
             "colorbar": {
              "outlinewidth": 0,
              "ticks": ""
             }
            },
            "marker": {
             "colorbar": {
              "outlinewidth": 0,
              "ticks": ""
             }
            },
            "type": "scatter3d"
           }
          ],
          "scattercarpet": [
           {
            "marker": {
             "colorbar": {
              "outlinewidth": 0,
              "ticks": ""
             }
            },
            "type": "scattercarpet"
           }
          ],
          "scattergeo": [
           {
            "marker": {
             "colorbar": {
              "outlinewidth": 0,
              "ticks": ""
             }
            },
            "type": "scattergeo"
           }
          ],
          "scattergl": [
           {
            "marker": {
             "colorbar": {
              "outlinewidth": 0,
              "ticks": ""
             }
            },
            "type": "scattergl"
           }
          ],
          "scattermapbox": [
           {
            "marker": {
             "colorbar": {
              "outlinewidth": 0,
              "ticks": ""
             }
            },
            "type": "scattermapbox"
           }
          ],
          "scatterpolar": [
           {
            "marker": {
             "colorbar": {
              "outlinewidth": 0,
              "ticks": ""
             }
            },
            "type": "scatterpolar"
           }
          ],
          "scatterpolargl": [
           {
            "marker": {
             "colorbar": {
              "outlinewidth": 0,
              "ticks": ""
             }
            },
            "type": "scatterpolargl"
           }
          ],
          "scatterternary": [
           {
            "marker": {
             "colorbar": {
              "outlinewidth": 0,
              "ticks": ""
             }
            },
            "type": "scatterternary"
           }
          ],
          "surface": [
           {
            "colorbar": {
             "outlinewidth": 0,
             "ticks": ""
            },
            "colorscale": [
             [
              0,
              "#0d0887"
             ],
             [
              0.1111111111111111,
              "#46039f"
             ],
             [
              0.2222222222222222,
              "#7201a8"
             ],
             [
              0.3333333333333333,
              "#9c179e"
             ],
             [
              0.4444444444444444,
              "#bd3786"
             ],
             [
              0.5555555555555556,
              "#d8576b"
             ],
             [
              0.6666666666666666,
              "#ed7953"
             ],
             [
              0.7777777777777778,
              "#fb9f3a"
             ],
             [
              0.8888888888888888,
              "#fdca26"
             ],
             [
              1,
              "#f0f921"
             ]
            ],
            "type": "surface"
           }
          ],
          "table": [
           {
            "cells": {
             "fill": {
              "color": "#EBF0F8"
             },
             "line": {
              "color": "white"
             }
            },
            "header": {
             "fill": {
              "color": "#C8D4E3"
             },
             "line": {
              "color": "white"
             }
            },
            "type": "table"
           }
          ]
         },
         "layout": {
          "annotationdefaults": {
           "arrowcolor": "#2a3f5f",
           "arrowhead": 0,
           "arrowwidth": 1
          },
          "autotypenumbers": "strict",
          "coloraxis": {
           "colorbar": {
            "outlinewidth": 0,
            "ticks": ""
           }
          },
          "colorscale": {
           "diverging": [
            [
             0,
             "#8e0152"
            ],
            [
             0.1,
             "#c51b7d"
            ],
            [
             0.2,
             "#de77ae"
            ],
            [
             0.3,
             "#f1b6da"
            ],
            [
             0.4,
             "#fde0ef"
            ],
            [
             0.5,
             "#f7f7f7"
            ],
            [
             0.6,
             "#e6f5d0"
            ],
            [
             0.7,
             "#b8e186"
            ],
            [
             0.8,
             "#7fbc41"
            ],
            [
             0.9,
             "#4d9221"
            ],
            [
             1,
             "#276419"
            ]
           ],
           "sequential": [
            [
             0,
             "#0d0887"
            ],
            [
             0.1111111111111111,
             "#46039f"
            ],
            [
             0.2222222222222222,
             "#7201a8"
            ],
            [
             0.3333333333333333,
             "#9c179e"
            ],
            [
             0.4444444444444444,
             "#bd3786"
            ],
            [
             0.5555555555555556,
             "#d8576b"
            ],
            [
             0.6666666666666666,
             "#ed7953"
            ],
            [
             0.7777777777777778,
             "#fb9f3a"
            ],
            [
             0.8888888888888888,
             "#fdca26"
            ],
            [
             1,
             "#f0f921"
            ]
           ],
           "sequentialminus": [
            [
             0,
             "#0d0887"
            ],
            [
             0.1111111111111111,
             "#46039f"
            ],
            [
             0.2222222222222222,
             "#7201a8"
            ],
            [
             0.3333333333333333,
             "#9c179e"
            ],
            [
             0.4444444444444444,
             "#bd3786"
            ],
            [
             0.5555555555555556,
             "#d8576b"
            ],
            [
             0.6666666666666666,
             "#ed7953"
            ],
            [
             0.7777777777777778,
             "#fb9f3a"
            ],
            [
             0.8888888888888888,
             "#fdca26"
            ],
            [
             1,
             "#f0f921"
            ]
           ]
          },
          "colorway": [
           "#636efa",
           "#EF553B",
           "#00cc96",
           "#ab63fa",
           "#FFA15A",
           "#19d3f3",
           "#FF6692",
           "#B6E880",
           "#FF97FF",
           "#FECB52"
          ],
          "font": {
           "color": "#2a3f5f"
          },
          "geo": {
           "bgcolor": "white",
           "lakecolor": "white",
           "landcolor": "#E5ECF6",
           "showlakes": true,
           "showland": true,
           "subunitcolor": "white"
          },
          "hoverlabel": {
           "align": "left"
          },
          "hovermode": "closest",
          "mapbox": {
           "style": "light"
          },
          "paper_bgcolor": "white",
          "plot_bgcolor": "#E5ECF6",
          "polar": {
           "angularaxis": {
            "gridcolor": "white",
            "linecolor": "white",
            "ticks": ""
           },
           "bgcolor": "#E5ECF6",
           "radialaxis": {
            "gridcolor": "white",
            "linecolor": "white",
            "ticks": ""
           }
          },
          "scene": {
           "xaxis": {
            "backgroundcolor": "#E5ECF6",
            "gridcolor": "white",
            "gridwidth": 2,
            "linecolor": "white",
            "showbackground": true,
            "ticks": "",
            "zerolinecolor": "white"
           },
           "yaxis": {
            "backgroundcolor": "#E5ECF6",
            "gridcolor": "white",
            "gridwidth": 2,
            "linecolor": "white",
            "showbackground": true,
            "ticks": "",
            "zerolinecolor": "white"
           },
           "zaxis": {
            "backgroundcolor": "#E5ECF6",
            "gridcolor": "white",
            "gridwidth": 2,
            "linecolor": "white",
            "showbackground": true,
            "ticks": "",
            "zerolinecolor": "white"
           }
          },
          "shapedefaults": {
           "line": {
            "color": "#2a3f5f"
           }
          },
          "ternary": {
           "aaxis": {
            "gridcolor": "white",
            "linecolor": "white",
            "ticks": ""
           },
           "baxis": {
            "gridcolor": "white",
            "linecolor": "white",
            "ticks": ""
           },
           "bgcolor": "#E5ECF6",
           "caxis": {
            "gridcolor": "white",
            "linecolor": "white",
            "ticks": ""
           }
          },
          "title": {
           "x": 0.05
          },
          "xaxis": {
           "automargin": true,
           "gridcolor": "white",
           "linecolor": "white",
           "ticks": "",
           "title": {
            "standoff": 15
           },
           "zerolinecolor": "white",
           "zerolinewidth": 2
          },
          "yaxis": {
           "automargin": true,
           "gridcolor": "white",
           "linecolor": "white",
           "ticks": "",
           "title": {
            "standoff": 15
           },
           "zerolinecolor": "white",
           "zerolinewidth": 2
          }
         }
        },
        "xaxis": {
         "anchor": "y",
         "domain": [
          0,
          0.31999999999999995
         ],
         "nticks": 23,
         "title": {
          "text": "sepal_width"
         }
        },
        "xaxis2": {
         "anchor": "y2",
         "domain": [
          0.33999999999999997,
          0.6599999999999999
         ],
         "matches": "x",
         "nticks": 23,
         "title": {
          "text": "sepal_width"
         }
        },
        "xaxis3": {
         "anchor": "y3",
         "domain": [
          0.6799999999999999,
          0.9999999999999999
         ],
         "matches": "x",
         "nticks": 23,
         "title": {
          "text": "sepal_width"
         }
        },
        "yaxis": {
         "anchor": "x",
         "domain": [
          0,
          1
         ],
         "nticks": 10,
         "title": {
          "text": "sepal_length"
         }
        },
        "yaxis2": {
         "anchor": "x2",
         "domain": [
          0,
          1
         ],
         "matches": "y",
         "nticks": 10,
         "showticklabels": false
        },
        "yaxis3": {
         "anchor": "x3",
         "domain": [
          0,
          1
         ],
         "matches": "y",
         "nticks": 10,
         "showticklabels": false
        }
       }
      }
     },
     "metadata": {}
    }
   ],
   "source": [
    "import plotly.express as px\n",
    "df = px.data.iris()\n",
    "\n",
    "fig = px.scatter(df, x=\"sepal_width\", y=\"sepal_length\", facet_col=\"species\")\n",
    "fig.update_yaxes(nticks=10)\n",
    "fig.update_xaxes(nticks=len(df[\"sepal_width\"].drop_duplicates()))\n",
    "\n",
    "fig.show()"
   ]
  },
  {
   "cell_type": "code",
   "execution_count": 48,
   "metadata": {},
   "outputs": [
    {
     "output_type": "execute_result",
     "data": {
      "text/plain": [
       "   colA  colB\n",
       "0    10   100\n",
       "1    20   200\n",
       "2    30   300\n",
       "0    40   400\n",
       "1    20   200\n",
       "2    50   500"
      ],
      "text/html": "<div>\n<style scoped>\n    .dataframe tbody tr th:only-of-type {\n        vertical-align: middle;\n    }\n\n    .dataframe tbody tr th {\n        vertical-align: top;\n    }\n\n    .dataframe thead th {\n        text-align: right;\n    }\n</style>\n<table border=\"1\" class=\"dataframe\">\n  <thead>\n    <tr style=\"text-align: right;\">\n      <th></th>\n      <th>colA</th>\n      <th>colB</th>\n    </tr>\n  </thead>\n  <tbody>\n    <tr>\n      <th>0</th>\n      <td>10</td>\n      <td>100</td>\n    </tr>\n    <tr>\n      <th>1</th>\n      <td>20</td>\n      <td>200</td>\n    </tr>\n    <tr>\n      <th>2</th>\n      <td>30</td>\n      <td>300</td>\n    </tr>\n    <tr>\n      <th>0</th>\n      <td>40</td>\n      <td>400</td>\n    </tr>\n    <tr>\n      <th>1</th>\n      <td>20</td>\n      <td>200</td>\n    </tr>\n    <tr>\n      <th>2</th>\n      <td>50</td>\n      <td>500</td>\n    </tr>\n  </tbody>\n</table>\n</div>"
     },
     "metadata": {},
     "execution_count": 48
    }
   ],
   "source": [
    "\n",
    "import pandas as pd\n",
    "\n",
    "df1 = pd.DataFrame({ 'colA': [10, 20, 30],\n",
    "                     'colB': [100, 200, 300]})\n",
    "\n",
    "df2 = pd.DataFrame({ 'colA': [40, 20, 50],\n",
    "                     'colB': [400, 200, 500]})\n",
    "\n",
    "new_df = pd.concat([df1, df2])\n",
    "new_df\n"
   ]
  },
  {
   "cell_type": "code",
   "execution_count": 51,
   "metadata": {},
   "outputs": [
    {
     "output_type": "execute_result",
     "data": {
      "text/plain": [
       "   colA  colB\n",
       "0    10   100\n",
       "1    20   200\n",
       "2    30   300\n",
       "3    40   400\n",
       "4    50   500"
      ],
      "text/html": "<div>\n<style scoped>\n    .dataframe tbody tr th:only-of-type {\n        vertical-align: middle;\n    }\n\n    .dataframe tbody tr th {\n        vertical-align: top;\n    }\n\n    .dataframe thead th {\n        text-align: right;\n    }\n</style>\n<table border=\"1\" class=\"dataframe\">\n  <thead>\n    <tr style=\"text-align: right;\">\n      <th></th>\n      <th>colA</th>\n      <th>colB</th>\n    </tr>\n  </thead>\n  <tbody>\n    <tr>\n      <th>0</th>\n      <td>10</td>\n      <td>100</td>\n    </tr>\n    <tr>\n      <th>1</th>\n      <td>20</td>\n      <td>200</td>\n    </tr>\n    <tr>\n      <th>2</th>\n      <td>30</td>\n      <td>300</td>\n    </tr>\n    <tr>\n      <th>3</th>\n      <td>40</td>\n      <td>400</td>\n    </tr>\n    <tr>\n      <th>4</th>\n      <td>50</td>\n      <td>500</td>\n    </tr>\n  </tbody>\n</table>\n</div>"
     },
     "metadata": {},
     "execution_count": 51
    }
   ],
   "source": [
    "new_df = new_df.drop_duplicates().reset_index(drop=True)\n",
    "new_df"
   ]
  },
  {
   "cell_type": "code",
   "execution_count": 52,
   "metadata": {},
   "outputs": [
    {
     "output_type": "execute_result",
     "data": {
      "text/plain": [
       "RangeIndex(start=0, stop=5, step=1)"
      ]
     },
     "metadata": {},
     "execution_count": 52
    }
   ],
   "source": [
    "new_df.index"
   ]
  },
  {
   "cell_type": "code",
   "execution_count": 53,
   "metadata": {},
   "outputs": [
    {
     "output_type": "execute_result",
     "data": {
      "text/plain": [
       "   A  B\n",
       "0  1  4\n",
       "1  2  5\n",
       "2  3  6"
      ],
      "text/html": "<div>\n<style scoped>\n    .dataframe tbody tr th:only-of-type {\n        vertical-align: middle;\n    }\n\n    .dataframe tbody tr th {\n        vertical-align: top;\n    }\n\n    .dataframe thead th {\n        text-align: right;\n    }\n</style>\n<table border=\"1\" class=\"dataframe\">\n  <thead>\n    <tr style=\"text-align: right;\">\n      <th></th>\n      <th>A</th>\n      <th>B</th>\n    </tr>\n  </thead>\n  <tbody>\n    <tr>\n      <th>0</th>\n      <td>1</td>\n      <td>4</td>\n    </tr>\n    <tr>\n      <th>1</th>\n      <td>2</td>\n      <td>5</td>\n    </tr>\n    <tr>\n      <th>2</th>\n      <td>3</td>\n      <td>6</td>\n    </tr>\n  </tbody>\n</table>\n</div>"
     },
     "metadata": {},
     "execution_count": 53
    }
   ],
   "source": [
    "df = pd.DataFrame({\"A\": [1, 2, 3], \"B\": [4, 5, 6]})\n",
    "df"
   ]
  },
  {
   "cell_type": "code",
   "execution_count": 55,
   "metadata": {},
   "outputs": [
    {
     "output_type": "execute_result",
     "data": {
      "text/plain": [
       "   a  c\n",
       "0  1  4\n",
       "1  2  5\n",
       "2  3  6"
      ],
      "text/html": "<div>\n<style scoped>\n    .dataframe tbody tr th:only-of-type {\n        vertical-align: middle;\n    }\n\n    .dataframe tbody tr th {\n        vertical-align: top;\n    }\n\n    .dataframe thead th {\n        text-align: right;\n    }\n</style>\n<table border=\"1\" class=\"dataframe\">\n  <thead>\n    <tr style=\"text-align: right;\">\n      <th></th>\n      <th>a</th>\n      <th>c</th>\n    </tr>\n  </thead>\n  <tbody>\n    <tr>\n      <th>0</th>\n      <td>1</td>\n      <td>4</td>\n    </tr>\n    <tr>\n      <th>1</th>\n      <td>2</td>\n      <td>5</td>\n    </tr>\n    <tr>\n      <th>2</th>\n      <td>3</td>\n      <td>6</td>\n    </tr>\n  </tbody>\n</table>\n</div>"
     },
     "metadata": {},
     "execution_count": 55
    }
   ],
   "source": [
    "df = df.rename(columns={\"A\": \"a\", \"B\": \"c\"})\n",
    "df"
   ]
  },
  {
   "cell_type": "code",
   "execution_count": 56,
   "metadata": {},
   "outputs": [
    {
     "output_type": "display_data",
     "data": {
      "application/vnd.plotly.v1+json": {
       "config": {
        "plotlyServerURL": "https://plot.ly"
       },
       "data": [
        {
         "hovertemplate": "variable=Linear-<br>Time=%{x}<br>value=%{y}<extra></extra>",
         "legendgroup": "Linear-",
         "line": {
          "dash": "solid"
         },
         "mode": "lines",
         "name": "Linear-",
         "showlegend": true,
         "type": "scattergl",
         "x": [
          0,
          1,
          2,
          3,
          4,
          5,
          6,
          7,
          8,
          9,
          10,
          11,
          12,
          13,
          14,
          15,
          16,
          17,
          18,
          19,
          20,
          21,
          22,
          23,
          24,
          25,
          26,
          27,
          28,
          29,
          30,
          31,
          32,
          33,
          34,
          35,
          36,
          37,
          38,
          39,
          40,
          41,
          42,
          43,
          44,
          45,
          46,
          47,
          48,
          49
         ],
         "xaxis": "x",
         "y": [
          0.480372254271367,
          1.2529701442987493,
          2.2031201677726537,
          3.201803992692025,
          4.74373978224827,
          5.205508109188954,
          6.080039694117034,
          7.073897817537821,
          8.361506316771626,
          9.91275979825501,
          10.124155923444109,
          11.538864144396937,
          12.1423660096336,
          13.954746247257688,
          14.57636612819115,
          15.248995206255291,
          16.521704359834953,
          17.843908347975404,
          18.829793825278625,
          19.297724410954892,
          20.230389879719542,
          21.537239866463416,
          22.696029491732304,
          23.816057513766207,
          24.65943805147693,
          25.073934309508005,
          26.851749284785296,
          27.396379755161036,
          28.47038558569634,
          29.336644440424664,
          30.819161053740558,
          31.839969550116535,
          32.64464446052018,
          33.38019885264348,
          34.472595390181155,
          35.79507043471786,
          36.22022549688305,
          37.948716897056904,
          38.637733321606746,
          39.24136159707632,
          40.89729899426394,
          41.71526100962848,
          42.521750671598916,
          43.64288328190144,
          44.15060593403926,
          45.24061011418014,
          46.72153152712218,
          47.09013672247294,
          48.07965289117627,
          49.027229338635046
         ],
         "yaxis": "y"
        },
        {
         "hovertemplate": "variable=Linear+<br>Time=%{x}<br>value=%{y}<extra></extra>",
         "legendgroup": "Linear+",
         "line": {
          "dash": "solid"
         },
         "mode": "lines",
         "name": "Linear+",
         "showlegend": true,
         "type": "scattergl",
         "x": [
          0,
          1,
          2,
          3,
          4,
          5,
          6,
          7,
          8,
          9,
          10,
          11,
          12,
          13,
          14,
          15,
          16,
          17,
          18,
          19,
          20,
          21,
          22,
          23,
          24,
          25,
          26,
          27,
          28,
          29,
          30,
          31,
          32,
          33,
          34,
          35,
          36,
          37,
          38,
          39,
          40,
          41,
          42,
          43,
          44,
          45,
          46,
          47,
          48,
          49
         ],
         "xaxis": "x",
         "y": [
          0.08668383992803741,
          1.559728761403845,
          2.306410113357905,
          3.567193929315316,
          4.762616554388854,
          5.625925019283614,
          6.9356727984765625,
          7.494468658503794,
          8.862595855381674,
          9.37211149635765,
          10.142652177222097,
          11.933761222280125,
          12.667545234148065,
          13.182643382439228,
          14.644844035507688,
          15.519298775604026,
          16.665802540409647,
          17.75554476363804,
          18.364300837642197,
          19.286565038861628,
          20.17396362238593,
          21.42519625546942,
          22.135897103134866,
          23.365696617254468,
          24.013843710328498,
          25.25514301043774,
          26.590651705148534,
          27.884463625773538,
          28.215687863945394,
          29.871742621675185,
          30.35038482151247,
          31.42515848059908,
          32.175897449394064,
          33.276344928798494,
          34.494202123626316,
          35.08979069331493,
          36.017666276404526,
          37.12072351996703,
          38.445190591413606,
          39.95281544972229,
          40.15484546668146,
          41.68506011789699,
          42.07113249521801,
          43.05343517157288,
          44.9305538086475,
          45.971139882597505,
          46.10976009926749,
          47.70374717201863,
          48.22528620093212,
          49.0542905012514
         ],
         "yaxis": "y"
        },
        {
         "hovertemplate": "variable=Log-<br>Time=%{x}<br>value=%{y}<extra></extra>",
         "legendgroup": "Log-",
         "line": {
          "dash": "solid"
         },
         "mode": "lines",
         "name": "Log-",
         "showlegend": true,
         "type": "scattergl",
         "x": [
          0,
          1,
          2,
          3,
          4,
          5,
          6,
          7,
          8,
          9,
          10,
          11,
          12,
          13,
          14,
          15,
          16,
          17,
          18,
          19,
          20,
          21,
          22,
          23,
          24,
          25,
          26,
          27,
          28,
          29,
          30,
          31,
          32,
          33,
          34,
          35,
          36,
          37,
          38,
          39,
          40,
          41,
          42,
          43,
          44,
          45,
          46,
          47,
          48,
          49
         ],
         "xaxis": "x",
         "y": [
          0.7982302469330579,
          1.0417995581603892,
          2.354355892887146,
          3.4964243886794306,
          4.598779886520249,
          5.5429668537043755,
          6.363248032001475,
          7.516484745231496,
          8.940991433328108,
          9.89124709763837,
          10.055344617263263,
          11.429726174979614,
          12.337082802686641,
          13.164459066786703,
          14.239354907701724,
          15.15554672817633,
          16.417557484290164,
          17.475764957097258,
          18.40417278380167,
          19.965491476954615,
          20.52721634417604,
          21.101472613680013,
          22.949716018869307,
          23.959608018476068,
          24.64161097128635,
          25.152023258655987,
          26.738325844523487,
          27.94625823594035,
          28.01040333779382,
          29.174580132722784,
          30.13097797525175,
          31.228480149512773,
          32.38934373599058,
          33.64560634158072,
          34.92460699810211,
          35.89748677005503,
          36.25602056475999,
          37.21026930582807,
          38.8288329471435,
          39.09134330113908,
          40.142113819908786,
          41.42744473964602,
          42.29215699546879,
          43.01551115268221,
          44.73307179982251,
          45.307437660493456,
          46.651614715626096,
          47.91045896110502,
          48.141133604896986,
          49.049566219291215
         ],
         "yaxis": "y2"
        },
        {
         "hovertemplate": "variable=Log+<br>Time=%{x}<br>value=%{y}<extra></extra>",
         "legendgroup": "Log+",
         "line": {
          "dash": "solid"
         },
         "mode": "lines",
         "name": "Log+",
         "showlegend": true,
         "type": "scattergl",
         "x": [
          0,
          1,
          2,
          3,
          4,
          5,
          6,
          7,
          8,
          9,
          10,
          11,
          12,
          13,
          14,
          15,
          16,
          17,
          18,
          19,
          20,
          21,
          22,
          23,
          24,
          25,
          26,
          27,
          28,
          29,
          30,
          31,
          32,
          33,
          34,
          35,
          36,
          37,
          38,
          39,
          40,
          41,
          42,
          43,
          44,
          45,
          46,
          47,
          48,
          49
         ],
         "xaxis": "x",
         "y": [
          0.6827603745476875,
          1.9479014639861205,
          2.5167107006686815,
          3.2029351181416263,
          4.701475133431856,
          5.160730965163113,
          6.75078446975883,
          7.2343294525605195,
          8.820844849593602,
          9.672136283584578,
          10.545486643512847,
          11.702655980103456,
          12.188980219106025,
          13.241607951380677,
          14.953185110747814,
          15.637828020775892,
          16.123743258794264,
          17.812857318772085,
          18.970700146805296,
          19.70023563810934,
          20.808682794335418,
          21.96711605068892,
          22.9559648557854,
          23.894498062265466,
          24.731180212715465,
          25.67205332602508,
          26.782074678397322,
          27.01504407665473,
          28.378503589826252,
          29.40565129491511,
          30.359591612784598,
          31.929044391523128,
          32.7469459895245,
          33.496715529055365,
          34.1015863406971,
          35.28734363964023,
          36.81936387269807,
          37.70358328581589,
          38.28279780206124,
          39.247171814871926,
          40.822617947785886,
          41.198709210923056,
          42.30267453975241,
          43.43411843061654,
          44.366296937778166,
          45.31216203245834,
          46.230646657091654,
          47.34458452955463,
          48.737745910146614,
          49.59763813802257
         ],
         "yaxis": "y2"
        }
       ],
       "layout": {
        "template": {
         "data": {
          "bar": [
           {
            "error_x": {
             "color": "#2a3f5f"
            },
            "error_y": {
             "color": "#2a3f5f"
            },
            "marker": {
             "line": {
              "color": "#E5ECF6",
              "width": 0.5
             }
            },
            "type": "bar"
           }
          ],
          "barpolar": [
           {
            "marker": {
             "line": {
              "color": "#E5ECF6",
              "width": 0.5
             }
            },
            "type": "barpolar"
           }
          ],
          "carpet": [
           {
            "aaxis": {
             "endlinecolor": "#2a3f5f",
             "gridcolor": "white",
             "linecolor": "white",
             "minorgridcolor": "white",
             "startlinecolor": "#2a3f5f"
            },
            "baxis": {
             "endlinecolor": "#2a3f5f",
             "gridcolor": "white",
             "linecolor": "white",
             "minorgridcolor": "white",
             "startlinecolor": "#2a3f5f"
            },
            "type": "carpet"
           }
          ],
          "choropleth": [
           {
            "colorbar": {
             "outlinewidth": 0,
             "ticks": ""
            },
            "type": "choropleth"
           }
          ],
          "contour": [
           {
            "colorbar": {
             "outlinewidth": 0,
             "ticks": ""
            },
            "colorscale": [
             [
              0,
              "#0d0887"
             ],
             [
              0.1111111111111111,
              "#46039f"
             ],
             [
              0.2222222222222222,
              "#7201a8"
             ],
             [
              0.3333333333333333,
              "#9c179e"
             ],
             [
              0.4444444444444444,
              "#bd3786"
             ],
             [
              0.5555555555555556,
              "#d8576b"
             ],
             [
              0.6666666666666666,
              "#ed7953"
             ],
             [
              0.7777777777777778,
              "#fb9f3a"
             ],
             [
              0.8888888888888888,
              "#fdca26"
             ],
             [
              1,
              "#f0f921"
             ]
            ],
            "type": "contour"
           }
          ],
          "contourcarpet": [
           {
            "colorbar": {
             "outlinewidth": 0,
             "ticks": ""
            },
            "type": "contourcarpet"
           }
          ],
          "heatmap": [
           {
            "colorbar": {
             "outlinewidth": 0,
             "ticks": ""
            },
            "colorscale": [
             [
              0,
              "#0d0887"
             ],
             [
              0.1111111111111111,
              "#46039f"
             ],
             [
              0.2222222222222222,
              "#7201a8"
             ],
             [
              0.3333333333333333,
              "#9c179e"
             ],
             [
              0.4444444444444444,
              "#bd3786"
             ],
             [
              0.5555555555555556,
              "#d8576b"
             ],
             [
              0.6666666666666666,
              "#ed7953"
             ],
             [
              0.7777777777777778,
              "#fb9f3a"
             ],
             [
              0.8888888888888888,
              "#fdca26"
             ],
             [
              1,
              "#f0f921"
             ]
            ],
            "type": "heatmap"
           }
          ],
          "heatmapgl": [
           {
            "colorbar": {
             "outlinewidth": 0,
             "ticks": ""
            },
            "colorscale": [
             [
              0,
              "#0d0887"
             ],
             [
              0.1111111111111111,
              "#46039f"
             ],
             [
              0.2222222222222222,
              "#7201a8"
             ],
             [
              0.3333333333333333,
              "#9c179e"
             ],
             [
              0.4444444444444444,
              "#bd3786"
             ],
             [
              0.5555555555555556,
              "#d8576b"
             ],
             [
              0.6666666666666666,
              "#ed7953"
             ],
             [
              0.7777777777777778,
              "#fb9f3a"
             ],
             [
              0.8888888888888888,
              "#fdca26"
             ],
             [
              1,
              "#f0f921"
             ]
            ],
            "type": "heatmapgl"
           }
          ],
          "histogram": [
           {
            "marker": {
             "colorbar": {
              "outlinewidth": 0,
              "ticks": ""
             }
            },
            "type": "histogram"
           }
          ],
          "histogram2d": [
           {
            "colorbar": {
             "outlinewidth": 0,
             "ticks": ""
            },
            "colorscale": [
             [
              0,
              "#0d0887"
             ],
             [
              0.1111111111111111,
              "#46039f"
             ],
             [
              0.2222222222222222,
              "#7201a8"
             ],
             [
              0.3333333333333333,
              "#9c179e"
             ],
             [
              0.4444444444444444,
              "#bd3786"
             ],
             [
              0.5555555555555556,
              "#d8576b"
             ],
             [
              0.6666666666666666,
              "#ed7953"
             ],
             [
              0.7777777777777778,
              "#fb9f3a"
             ],
             [
              0.8888888888888888,
              "#fdca26"
             ],
             [
              1,
              "#f0f921"
             ]
            ],
            "type": "histogram2d"
           }
          ],
          "histogram2dcontour": [
           {
            "colorbar": {
             "outlinewidth": 0,
             "ticks": ""
            },
            "colorscale": [
             [
              0,
              "#0d0887"
             ],
             [
              0.1111111111111111,
              "#46039f"
             ],
             [
              0.2222222222222222,
              "#7201a8"
             ],
             [
              0.3333333333333333,
              "#9c179e"
             ],
             [
              0.4444444444444444,
              "#bd3786"
             ],
             [
              0.5555555555555556,
              "#d8576b"
             ],
             [
              0.6666666666666666,
              "#ed7953"
             ],
             [
              0.7777777777777778,
              "#fb9f3a"
             ],
             [
              0.8888888888888888,
              "#fdca26"
             ],
             [
              1,
              "#f0f921"
             ]
            ],
            "type": "histogram2dcontour"
           }
          ],
          "mesh3d": [
           {
            "colorbar": {
             "outlinewidth": 0,
             "ticks": ""
            },
            "type": "mesh3d"
           }
          ],
          "parcoords": [
           {
            "line": {
             "colorbar": {
              "outlinewidth": 0,
              "ticks": ""
             }
            },
            "type": "parcoords"
           }
          ],
          "pie": [
           {
            "automargin": true,
            "type": "pie"
           }
          ],
          "scatter": [
           {
            "marker": {
             "colorbar": {
              "outlinewidth": 0,
              "ticks": ""
             }
            },
            "type": "scatter"
           }
          ],
          "scatter3d": [
           {
            "line": {
             "colorbar": {
              "outlinewidth": 0,
              "ticks": ""
             }
            },
            "marker": {
             "colorbar": {
              "outlinewidth": 0,
              "ticks": ""
             }
            },
            "type": "scatter3d"
           }
          ],
          "scattercarpet": [
           {
            "marker": {
             "colorbar": {
              "outlinewidth": 0,
              "ticks": ""
             }
            },
            "type": "scattercarpet"
           }
          ],
          "scattergeo": [
           {
            "marker": {
             "colorbar": {
              "outlinewidth": 0,
              "ticks": ""
             }
            },
            "type": "scattergeo"
           }
          ],
          "scattergl": [
           {
            "marker": {
             "colorbar": {
              "outlinewidth": 0,
              "ticks": ""
             }
            },
            "type": "scattergl"
           }
          ],
          "scattermapbox": [
           {
            "marker": {
             "colorbar": {
              "outlinewidth": 0,
              "ticks": ""
             }
            },
            "type": "scattermapbox"
           }
          ],
          "scatterpolar": [
           {
            "marker": {
             "colorbar": {
              "outlinewidth": 0,
              "ticks": ""
             }
            },
            "type": "scatterpolar"
           }
          ],
          "scatterpolargl": [
           {
            "marker": {
             "colorbar": {
              "outlinewidth": 0,
              "ticks": ""
             }
            },
            "type": "scatterpolargl"
           }
          ],
          "scatterternary": [
           {
            "marker": {
             "colorbar": {
              "outlinewidth": 0,
              "ticks": ""
             }
            },
            "type": "scatterternary"
           }
          ],
          "surface": [
           {
            "colorbar": {
             "outlinewidth": 0,
             "ticks": ""
            },
            "colorscale": [
             [
              0,
              "#0d0887"
             ],
             [
              0.1111111111111111,
              "#46039f"
             ],
             [
              0.2222222222222222,
              "#7201a8"
             ],
             [
              0.3333333333333333,
              "#9c179e"
             ],
             [
              0.4444444444444444,
              "#bd3786"
             ],
             [
              0.5555555555555556,
              "#d8576b"
             ],
             [
              0.6666666666666666,
              "#ed7953"
             ],
             [
              0.7777777777777778,
              "#fb9f3a"
             ],
             [
              0.8888888888888888,
              "#fdca26"
             ],
             [
              1,
              "#f0f921"
             ]
            ],
            "type": "surface"
           }
          ],
          "table": [
           {
            "cells": {
             "fill": {
              "color": "#EBF0F8"
             },
             "line": {
              "color": "white"
             }
            },
            "header": {
             "fill": {
              "color": "#C8D4E3"
             },
             "line": {
              "color": "white"
             }
            },
            "type": "table"
           }
          ]
         },
         "layout": {
          "annotationdefaults": {
           "arrowcolor": "#2a3f5f",
           "arrowhead": 0,
           "arrowwidth": 1
          },
          "autotypenumbers": "strict",
          "coloraxis": {
           "colorbar": {
            "outlinewidth": 0,
            "ticks": ""
           }
          },
          "colorscale": {
           "diverging": [
            [
             0,
             "#8e0152"
            ],
            [
             0.1,
             "#c51b7d"
            ],
            [
             0.2,
             "#de77ae"
            ],
            [
             0.3,
             "#f1b6da"
            ],
            [
             0.4,
             "#fde0ef"
            ],
            [
             0.5,
             "#f7f7f7"
            ],
            [
             0.6,
             "#e6f5d0"
            ],
            [
             0.7,
             "#b8e186"
            ],
            [
             0.8,
             "#7fbc41"
            ],
            [
             0.9,
             "#4d9221"
            ],
            [
             1,
             "#276419"
            ]
           ],
           "sequential": [
            [
             0,
             "#0d0887"
            ],
            [
             0.1111111111111111,
             "#46039f"
            ],
            [
             0.2222222222222222,
             "#7201a8"
            ],
            [
             0.3333333333333333,
             "#9c179e"
            ],
            [
             0.4444444444444444,
             "#bd3786"
            ],
            [
             0.5555555555555556,
             "#d8576b"
            ],
            [
             0.6666666666666666,
             "#ed7953"
            ],
            [
             0.7777777777777778,
             "#fb9f3a"
            ],
            [
             0.8888888888888888,
             "#fdca26"
            ],
            [
             1,
             "#f0f921"
            ]
           ],
           "sequentialminus": [
            [
             0,
             "#0d0887"
            ],
            [
             0.1111111111111111,
             "#46039f"
            ],
            [
             0.2222222222222222,
             "#7201a8"
            ],
            [
             0.3333333333333333,
             "#9c179e"
            ],
            [
             0.4444444444444444,
             "#bd3786"
            ],
            [
             0.5555555555555556,
             "#d8576b"
            ],
            [
             0.6666666666666666,
             "#ed7953"
            ],
            [
             0.7777777777777778,
             "#fb9f3a"
            ],
            [
             0.8888888888888888,
             "#fdca26"
            ],
            [
             1,
             "#f0f921"
            ]
           ]
          },
          "colorway": [
           "#636efa",
           "#EF553B",
           "#00cc96",
           "#ab63fa",
           "#FFA15A",
           "#19d3f3",
           "#FF6692",
           "#B6E880",
           "#FF97FF",
           "#FECB52"
          ],
          "font": {
           "color": "#2a3f5f"
          },
          "geo": {
           "bgcolor": "white",
           "lakecolor": "white",
           "landcolor": "#E5ECF6",
           "showlakes": true,
           "showland": true,
           "subunitcolor": "white"
          },
          "hoverlabel": {
           "align": "left"
          },
          "hovermode": "closest",
          "mapbox": {
           "style": "light"
          },
          "paper_bgcolor": "white",
          "plot_bgcolor": "#E5ECF6",
          "polar": {
           "angularaxis": {
            "gridcolor": "white",
            "linecolor": "white",
            "ticks": ""
           },
           "bgcolor": "#E5ECF6",
           "radialaxis": {
            "gridcolor": "white",
            "linecolor": "white",
            "ticks": ""
           }
          },
          "scene": {
           "xaxis": {
            "backgroundcolor": "#E5ECF6",
            "gridcolor": "white",
            "gridwidth": 2,
            "linecolor": "white",
            "showbackground": true,
            "ticks": "",
            "zerolinecolor": "white"
           },
           "yaxis": {
            "backgroundcolor": "#E5ECF6",
            "gridcolor": "white",
            "gridwidth": 2,
            "linecolor": "white",
            "showbackground": true,
            "ticks": "",
            "zerolinecolor": "white"
           },
           "zaxis": {
            "backgroundcolor": "#E5ECF6",
            "gridcolor": "white",
            "gridwidth": 2,
            "linecolor": "white",
            "showbackground": true,
            "ticks": "",
            "zerolinecolor": "white"
           }
          },
          "shapedefaults": {
           "line": {
            "color": "#2a3f5f"
           }
          },
          "ternary": {
           "aaxis": {
            "gridcolor": "white",
            "linecolor": "white",
            "ticks": ""
           },
           "baxis": {
            "gridcolor": "white",
            "linecolor": "white",
            "ticks": ""
           },
           "bgcolor": "#E5ECF6",
           "caxis": {
            "gridcolor": "white",
            "linecolor": "white",
            "ticks": ""
           }
          },
          "title": {
           "x": 0.05
          },
          "xaxis": {
           "automargin": true,
           "gridcolor": "white",
           "linecolor": "white",
           "ticks": "",
           "title": {
            "standoff": 15
           },
           "zerolinecolor": "white",
           "zerolinewidth": 2
          },
          "yaxis": {
           "automargin": true,
           "gridcolor": "white",
           "linecolor": "white",
           "ticks": "",
           "title": {
            "standoff": 15
           },
           "zerolinecolor": "white",
           "zerolinewidth": 2
          }
         }
        },
        "xaxis": {
         "anchor": "y",
         "domain": [
          0,
          0.94
         ],
         "title": {
          "text": "Time"
         }
        },
        "yaxis": {
         "anchor": "x",
         "domain": [
          0,
          1
         ],
         "title": {
          "text": "Linear Y"
         }
        },
        "yaxis2": {
         "anchor": "x",
         "overlaying": "y",
         "side": "right",
         "title": {
          "text": "Log Y"
         },
         "type": "log"
        }
       }
      }
     },
     "metadata": {}
    }
   ],
   "source": [
    "import plotly.express as px\n",
    "from plotly.subplots import make_subplots\n",
    "import pandas as pd\n",
    "import numpy as np\n",
    "\n",
    "# create some data\n",
    "df = pd.DataFrame()\n",
    "n = 50\n",
    "df[\"Time\"] = np.arange(n)\n",
    "df[\"Linear-\"] = np.arange(n)+np.random.rand(n)\n",
    "df[\"Linear+\"] = np.arange(n)+np.random.rand(n)\n",
    "df[\"Log-\"] = np.arange(n)+np.random.rand(n)\n",
    "df[\"Log+\"] = np.arange(n)+np.random.rand(n)\n",
    "df.set_index(\"Time\", inplace=True)\n",
    "\n",
    "subfig = make_subplots(specs=[[{\"secondary_y\": True}]])\n",
    "\n",
    "# create two independent figures with px.line each containing data from multiple columns\n",
    "fig = px.line(df, y=df.filter(regex=\"Linear\").columns, render_mode=\"webgl\",)\n",
    "fig2 = px.line(df, y=df.filter(regex=\"Log\").columns, render_mode=\"webgl\",)\n",
    "\n",
    "fig2.update_traces(yaxis=\"y2\")\n",
    "\n",
    "subfig.add_traces(fig.data + fig2.data)\n",
    "subfig.layout.xaxis.title=\"Time\"\n",
    "subfig.layout.yaxis.title=\"Linear Y\"\n",
    "subfig.layout.yaxis2.type=\"log\"\n",
    "subfig.layout.yaxis2.title=\"Log Y\"\n",
    "# recoloring is necessary otherwise lines from fig und fig2 would share each color\n",
    "# e.g. Linear-, Log- = blue; Linear+, Log+ = red... we don't want this\n",
    "subfig.for_each_trace(lambda t: t.update(line=dict(color=t.marker.color)))\n",
    "subfig.show()"
   ]
  },
  {
   "cell_type": "code",
   "execution_count": 57,
   "metadata": {},
   "outputs": [
    {
     "output_type": "display_data",
     "data": {
      "application/vnd.plotly.v1+json": {
       "config": {
        "plotlyServerURL": "https://plot.ly"
       },
       "data": [
        {
         "marker": {
          "color": "green",
          "line": {
           "color": "rgb(8,48,107)",
           "width": 2
          }
         },
         "name": "A",
         "opacity": 0.4,
         "type": "bar",
         "x": [
          1,
          2,
          3,
          4,
          5,
          6,
          7,
          8,
          9,
          10
         ],
         "xaxis": "x",
         "y": [
          15,
          6,
          5,
          4,
          3,
          2,
          1,
          0.5,
          0.3,
          0.1
         ],
         "yaxis": "y"
        },
        {
         "line": {
          "color": "red"
         },
         "name": "B",
         "type": "scatter",
         "x": [
          1,
          2,
          3,
          4,
          5,
          6,
          7,
          8,
          9,
          10
         ],
         "xaxis": "x",
         "y": [
          1,
          4,
          2,
          5,
          4,
          6,
          7,
          2,
          8,
          1
         ],
         "yaxis": "y"
        },
        {
         "marker": {
          "color": "green",
          "line": {
           "color": "rgb(8,48,107)",
           "width": 2
          }
         },
         "name": "C",
         "opacity": 0.4,
         "type": "bar",
         "x": [
          1,
          2,
          3,
          4,
          5,
          6,
          7,
          8,
          9,
          10
         ],
         "xaxis": "x2",
         "y": [
          12,
          6,
          5,
          4,
          3,
          2,
          1,
          0.5,
          0.2,
          0.1
         ],
         "yaxis": "y2"
        }
       ],
       "layout": {
        "template": {
         "data": {
          "bar": [
           {
            "error_x": {
             "color": "#2a3f5f"
            },
            "error_y": {
             "color": "#2a3f5f"
            },
            "marker": {
             "line": {
              "color": "#E5ECF6",
              "width": 0.5
             }
            },
            "type": "bar"
           }
          ],
          "barpolar": [
           {
            "marker": {
             "line": {
              "color": "#E5ECF6",
              "width": 0.5
             }
            },
            "type": "barpolar"
           }
          ],
          "carpet": [
           {
            "aaxis": {
             "endlinecolor": "#2a3f5f",
             "gridcolor": "white",
             "linecolor": "white",
             "minorgridcolor": "white",
             "startlinecolor": "#2a3f5f"
            },
            "baxis": {
             "endlinecolor": "#2a3f5f",
             "gridcolor": "white",
             "linecolor": "white",
             "minorgridcolor": "white",
             "startlinecolor": "#2a3f5f"
            },
            "type": "carpet"
           }
          ],
          "choropleth": [
           {
            "colorbar": {
             "outlinewidth": 0,
             "ticks": ""
            },
            "type": "choropleth"
           }
          ],
          "contour": [
           {
            "colorbar": {
             "outlinewidth": 0,
             "ticks": ""
            },
            "colorscale": [
             [
              0,
              "#0d0887"
             ],
             [
              0.1111111111111111,
              "#46039f"
             ],
             [
              0.2222222222222222,
              "#7201a8"
             ],
             [
              0.3333333333333333,
              "#9c179e"
             ],
             [
              0.4444444444444444,
              "#bd3786"
             ],
             [
              0.5555555555555556,
              "#d8576b"
             ],
             [
              0.6666666666666666,
              "#ed7953"
             ],
             [
              0.7777777777777778,
              "#fb9f3a"
             ],
             [
              0.8888888888888888,
              "#fdca26"
             ],
             [
              1,
              "#f0f921"
             ]
            ],
            "type": "contour"
           }
          ],
          "contourcarpet": [
           {
            "colorbar": {
             "outlinewidth": 0,
             "ticks": ""
            },
            "type": "contourcarpet"
           }
          ],
          "heatmap": [
           {
            "colorbar": {
             "outlinewidth": 0,
             "ticks": ""
            },
            "colorscale": [
             [
              0,
              "#0d0887"
             ],
             [
              0.1111111111111111,
              "#46039f"
             ],
             [
              0.2222222222222222,
              "#7201a8"
             ],
             [
              0.3333333333333333,
              "#9c179e"
             ],
             [
              0.4444444444444444,
              "#bd3786"
             ],
             [
              0.5555555555555556,
              "#d8576b"
             ],
             [
              0.6666666666666666,
              "#ed7953"
             ],
             [
              0.7777777777777778,
              "#fb9f3a"
             ],
             [
              0.8888888888888888,
              "#fdca26"
             ],
             [
              1,
              "#f0f921"
             ]
            ],
            "type": "heatmap"
           }
          ],
          "heatmapgl": [
           {
            "colorbar": {
             "outlinewidth": 0,
             "ticks": ""
            },
            "colorscale": [
             [
              0,
              "#0d0887"
             ],
             [
              0.1111111111111111,
              "#46039f"
             ],
             [
              0.2222222222222222,
              "#7201a8"
             ],
             [
              0.3333333333333333,
              "#9c179e"
             ],
             [
              0.4444444444444444,
              "#bd3786"
             ],
             [
              0.5555555555555556,
              "#d8576b"
             ],
             [
              0.6666666666666666,
              "#ed7953"
             ],
             [
              0.7777777777777778,
              "#fb9f3a"
             ],
             [
              0.8888888888888888,
              "#fdca26"
             ],
             [
              1,
              "#f0f921"
             ]
            ],
            "type": "heatmapgl"
           }
          ],
          "histogram": [
           {
            "marker": {
             "colorbar": {
              "outlinewidth": 0,
              "ticks": ""
             }
            },
            "type": "histogram"
           }
          ],
          "histogram2d": [
           {
            "colorbar": {
             "outlinewidth": 0,
             "ticks": ""
            },
            "colorscale": [
             [
              0,
              "#0d0887"
             ],
             [
              0.1111111111111111,
              "#46039f"
             ],
             [
              0.2222222222222222,
              "#7201a8"
             ],
             [
              0.3333333333333333,
              "#9c179e"
             ],
             [
              0.4444444444444444,
              "#bd3786"
             ],
             [
              0.5555555555555556,
              "#d8576b"
             ],
             [
              0.6666666666666666,
              "#ed7953"
             ],
             [
              0.7777777777777778,
              "#fb9f3a"
             ],
             [
              0.8888888888888888,
              "#fdca26"
             ],
             [
              1,
              "#f0f921"
             ]
            ],
            "type": "histogram2d"
           }
          ],
          "histogram2dcontour": [
           {
            "colorbar": {
             "outlinewidth": 0,
             "ticks": ""
            },
            "colorscale": [
             [
              0,
              "#0d0887"
             ],
             [
              0.1111111111111111,
              "#46039f"
             ],
             [
              0.2222222222222222,
              "#7201a8"
             ],
             [
              0.3333333333333333,
              "#9c179e"
             ],
             [
              0.4444444444444444,
              "#bd3786"
             ],
             [
              0.5555555555555556,
              "#d8576b"
             ],
             [
              0.6666666666666666,
              "#ed7953"
             ],
             [
              0.7777777777777778,
              "#fb9f3a"
             ],
             [
              0.8888888888888888,
              "#fdca26"
             ],
             [
              1,
              "#f0f921"
             ]
            ],
            "type": "histogram2dcontour"
           }
          ],
          "mesh3d": [
           {
            "colorbar": {
             "outlinewidth": 0,
             "ticks": ""
            },
            "type": "mesh3d"
           }
          ],
          "parcoords": [
           {
            "line": {
             "colorbar": {
              "outlinewidth": 0,
              "ticks": ""
             }
            },
            "type": "parcoords"
           }
          ],
          "pie": [
           {
            "automargin": true,
            "type": "pie"
           }
          ],
          "scatter": [
           {
            "marker": {
             "colorbar": {
              "outlinewidth": 0,
              "ticks": ""
             }
            },
            "type": "scatter"
           }
          ],
          "scatter3d": [
           {
            "line": {
             "colorbar": {
              "outlinewidth": 0,
              "ticks": ""
             }
            },
            "marker": {
             "colorbar": {
              "outlinewidth": 0,
              "ticks": ""
             }
            },
            "type": "scatter3d"
           }
          ],
          "scattercarpet": [
           {
            "marker": {
             "colorbar": {
              "outlinewidth": 0,
              "ticks": ""
             }
            },
            "type": "scattercarpet"
           }
          ],
          "scattergeo": [
           {
            "marker": {
             "colorbar": {
              "outlinewidth": 0,
              "ticks": ""
             }
            },
            "type": "scattergeo"
           }
          ],
          "scattergl": [
           {
            "marker": {
             "colorbar": {
              "outlinewidth": 0,
              "ticks": ""
             }
            },
            "type": "scattergl"
           }
          ],
          "scattermapbox": [
           {
            "marker": {
             "colorbar": {
              "outlinewidth": 0,
              "ticks": ""
             }
            },
            "type": "scattermapbox"
           }
          ],
          "scatterpolar": [
           {
            "marker": {
             "colorbar": {
              "outlinewidth": 0,
              "ticks": ""
             }
            },
            "type": "scatterpolar"
           }
          ],
          "scatterpolargl": [
           {
            "marker": {
             "colorbar": {
              "outlinewidth": 0,
              "ticks": ""
             }
            },
            "type": "scatterpolargl"
           }
          ],
          "scatterternary": [
           {
            "marker": {
             "colorbar": {
              "outlinewidth": 0,
              "ticks": ""
             }
            },
            "type": "scatterternary"
           }
          ],
          "surface": [
           {
            "colorbar": {
             "outlinewidth": 0,
             "ticks": ""
            },
            "colorscale": [
             [
              0,
              "#0d0887"
             ],
             [
              0.1111111111111111,
              "#46039f"
             ],
             [
              0.2222222222222222,
              "#7201a8"
             ],
             [
              0.3333333333333333,
              "#9c179e"
             ],
             [
              0.4444444444444444,
              "#bd3786"
             ],
             [
              0.5555555555555556,
              "#d8576b"
             ],
             [
              0.6666666666666666,
              "#ed7953"
             ],
             [
              0.7777777777777778,
              "#fb9f3a"
             ],
             [
              0.8888888888888888,
              "#fdca26"
             ],
             [
              1,
              "#f0f921"
             ]
            ],
            "type": "surface"
           }
          ],
          "table": [
           {
            "cells": {
             "fill": {
              "color": "#EBF0F8"
             },
             "line": {
              "color": "white"
             }
            },
            "header": {
             "fill": {
              "color": "#C8D4E3"
             },
             "line": {
              "color": "white"
             }
            },
            "type": "table"
           }
          ]
         },
         "layout": {
          "annotationdefaults": {
           "arrowcolor": "#2a3f5f",
           "arrowhead": 0,
           "arrowwidth": 1
          },
          "autotypenumbers": "strict",
          "coloraxis": {
           "colorbar": {
            "outlinewidth": 0,
            "ticks": ""
           }
          },
          "colorscale": {
           "diverging": [
            [
             0,
             "#8e0152"
            ],
            [
             0.1,
             "#c51b7d"
            ],
            [
             0.2,
             "#de77ae"
            ],
            [
             0.3,
             "#f1b6da"
            ],
            [
             0.4,
             "#fde0ef"
            ],
            [
             0.5,
             "#f7f7f7"
            ],
            [
             0.6,
             "#e6f5d0"
            ],
            [
             0.7,
             "#b8e186"
            ],
            [
             0.8,
             "#7fbc41"
            ],
            [
             0.9,
             "#4d9221"
            ],
            [
             1,
             "#276419"
            ]
           ],
           "sequential": [
            [
             0,
             "#0d0887"
            ],
            [
             0.1111111111111111,
             "#46039f"
            ],
            [
             0.2222222222222222,
             "#7201a8"
            ],
            [
             0.3333333333333333,
             "#9c179e"
            ],
            [
             0.4444444444444444,
             "#bd3786"
            ],
            [
             0.5555555555555556,
             "#d8576b"
            ],
            [
             0.6666666666666666,
             "#ed7953"
            ],
            [
             0.7777777777777778,
             "#fb9f3a"
            ],
            [
             0.8888888888888888,
             "#fdca26"
            ],
            [
             1,
             "#f0f921"
            ]
           ],
           "sequentialminus": [
            [
             0,
             "#0d0887"
            ],
            [
             0.1111111111111111,
             "#46039f"
            ],
            [
             0.2222222222222222,
             "#7201a8"
            ],
            [
             0.3333333333333333,
             "#9c179e"
            ],
            [
             0.4444444444444444,
             "#bd3786"
            ],
            [
             0.5555555555555556,
             "#d8576b"
            ],
            [
             0.6666666666666666,
             "#ed7953"
            ],
            [
             0.7777777777777778,
             "#fb9f3a"
            ],
            [
             0.8888888888888888,
             "#fdca26"
            ],
            [
             1,
             "#f0f921"
            ]
           ]
          },
          "colorway": [
           "#636efa",
           "#EF553B",
           "#00cc96",
           "#ab63fa",
           "#FFA15A",
           "#19d3f3",
           "#FF6692",
           "#B6E880",
           "#FF97FF",
           "#FECB52"
          ],
          "font": {
           "color": "#2a3f5f"
          },
          "geo": {
           "bgcolor": "white",
           "lakecolor": "white",
           "landcolor": "#E5ECF6",
           "showlakes": true,
           "showland": true,
           "subunitcolor": "white"
          },
          "hoverlabel": {
           "align": "left"
          },
          "hovermode": "closest",
          "mapbox": {
           "style": "light"
          },
          "paper_bgcolor": "white",
          "plot_bgcolor": "#E5ECF6",
          "polar": {
           "angularaxis": {
            "gridcolor": "white",
            "linecolor": "white",
            "ticks": ""
           },
           "bgcolor": "#E5ECF6",
           "radialaxis": {
            "gridcolor": "white",
            "linecolor": "white",
            "ticks": ""
           }
          },
          "scene": {
           "xaxis": {
            "backgroundcolor": "#E5ECF6",
            "gridcolor": "white",
            "gridwidth": 2,
            "linecolor": "white",
            "showbackground": true,
            "ticks": "",
            "zerolinecolor": "white"
           },
           "yaxis": {
            "backgroundcolor": "#E5ECF6",
            "gridcolor": "white",
            "gridwidth": 2,
            "linecolor": "white",
            "showbackground": true,
            "ticks": "",
            "zerolinecolor": "white"
           },
           "zaxis": {
            "backgroundcolor": "#E5ECF6",
            "gridcolor": "white",
            "gridwidth": 2,
            "linecolor": "white",
            "showbackground": true,
            "ticks": "",
            "zerolinecolor": "white"
           }
          },
          "shapedefaults": {
           "line": {
            "color": "#2a3f5f"
           }
          },
          "ternary": {
           "aaxis": {
            "gridcolor": "white",
            "linecolor": "white",
            "ticks": ""
           },
           "baxis": {
            "gridcolor": "white",
            "linecolor": "white",
            "ticks": ""
           },
           "bgcolor": "#E5ECF6",
           "caxis": {
            "gridcolor": "white",
            "linecolor": "white",
            "ticks": ""
           }
          },
          "title": {
           "x": 0.05
          },
          "xaxis": {
           "automargin": true,
           "gridcolor": "white",
           "linecolor": "white",
           "ticks": "",
           "title": {
            "standoff": 15
           },
           "zerolinecolor": "white",
           "zerolinewidth": 2
          },
          "yaxis": {
           "automargin": true,
           "gridcolor": "white",
           "linecolor": "white",
           "ticks": "",
           "title": {
            "standoff": 15
           },
           "zerolinecolor": "white",
           "zerolinewidth": 2
          }
         }
        },
        "xaxis": {
         "anchor": "y",
         "domain": [
          0,
          0.45
         ]
        },
        "xaxis2": {
         "anchor": "y2",
         "domain": [
          0.55,
          1
         ]
        },
        "yaxis": {
         "anchor": "x",
         "domain": [
          0,
          1
         ]
        },
        "yaxis2": {
         "anchor": "x2",
         "domain": [
          0,
          1
         ]
        }
       }
      }
     },
     "metadata": {}
    }
   ],
   "source": [
    "from plotly.subplots import make_subplots\n",
    "import plotly.graph_objects as go\n",
    "import pandas as pd\n",
    "import numpy as np\n",
    "\n",
    "# data\n",
    "df = pd.DataFrame({'Index': {0: 1.0,\n",
    "                              1: 2.0,\n",
    "                              2: 3.0,\n",
    "                              3: 4.0,\n",
    "                              4: 5.0,\n",
    "                              5: 6.0,\n",
    "                              6: 7.0,\n",
    "                              7: 8.0,\n",
    "                              8: 9.0,\n",
    "                              9: 10.0},\n",
    "                             'A': {0: 15.0,\n",
    "                              1: 6.0,\n",
    "                              2: 5.0,\n",
    "                              3: 4.0,\n",
    "                              4: 3.0,\n",
    "                              5: 2.0,\n",
    "                              6: 1.0,\n",
    "                              7: 0.5,\n",
    "                              8: 0.3,\n",
    "                              9: 0.1},\n",
    "                             'B': {0: 1.0,\n",
    "                              1: 4.0,\n",
    "                              2: 2.0,\n",
    "                              3: 5.0,\n",
    "                              4: 4.0,\n",
    "                              5: 6.0,\n",
    "                              6: 7.0,\n",
    "                              7: 2.0,\n",
    "                              8: 8.0,\n",
    "                              9: 1.0},\n",
    "                             'C': {0: 12.0,\n",
    "                              1: 6.0,\n",
    "                              2: 5.0,\n",
    "                              3: 4.0,\n",
    "                              4: 3.0,\n",
    "                              5: 2.0,\n",
    "                              6: 1.0,\n",
    "                              7: 0.5,\n",
    "                              8: 0.2,\n",
    "                              9: 0.1}})\n",
    "# set up plotly figure\n",
    "fig = make_subplots(1,2)\n",
    "\n",
    "# add first bar trace at row = 1, col = 1\n",
    "fig.add_trace(go.Bar(x=df['Index'], y=df['A'],\n",
    "                     name='A',\n",
    "                     marker_color = 'green',\n",
    "                     opacity=0.4,\n",
    "                     marker_line_color='rgb(8,48,107)',\n",
    "                     marker_line_width=2),\n",
    "              row = 1, col = 1)\n",
    "\n",
    "# add first scatter trace at row = 1, col = 1\n",
    "fig.add_trace(go.Scatter(x=df['Index'], y=df['B'], line=dict(color='red'), name='B'),\n",
    "              row = 1, col = 1)\n",
    "\n",
    "# add first bar trace at row = 1, col = 2\n",
    "fig.add_trace(go.Bar(x=df['Index'], y=df['C'],\n",
    "                     name='C',\n",
    "                     marker_color = 'green',\n",
    "                     opacity=0.4,\n",
    "                     marker_line_color='rgb(8,48,107)',\n",
    "                    marker_line_width=2),\n",
    "              row = 1, col = 2)\n",
    "\n",
    "fig.show()"
   ]
  },
  {
   "cell_type": "code",
   "execution_count": 61,
   "metadata": {},
   "outputs": [
    {
     "output_type": "display_data",
     "data": {
      "application/vnd.plotly.v1+json": {
       "config": {
        "plotlyServerURL": "https://plot.ly"
       },
       "data": [
        {
         "marker": {
          "color": "green",
          "line": {
           "color": "rgb(8,48,107)",
           "width": 2
          }
         },
         "name": "A",
         "opacity": 0.4,
         "type": "bar",
         "x": [
          1,
          2,
          3,
          4,
          5,
          6,
          7,
          8,
          9,
          10
         ],
         "y": [
          15,
          6,
          5,
          4,
          3,
          2,
          1,
          0.5,
          0.3,
          0.1
         ]
        },
        {
         "line": {
          "color": "red"
         },
         "name": "B",
         "type": "scatter",
         "x": [
          1,
          2,
          3,
          4,
          5,
          6,
          7,
          8,
          9,
          10
         ],
         "y": [
          1,
          4,
          2,
          5,
          4,
          6,
          7,
          2,
          8,
          1
         ]
        }
       ],
       "layout": {
        "template": {
         "data": {
          "bar": [
           {
            "error_x": {
             "color": "#2a3f5f"
            },
            "error_y": {
             "color": "#2a3f5f"
            },
            "marker": {
             "line": {
              "color": "#E5ECF6",
              "width": 0.5
             }
            },
            "type": "bar"
           }
          ],
          "barpolar": [
           {
            "marker": {
             "line": {
              "color": "#E5ECF6",
              "width": 0.5
             }
            },
            "type": "barpolar"
           }
          ],
          "carpet": [
           {
            "aaxis": {
             "endlinecolor": "#2a3f5f",
             "gridcolor": "white",
             "linecolor": "white",
             "minorgridcolor": "white",
             "startlinecolor": "#2a3f5f"
            },
            "baxis": {
             "endlinecolor": "#2a3f5f",
             "gridcolor": "white",
             "linecolor": "white",
             "minorgridcolor": "white",
             "startlinecolor": "#2a3f5f"
            },
            "type": "carpet"
           }
          ],
          "choropleth": [
           {
            "colorbar": {
             "outlinewidth": 0,
             "ticks": ""
            },
            "type": "choropleth"
           }
          ],
          "contour": [
           {
            "colorbar": {
             "outlinewidth": 0,
             "ticks": ""
            },
            "colorscale": [
             [
              0,
              "#0d0887"
             ],
             [
              0.1111111111111111,
              "#46039f"
             ],
             [
              0.2222222222222222,
              "#7201a8"
             ],
             [
              0.3333333333333333,
              "#9c179e"
             ],
             [
              0.4444444444444444,
              "#bd3786"
             ],
             [
              0.5555555555555556,
              "#d8576b"
             ],
             [
              0.6666666666666666,
              "#ed7953"
             ],
             [
              0.7777777777777778,
              "#fb9f3a"
             ],
             [
              0.8888888888888888,
              "#fdca26"
             ],
             [
              1,
              "#f0f921"
             ]
            ],
            "type": "contour"
           }
          ],
          "contourcarpet": [
           {
            "colorbar": {
             "outlinewidth": 0,
             "ticks": ""
            },
            "type": "contourcarpet"
           }
          ],
          "heatmap": [
           {
            "colorbar": {
             "outlinewidth": 0,
             "ticks": ""
            },
            "colorscale": [
             [
              0,
              "#0d0887"
             ],
             [
              0.1111111111111111,
              "#46039f"
             ],
             [
              0.2222222222222222,
              "#7201a8"
             ],
             [
              0.3333333333333333,
              "#9c179e"
             ],
             [
              0.4444444444444444,
              "#bd3786"
             ],
             [
              0.5555555555555556,
              "#d8576b"
             ],
             [
              0.6666666666666666,
              "#ed7953"
             ],
             [
              0.7777777777777778,
              "#fb9f3a"
             ],
             [
              0.8888888888888888,
              "#fdca26"
             ],
             [
              1,
              "#f0f921"
             ]
            ],
            "type": "heatmap"
           }
          ],
          "heatmapgl": [
           {
            "colorbar": {
             "outlinewidth": 0,
             "ticks": ""
            },
            "colorscale": [
             [
              0,
              "#0d0887"
             ],
             [
              0.1111111111111111,
              "#46039f"
             ],
             [
              0.2222222222222222,
              "#7201a8"
             ],
             [
              0.3333333333333333,
              "#9c179e"
             ],
             [
              0.4444444444444444,
              "#bd3786"
             ],
             [
              0.5555555555555556,
              "#d8576b"
             ],
             [
              0.6666666666666666,
              "#ed7953"
             ],
             [
              0.7777777777777778,
              "#fb9f3a"
             ],
             [
              0.8888888888888888,
              "#fdca26"
             ],
             [
              1,
              "#f0f921"
             ]
            ],
            "type": "heatmapgl"
           }
          ],
          "histogram": [
           {
            "marker": {
             "colorbar": {
              "outlinewidth": 0,
              "ticks": ""
             }
            },
            "type": "histogram"
           }
          ],
          "histogram2d": [
           {
            "colorbar": {
             "outlinewidth": 0,
             "ticks": ""
            },
            "colorscale": [
             [
              0,
              "#0d0887"
             ],
             [
              0.1111111111111111,
              "#46039f"
             ],
             [
              0.2222222222222222,
              "#7201a8"
             ],
             [
              0.3333333333333333,
              "#9c179e"
             ],
             [
              0.4444444444444444,
              "#bd3786"
             ],
             [
              0.5555555555555556,
              "#d8576b"
             ],
             [
              0.6666666666666666,
              "#ed7953"
             ],
             [
              0.7777777777777778,
              "#fb9f3a"
             ],
             [
              0.8888888888888888,
              "#fdca26"
             ],
             [
              1,
              "#f0f921"
             ]
            ],
            "type": "histogram2d"
           }
          ],
          "histogram2dcontour": [
           {
            "colorbar": {
             "outlinewidth": 0,
             "ticks": ""
            },
            "colorscale": [
             [
              0,
              "#0d0887"
             ],
             [
              0.1111111111111111,
              "#46039f"
             ],
             [
              0.2222222222222222,
              "#7201a8"
             ],
             [
              0.3333333333333333,
              "#9c179e"
             ],
             [
              0.4444444444444444,
              "#bd3786"
             ],
             [
              0.5555555555555556,
              "#d8576b"
             ],
             [
              0.6666666666666666,
              "#ed7953"
             ],
             [
              0.7777777777777778,
              "#fb9f3a"
             ],
             [
              0.8888888888888888,
              "#fdca26"
             ],
             [
              1,
              "#f0f921"
             ]
            ],
            "type": "histogram2dcontour"
           }
          ],
          "mesh3d": [
           {
            "colorbar": {
             "outlinewidth": 0,
             "ticks": ""
            },
            "type": "mesh3d"
           }
          ],
          "parcoords": [
           {
            "line": {
             "colorbar": {
              "outlinewidth": 0,
              "ticks": ""
             }
            },
            "type": "parcoords"
           }
          ],
          "pie": [
           {
            "automargin": true,
            "type": "pie"
           }
          ],
          "scatter": [
           {
            "marker": {
             "colorbar": {
              "outlinewidth": 0,
              "ticks": ""
             }
            },
            "type": "scatter"
           }
          ],
          "scatter3d": [
           {
            "line": {
             "colorbar": {
              "outlinewidth": 0,
              "ticks": ""
             }
            },
            "marker": {
             "colorbar": {
              "outlinewidth": 0,
              "ticks": ""
             }
            },
            "type": "scatter3d"
           }
          ],
          "scattercarpet": [
           {
            "marker": {
             "colorbar": {
              "outlinewidth": 0,
              "ticks": ""
             }
            },
            "type": "scattercarpet"
           }
          ],
          "scattergeo": [
           {
            "marker": {
             "colorbar": {
              "outlinewidth": 0,
              "ticks": ""
             }
            },
            "type": "scattergeo"
           }
          ],
          "scattergl": [
           {
            "marker": {
             "colorbar": {
              "outlinewidth": 0,
              "ticks": ""
             }
            },
            "type": "scattergl"
           }
          ],
          "scattermapbox": [
           {
            "marker": {
             "colorbar": {
              "outlinewidth": 0,
              "ticks": ""
             }
            },
            "type": "scattermapbox"
           }
          ],
          "scatterpolar": [
           {
            "marker": {
             "colorbar": {
              "outlinewidth": 0,
              "ticks": ""
             }
            },
            "type": "scatterpolar"
           }
          ],
          "scatterpolargl": [
           {
            "marker": {
             "colorbar": {
              "outlinewidth": 0,
              "ticks": ""
             }
            },
            "type": "scatterpolargl"
           }
          ],
          "scatterternary": [
           {
            "marker": {
             "colorbar": {
              "outlinewidth": 0,
              "ticks": ""
             }
            },
            "type": "scatterternary"
           }
          ],
          "surface": [
           {
            "colorbar": {
             "outlinewidth": 0,
             "ticks": ""
            },
            "colorscale": [
             [
              0,
              "#0d0887"
             ],
             [
              0.1111111111111111,
              "#46039f"
             ],
             [
              0.2222222222222222,
              "#7201a8"
             ],
             [
              0.3333333333333333,
              "#9c179e"
             ],
             [
              0.4444444444444444,
              "#bd3786"
             ],
             [
              0.5555555555555556,
              "#d8576b"
             ],
             [
              0.6666666666666666,
              "#ed7953"
             ],
             [
              0.7777777777777778,
              "#fb9f3a"
             ],
             [
              0.8888888888888888,
              "#fdca26"
             ],
             [
              1,
              "#f0f921"
             ]
            ],
            "type": "surface"
           }
          ],
          "table": [
           {
            "cells": {
             "fill": {
              "color": "#EBF0F8"
             },
             "line": {
              "color": "white"
             }
            },
            "header": {
             "fill": {
              "color": "#C8D4E3"
             },
             "line": {
              "color": "white"
             }
            },
            "type": "table"
           }
          ]
         },
         "layout": {
          "annotationdefaults": {
           "arrowcolor": "#2a3f5f",
           "arrowhead": 0,
           "arrowwidth": 1
          },
          "autotypenumbers": "strict",
          "coloraxis": {
           "colorbar": {
            "outlinewidth": 0,
            "ticks": ""
           }
          },
          "colorscale": {
           "diverging": [
            [
             0,
             "#8e0152"
            ],
            [
             0.1,
             "#c51b7d"
            ],
            [
             0.2,
             "#de77ae"
            ],
            [
             0.3,
             "#f1b6da"
            ],
            [
             0.4,
             "#fde0ef"
            ],
            [
             0.5,
             "#f7f7f7"
            ],
            [
             0.6,
             "#e6f5d0"
            ],
            [
             0.7,
             "#b8e186"
            ],
            [
             0.8,
             "#7fbc41"
            ],
            [
             0.9,
             "#4d9221"
            ],
            [
             1,
             "#276419"
            ]
           ],
           "sequential": [
            [
             0,
             "#0d0887"
            ],
            [
             0.1111111111111111,
             "#46039f"
            ],
            [
             0.2222222222222222,
             "#7201a8"
            ],
            [
             0.3333333333333333,
             "#9c179e"
            ],
            [
             0.4444444444444444,
             "#bd3786"
            ],
            [
             0.5555555555555556,
             "#d8576b"
            ],
            [
             0.6666666666666666,
             "#ed7953"
            ],
            [
             0.7777777777777778,
             "#fb9f3a"
            ],
            [
             0.8888888888888888,
             "#fdca26"
            ],
            [
             1,
             "#f0f921"
            ]
           ],
           "sequentialminus": [
            [
             0,
             "#0d0887"
            ],
            [
             0.1111111111111111,
             "#46039f"
            ],
            [
             0.2222222222222222,
             "#7201a8"
            ],
            [
             0.3333333333333333,
             "#9c179e"
            ],
            [
             0.4444444444444444,
             "#bd3786"
            ],
            [
             0.5555555555555556,
             "#d8576b"
            ],
            [
             0.6666666666666666,
             "#ed7953"
            ],
            [
             0.7777777777777778,
             "#fb9f3a"
            ],
            [
             0.8888888888888888,
             "#fdca26"
            ],
            [
             1,
             "#f0f921"
            ]
           ]
          },
          "colorway": [
           "#636efa",
           "#EF553B",
           "#00cc96",
           "#ab63fa",
           "#FFA15A",
           "#19d3f3",
           "#FF6692",
           "#B6E880",
           "#FF97FF",
           "#FECB52"
          ],
          "font": {
           "color": "#2a3f5f"
          },
          "geo": {
           "bgcolor": "white",
           "lakecolor": "white",
           "landcolor": "#E5ECF6",
           "showlakes": true,
           "showland": true,
           "subunitcolor": "white"
          },
          "hoverlabel": {
           "align": "left"
          },
          "hovermode": "closest",
          "mapbox": {
           "style": "light"
          },
          "paper_bgcolor": "white",
          "plot_bgcolor": "#E5ECF6",
          "polar": {
           "angularaxis": {
            "gridcolor": "white",
            "linecolor": "white",
            "ticks": ""
           },
           "bgcolor": "#E5ECF6",
           "radialaxis": {
            "gridcolor": "white",
            "linecolor": "white",
            "ticks": ""
           }
          },
          "scene": {
           "xaxis": {
            "backgroundcolor": "#E5ECF6",
            "gridcolor": "white",
            "gridwidth": 2,
            "linecolor": "white",
            "showbackground": true,
            "ticks": "",
            "zerolinecolor": "white"
           },
           "yaxis": {
            "backgroundcolor": "#E5ECF6",
            "gridcolor": "white",
            "gridwidth": 2,
            "linecolor": "white",
            "showbackground": true,
            "ticks": "",
            "zerolinecolor": "white"
           },
           "zaxis": {
            "backgroundcolor": "#E5ECF6",
            "gridcolor": "white",
            "gridwidth": 2,
            "linecolor": "white",
            "showbackground": true,
            "ticks": "",
            "zerolinecolor": "white"
           }
          },
          "shapedefaults": {
           "line": {
            "color": "#2a3f5f"
           }
          },
          "ternary": {
           "aaxis": {
            "gridcolor": "white",
            "linecolor": "white",
            "ticks": ""
           },
           "baxis": {
            "gridcolor": "white",
            "linecolor": "white",
            "ticks": ""
           },
           "bgcolor": "#E5ECF6",
           "caxis": {
            "gridcolor": "white",
            "linecolor": "white",
            "ticks": ""
           }
          },
          "title": {
           "x": 0.05
          },
          "xaxis": {
           "automargin": true,
           "gridcolor": "white",
           "linecolor": "white",
           "ticks": "",
           "title": {
            "standoff": 15
           },
           "zerolinecolor": "white",
           "zerolinewidth": 2
          },
          "yaxis": {
           "automargin": true,
           "gridcolor": "white",
           "linecolor": "white",
           "ticks": "",
           "title": {
            "standoff": 15
           },
           "zerolinecolor": "white",
           "zerolinewidth": 2
          }
         }
        }
       }
      }
     },
     "metadata": {}
    }
   ],
   "source": [
    "from plotly.subplots import make_subplots\n",
    "import plotly.graph_objects as go\n",
    "import pandas as pd\n",
    "import numpy as np\n",
    "\n",
    "# data\n",
    "df = pd.DataFrame({'Index': {0: 1.0,\n",
    "                              1: 2.0,\n",
    "                              2: 3.0,\n",
    "                              3: 4.0,\n",
    "                              4: 5.0,\n",
    "                              5: 6.0,\n",
    "                              6: 7.0,\n",
    "                              7: 8.0,\n",
    "                              8: 9.0,\n",
    "                              9: 10.0},\n",
    "                             'A': {0: 15.0,\n",
    "                              1: 6.0,\n",
    "                              2: 5.0,\n",
    "                              3: 4.0,\n",
    "                              4: 3.0,\n",
    "                              5: 2.0,\n",
    "                              6: 1.0,\n",
    "                              7: 0.5,\n",
    "                              8: 0.3,\n",
    "                              9: 0.1},\n",
    "                             'B': {0: 1.0,\n",
    "                              1: 4.0,\n",
    "                              2: 2.0,\n",
    "                              3: 5.0,\n",
    "                              4: 4.0,\n",
    "                              5: 6.0,\n",
    "                              6: 7.0,\n",
    "                              7: 2.0,\n",
    "                              8: 8.0,\n",
    "                              9: 1.0},\n",
    "                             'C': {0: 12.0,\n",
    "                              1: 6.0,\n",
    "                              2: 5.0,\n",
    "                              3: 4.0,\n",
    "                              4: 3.0,\n",
    "                              5: 2.0,\n",
    "                              6: 1.0,\n",
    "                              7: 0.5,\n",
    "                              8: 0.2,\n",
    "                              9: 0.1}})\n",
    "# set up plotly figure\n",
    "fig = go.Figure()\n",
    "\n",
    "# add first bar trace at row = 1, col = 1\n",
    "fig.add_trace(go.Bar(x=df['Index'], y=df['A'],\n",
    "                     name='A',\n",
    "                     marker_color = 'green',\n",
    "                     opacity=0.4,\n",
    "                     marker_line_color='rgb(8,48,107)',\n",
    "                     marker_line_width=2))\n",
    "\n",
    "# add first scatter trace at row = 1, col = 1\n",
    "fig.add_trace(go.Scatter(x=df['Index'], y=df['B'], line=dict(color='red'), name='B'))\n",
    "\n",
    "fig.show()"
   ]
  },
  {
   "cell_type": "code",
   "execution_count": null,
   "metadata": {},
   "outputs": [],
   "source": []
  }
 ]
}