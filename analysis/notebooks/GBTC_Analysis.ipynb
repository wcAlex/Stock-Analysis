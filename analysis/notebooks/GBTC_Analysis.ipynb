{
 "metadata": {
  "language_info": {
   "codemirror_mode": {
    "name": "ipython",
    "version": 3
   },
   "file_extension": ".py",
   "mimetype": "text/x-python",
   "name": "python",
   "nbconvert_exporter": "python",
   "pygments_lexer": "ipython3",
   "version": "3.8.8-final"
  },
  "orig_nbformat": 2,
  "kernelspec": {
   "name": "python3",
   "display_name": "Python 3.8.8 64-bit ('robinhood': conda)",
   "metadata": {
    "interpreter": {
     "hash": "75c9c67fb9b306f1bc491b7efdd7c181fce84fca56d807813694b724f3f132b5"
    }
   }
  }
 },
 "nbformat": 4,
 "nbformat_minor": 2,
 "cells": [
  {
   "cell_type": "code",
   "execution_count": 61,
   "metadata": {},
   "outputs": [],
   "source": [
    "%matplotlib inline\n",
    "\n",
    "import pandas as pd\n",
    "import matplotlib.pyplot as plt\n",
    "import numpy as np\n",
    "\n",
    "import plotly.graph_objects as go\n",
    "pd.options.plotting.backend = \"plotly\""
   ]
  },
  {
   "source": [
    "# Prepare dataset"
   ],
   "cell_type": "markdown",
   "metadata": {}
  },
  {
   "source": [
    "# Load all gbtc data\n",
    "df_minute_gbtc_2020_12_01_2021_04_18 = pd.read_csv(\"../data/raw/gbtc_minute_2020-12-01_2021-04-18.csv\", sep=\",\", index_col='date')\n",
    "df_minute_gbtc_2020_12_01_2021_04_18.index.astype('datetime64[ns]')\n",
    "\n",
    "df_gbtc_minute = df_minute_gbtc_2020_12_01_2021_04_18.drop_duplicates().sort_index(ascending=True)\n",
    "df_gbtc_minute['time'] = (df_gbtc_minute['datetime'] / 1000).astype('int64')\n",
    "# df_min = pd.concat([df_minute_gbtc_2020_12_01_2021_04_18, {more data in future}]).drop_duplicates().sort_index(ascending=True)\n",
    "\n",
    "# Load all btc data\n",
    "df_minute_btc_usd_minute_2020_06_01_2021_04_18 = pd.read_csv(\"../data/raw/btc-usd_minute_2020-06-01_2021-04-18.csv\", sep=\",\", index_col='date')\n",
    "df_minute_btc_usd_minute_2020_06_01_2021_04_18.index.astype('datetime64[ns]')\n",
    "df_btc_minute = df_minute_btc_usd_minute_2020_06_01_2021_04_18.drop_duplicates()\n",
    "df_btc_minute = df_btc_minute.sort_index(ascending=True)\n",
    "\n",
    "df_btc_minute = df_btc_minute['2021-03-01': ]\n",
    "\n"
   ],
   "cell_type": "code",
   "metadata": {},
   "execution_count": 62,
   "outputs": []
  },
  {
   "cell_type": "code",
   "execution_count": 63,
   "metadata": {},
   "outputs": [],
   "source": [
    "# Join btc with gbtc on time.\n",
    "df_minute = pd.merge(df_btc_minute, df_gbtc_minute, on=\"time\", how=\"left\")\n",
    "\n",
    "df_minute = df_minute.rename(columns = {'low_price':'btc_low_price', 'high_price':'btc_high_price', 'close_price':'btc_close_price', 'open_price':'btc_open_price', 'volume_x':'btc_volume', 'time':'time', 'open':'gbtc_open_price', 'high':'gbtc_high_price', \n",
    "'low':'gbtc_low_price', 'close':'gbtc_close_price', 'volume_y':'gbtc_volume'})\n",
    "\n",
    "df_minute = df_minute.drop(columns=['datetime'])\n",
    "df_minute['datetime'] = df_minute['time'].apply(lambda d: datetime.utcfromtimestamp(d)) \n",
    "df_minute = df_minute.set_index('datetime')\n",
    "df_minute.index.astype('datetime64[ns]')\n",
    "\n",
    "# df_minute = df_minute.dropna()\n",
    "df_minute.to_csv(\"../data/btc_gbtc/btc_gbtc_minute_2021.csv\")"
   ]
  },
  {
   "cell_type": "code",
   "execution_count": null,
   "metadata": {},
   "outputs": [],
   "source": []
  }
 ]
}