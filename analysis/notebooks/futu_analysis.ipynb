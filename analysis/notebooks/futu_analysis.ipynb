{
 "metadata": {
  "language_info": {
   "codemirror_mode": {
    "name": "ipython",
    "version": 3
   },
   "file_extension": ".py",
   "mimetype": "text/x-python",
   "name": "python",
   "nbconvert_exporter": "python",
   "pygments_lexer": "ipython3",
   "version": "3.8.8"
  },
  "orig_nbformat": 2,
  "kernelspec": {
   "name": "python388jvsc74a57bd0e14084e4593e24a6765657faa4978e59c289b8b42f9b4afb83948b7ad10822f3",
   "display_name": "Python 3.8.8 64-bit ('robinhood': conda)"
  }
 },
 "nbformat": 4,
 "nbformat_minor": 2,
 "cells": [
  {
   "cell_type": "code",
   "execution_count": 1,
   "metadata": {},
   "outputs": [],
   "source": [
    "%matplotlib inline\n",
    "\n",
    "import pandas as pd\n",
    "import matplotlib.pyplot as plt\n",
    "import numpy as np\n",
    "from datetime import datetime\n",
    "\n",
    "import plotly.graph_objects as go\n",
    "import pytz\n",
    "pd.options.plotting.backend = \"plotly\"\n",
    "\n"
   ]
  },
  {
   "cell_type": "code",
   "execution_count": 18,
   "metadata": {},
   "outputs": [],
   "source": [
    "# Load all gbtc data\n",
    "df_futu_minute_gbtc_2020_06_01_2021_05_06 = pd.read_csv(\"../data/raw/futu_gbtc_minute_2020-06-01_2021-05-06.csv\", sep=\",\")\n",
    "# df_futu_minute_gbtc_2020_06_01_2021_05_06['date'] = df_futu_minute_gbtc_2020_06_01_2021_05_06['date_edt'].apply(lambda d: )\n",
    "df_futu_minute_gbtc_2020_06_01_2021_05_06['date_edt'].astype('datetime64[ns]')\n",
    "\n",
    "# df_futu_gbtc_minute = pd.concat([df_futu_minute_gbtc_2020_06_01_2021_05_06, xxxx]).drop_duplicates().sort_index(ascending=True)\n",
    "df_futu_gbtc_minute = df_futu_minute_gbtc_2020_06_01_2021_05_06\n",
    "\n",
    "eastern=pytz.timezone('US/Eastern')\n",
    "utc=pytz.utc\n",
    "df_futu_gbtc_minute['date'] = df_futu_gbtc_minute['date_edt'].apply(lambda d: (eastern.localize(datetime.strptime(d,\"%Y-%m-%d %H:%M:%S\"), is_dst=None)).astimezone(utc))\n",
    "df_futu_gbtc_minute = df_futu_gbtc_minute.set_index('date')\n",
    "df_futu_gbtc_minute.index.astype('datetime64[ns]')\n",
    "# df_futu_gbtc_minute\n",
    "\n",
    "# Load all btc data\n",
    "df_minute_btc_usd_minute_2020_06_01_2021_04_18 = pd.read_csv(\"../data/raw/btc-usd_minute_2020-06-01_2021-04-18.csv\", sep=\",\", index_col='date')\n",
    "df_minute_btc_usd_minute_2020_06_01_2021_04_18.index.astype('datetime64[ns]')\n",
    "df_minute_btc_usd_minute_2021_04_18_2021_05_01 = pd.read_csv(\"../data/raw/btc-usd_minute_2021-04-18_2021-05-01.csv\", sep=\",\", index_col='date')\n",
    "df_minute_btc_usd_minute_2021_04_18_2021_05_01.index.astype('datetime64[ns]')\n",
    "\n",
    "df_btc_minute = pd.concat([df_minute_btc_usd_minute_2020_06_01_2021_04_18, df_minute_btc_usd_minute_2021_04_18_2021_05_01]).drop_duplicates().sort_index(ascending=True)\n",
    "df_btc_minute.index = pd.to_datetime(df_btc_minute.index, utc = True)\n",
    "df_btc_minute.index.astype('datetime64[ns]')\n",
    "df_btc_minute = df_btc_minute.sort_index(ascending=True)\n",
    "\n"
   ]
  },
  {
   "cell_type": "code",
   "execution_count": 21,
   "metadata": {},
   "outputs": [],
   "source": [
    "# Get GBTC-BTC\n",
    "df_minute = pd.merge(df_btc_minute, df_futu_gbtc_minute, on=\"date\", how=\"left\")\n",
    "\n",
    "df_minute = df_minute.rename(columns = {'low_price':'btc_low_price', 'high_price':'btc_high_price', 'close_price':'btc_close_price', 'open_price':'btc_open_price', 'volume_x':'btc_volume', 'time':'time', 'date_edt':'gbtc_date_edt', 'open':'gbtc_open_price', 'high':'gbtc_high_price', \n",
    "'low':'gbtc_low_price', 'close':'gbtc_close_price', 'volume_y':'gbtc_volume'})\n",
    "\n",
    "btc_per_share = (0.00094509 + 0.000944257 + 0.000943585) / 3 \n",
    "\n",
    "df_minute[\"nav_open_price\"] = df_minute[\"btc_open_price\"] * btc_per_share\n",
    "df_minute[\"nav_close_price\"] = df_minute[\"btc_close_price\"] * btc_per_share\n",
    "df_minute[\"nav_high_price\"] = df_minute[\"btc_high_price\"] * btc_per_share\n",
    "df_minute[\"nav_low_price\"] = df_minute[\"btc_low_price\"] * btc_per_share\n",
    "\n",
    "df_minute[\"premium\"] = (df_minute[\"gbtc_close_price\"] - df_minute[\"nav_close_price\"]) / df_minute[\"nav_close_price\"]\n",
    "df_minute[\"premium_high\"] = (df_minute[\"gbtc_high_price\"] - df_minute[\"nav_high_price\"]) / df_minute[\"nav_high_price\"]\n",
    "df_minute[\"premium_open\"] = (df_minute[\"gbtc_open_price\"] - df_minute[\"nav_open_price\"]) / df_minute[\"nav_open_price\"]\n",
    "df_minute[\"premium_close\"] = (df_minute[\"gbtc_close_price\"] - df_minute[\"nav_close_price\"]) / df_minute[\"nav_close_price\"]\n",
    "df_minute[\"premium_low\"] = (df_minute[\"gbtc_low_price\"] - df_minute[\"nav_low_price\"]) / df_minute[\"nav_low_price\"]\n",
    "# df_minute = df_minute.dropna()\n",
    "df_minute.to_csv(\"../data/btc_gbtc/futu_btc_gbtc_minute_2021.csv\")"
   ]
  },
  {
   "cell_type": "code",
   "execution_count": 27,
   "metadata": {},
   "outputs": [],
   "source": [
    "# Get OBTC-BTC\n",
    "\n",
    "df_futu_minute_obtc_2021_01_01_2021_05_06 = pd.read_csv(\"../data/raw/futu_obtc_minute_2021-01-01_2021-05-06.csv\", sep=\",\")\n",
    "df_futu_minute_obtc_2021_01_01_2021_05_06['date_edt'].astype('datetime64[ns]')\n",
    "\n",
    "# df_futu_gbtc_minute = pd.concat([df_futu_minute_gbtc_2020_06_01_2021_05_06, xxxx]).drop_duplicates().sort_index(ascending=True)\n",
    "df_futu_obtc_minute = df_futu_minute_obtc_2021_01_01_2021_05_06\n",
    "\n",
    "eastern=pytz.timezone('US/Eastern')\n",
    "utc=pytz.utc\n",
    "df_futu_obtc_minute['date'] = df_futu_obtc_minute['date_edt'].apply(lambda d: (eastern.localize(datetime.strptime(d,\"%Y-%m-%d %H:%M:%S\"), is_dst=None)).astimezone(utc))\n",
    "df_futu_obtc_minute = df_futu_obtc_minute.set_index('date')\n",
    "df_futu_obtc_minute.index.astype('datetime64[ns]')\n",
    "\n",
    "# df_futu_obtc_minute\n",
    "df_obtc_minute = pd.merge(df_btc_minute, df_futu_obtc_minute, on=\"date\", how=\"left\")\n",
    "\n",
    "df_obtc_minute = df_obtc_minute.rename(columns = {'low_price':'btc_low_price', 'high_price':'btc_high_price', 'close_price':'btc_close_price', 'open_price':'btc_open_price', 'volume_x':'btc_volume', 'time':'time', 'date_edt':'obtc_date_edt', 'open':'obtc_open_price', 'high':'obtc_high_price', \n",
    "'low':'obtc_low_price', 'close':'obtc_close_price', 'volume_y':'obtc_volume'})\n",
    "\n",
    "btc_per_share = 0.000341 \n",
    "\n",
    "df_obtc_minute[\"nav_open_price\"] = df_obtc_minute[\"btc_open_price\"] * btc_per_share\n",
    "df_obtc_minute[\"nav_close_price\"] = df_obtc_minute[\"btc_close_price\"] * btc_per_share\n",
    "df_obtc_minute[\"nav_high_price\"] = df_obtc_minute[\"btc_high_price\"] * btc_per_share\n",
    "df_obtc_minute[\"nav_low_price\"] = df_obtc_minute[\"btc_low_price\"] * btc_per_share\n",
    "\n",
    "df_obtc_minute[\"premium\"] = (df_obtc_minute[\"obtc_close_price\"] - df_obtc_minute[\"nav_close_price\"]) / df_obtc_minute[\"nav_close_price\"]\n",
    "df_obtc_minute[\"premium_high\"] = (df_obtc_minute[\"obtc_high_price\"] - df_obtc_minute[\"nav_high_price\"]) / df_obtc_minute[\"nav_high_price\"]\n",
    "df_obtc_minute[\"premium_open\"] = (df_obtc_minute[\"obtc_open_price\"] - df_obtc_minute[\"nav_open_price\"]) / df_obtc_minute[\"nav_open_price\"]\n",
    "df_obtc_minute[\"premium_close\"] = (df_obtc_minute[\"obtc_close_price\"] - df_obtc_minute[\"nav_close_price\"]) / df_obtc_minute[\"nav_close_price\"]\n",
    "df_obtc_minute[\"premium_low\"] = (df_obtc_minute[\"obtc_low_price\"] - df_obtc_minute[\"nav_low_price\"]) / df_obtc_minute[\"nav_low_price\"]\n",
    "# df_minute = df_minute.dropna()\n",
    "df_obtc_minute = df_obtc_minute['2021-03-15': ]\n",
    "df_obtc_minute.to_csv(\"../data/btc_gbtc/futu_btc_obtc_minute_2021.csv\")"
   ]
  },
  {
   "cell_type": "code",
   "execution_count": null,
   "metadata": {},
   "outputs": [],
   "source": []
  }
 ]
}